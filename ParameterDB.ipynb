{
 "metadata": {
  "name": "",
  "signature": "sha256:7cd47c477791e499930f4cb3e0200e373b27e611b30f1ec500f2bcbb68955a68"
 },
 "nbformat": 3,
 "nbformat_minor": 0,
 "worksheets": [
  {
   "cells": [
    {
     "cell_type": "heading",
     "level": 1,
     "metadata": {},
     "source": [
      "ParameterDB"
     ]
    },
    {
     "cell_type": "markdown",
     "metadata": {},
     "source": [
      "This notebook creates the ParameterDB and allows the user to manipulate and inspect the DB.  The ParameterDB is the collection of parameter information that comes from FlySound experiments.  The data is organized according to ['date','cell (or pair)','protocol','block','trial'].  This notebook will import a csv file that will contain the indexing information ('date','cell') from the data folder, and then all the csv files containing information about the trials themselves.  This will come from running `structarray2csv` in matlab on the \"Protocol data structure\" array.\n",
      "\n",
      "The DB will be implemented as a DataFrame, `ParameterDB`.  Hierarchical indices will be labeled as 'date', 'cell', 'protocol', 'block', 'trial'.  The parameter labels ('columns') reflect the trial parameters themselves and will include 'dir','name' as unique identifiers, as well as the union of all parameters from all protocols.  Some are consistent (gain, mode), others depend on the protocols (fred, amp, displacement).  There will be no need for the plural parameters (amps, freqs), each parameter will be a single number or string.  Those trials that don't have a particular parameter will simply have NaN in those entries (e.g. a PiezoSine will not have an \"amp\" parameter entry, as that is for the CurrentSine protocol).\n",
      "\n",
      "There will have to be the ability to add extra columns across the database."
     ]
    },
    {
     "cell_type": "code",
     "collapsed": false,
     "input": [],
     "language": "python",
     "metadata": {},
     "outputs": []
    }
   ],
   "metadata": {}
  }
 ]
}