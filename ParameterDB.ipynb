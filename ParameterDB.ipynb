{
 "metadata": {
  "name": "",
  "signature": "sha256:6384ff1a367182a07c6a9679447b21c5299d855e7588c12a4e56be6248626120"
 },
 "nbformat": 3,
 "nbformat_minor": 0,
 "worksheets": [
  {
   "cells": [
    {
     "cell_type": "heading",
     "level": 1,
     "metadata": {},
     "source": [
      "ParameterDB"
     ]
    },
    {
     "cell_type": "markdown",
     "metadata": {},
     "source": [
      "This notebook creates the ParameterDB and allows the user to manipulate and inspect the DB.  The ParameterDB is the collection of parameter information that comes from FlySound experiments.  The data is organized according to ['date','cell (or pair)','protocol','block','trial'].  This notebook will import a csv file that will contain the indexing information ('date','cell') from the data folder, and then all the csv files containing information about the trials themselves.  This will come from running `structarray2csv` in matlab on the \"Protocol data structure\" array.\n",
      "\n",
      "The DB will be implemented as a DataFrame, `ParameterDB`.  Hierarchical indices will be labeled as 'date', 'cell', 'protocol', 'block', 'trial'.  The parameter labels ('columns') reflect the trial parameters themselves and will include 'dir','name' as unique identifiers, as well as the union of all parameters from all protocols.  Some are consistent (gain, mode), others depend on the protocols (fred, amp, displacement).  There will be no need for the plural parameters (amps, freqs), each parameter will be a single number or string.  Those trials that don't have a particular parameter will simply have NaN in those entries (e.g. a PiezoSine will not have an \"amp\" parameter entry, as that is for the CurrentSine protocol).\n",
      "\n",
      "There will have to be the ability to add extra columns across the database in order to add annotation or other things to this"
     ]
    },
    {
     "cell_type": "code",
     "collapsed": false,
     "input": [
      "%matplotlib inline\n",
      "import pandas as pd\n",
      "import numpy as np\n",
      "import os\n",
      "import copy\n",
      "\n",
      "from os.path import join, getsize\n",
      "from datetime import datetime\n",
      "from dateutil.parser import parse\n",
      "from collections import deque\n",
      "\n",
      "# Set some Pandas options\n",
      "pd.set_option('display.notebook_repr_html', False)\n",
      "pd.set_option('display.max_columns', 20)\n",
      "pd.set_option('display.max_rows', 25)"
     ],
     "language": "python",
     "metadata": {},
     "outputs": [],
     "prompt_number": 2
    },
    {
     "cell_type": "code",
     "collapsed": false,
     "input": [
      "queue = deque()\n",
      "\n",
      "csvfiles = '';\n",
      "for root, dirs, files in os.walk('.'):\n",
      "    print root\n",
      "    if '.git' in dirs:\n",
      "        dirs.remove('.git')  # don't visit CVS directories\n",
      "    for f in files:\n",
      "        if '.csv' in f:\n",
      "            queue.append(join(root,f))\n",
      "            \n",
      "testqueue = copy.copy(queue)\n",
      "testqueue"
     ],
     "language": "python",
     "metadata": {},
     "outputs": [
      {
       "output_type": "stream",
       "stream": "stdout",
       "text": [
        ".\n",
        "./140218\n",
        "./140218/140218_F2_C2\n",
        "./140218/140218_F3_C1\n",
        "./140219\n",
        "./140219/140219_F3_C4\n",
        "./140424\n",
        "./140424/140424_F1_C1\n",
        "./140424/140424_F1_C2\n"
       ]
      },
      {
       "metadata": {},
       "output_type": "pyout",
       "prompt_number": 157,
       "text": [
        "deque(['./140218/140218_F2_C2/PiezoBWCourtshipSong_140218_F2_C2.csv', './140218/140218_F2_C2/PiezoChirp_140218_F2_C2.csv', './140218/140218_F2_C2/PiezoSine_140218_F2_C2.csv', './140218/140218_F2_C2/PiezoSquareWave_140218_F2_C2.csv', './140218/140218_F2_C2/PiezoStep_140218_F2_C2.csv', './140218/140218_F2_C2/SealAndLeak_140218_F2_C2.csv', './140218/140218_F2_C2/Sweep_140218_F2_C2.csv', './140218/140218_F3_C1/PiezoChirp_140218_F3_C1.csv', './140218/140218_F3_C1/PiezoSine_140218_F3_C1.csv', './140218/140218_F3_C1/PiezoSquareWave_140218_F3_C1.csv', './140218/140218_F3_C1/PiezoStep_140218_F3_C1.csv', './140218/140218_F3_C1/SealAndLeak_140218_F3_C1.csv', './140218/140218_F3_C1/Sweep_140218_F3_C1.csv', './140219/140219_F3_C4/PiezoBWCourtshipSong_140219_F3_C4.csv', './140219/140219_F3_C4/PiezoChirp_140219_F3_C4.csv', './140219/140219_F3_C4/PiezoCourtshipSong_140219_F3_C4.csv', './140219/140219_F3_C4/PiezoSine_140219_F3_C4.csv', './140219/140219_F3_C4/PiezoSquareWave_140219_F3_C4.csv', './140219/140219_F3_C4/PiezoStep_140219_F3_C4.csv', './140219/140219_F3_C4/SealAndLeak_140219_F3_C4.csv', './140219/140219_F3_C4/Sweep_140219_F3_C4.csv', './140424/140424_F1_C1/CurrentSine_140424_F1_C1.csv', './140424/140424_F1_C1/CurrentStep_140424_F1_C1.csv', './140424/140424_F1_C2/CurrentSine_140424_F1_C2.csv', './140424/140424_F1_C2/CurrentStep_140424_F1_C2.csv'])"
       ]
      }
     ],
     "prompt_number": 157
    },
    {
     "cell_type": "code",
     "collapsed": false,
     "input": [
      "while len(testqueue) > 0: print testqueue.popleft()"
     ],
     "language": "python",
     "metadata": {},
     "outputs": [
      {
       "output_type": "stream",
       "stream": "stdout",
       "text": [
        "./140218/140218_F2_C2/PiezoBWCourtshipSong_140218_F2_C2.csv\n",
        "./140218/140218_F2_C2/PiezoChirp_140218_F2_C2.csv\n",
        "./140218/140218_F2_C2/PiezoSine_140218_F2_C2.csv\n",
        "./140218/140218_F2_C2/PiezoSquareWave_140218_F2_C2.csv\n",
        "./140218/140218_F2_C2/PiezoStep_140218_F2_C2.csv\n",
        "./140218/140218_F2_C2/SealAndLeak_140218_F2_C2.csv\n",
        "./140218/140218_F2_C2/Sweep_140218_F2_C2.csv\n",
        "./140218/140218_F3_C1/PiezoChirp_140218_F3_C1.csv\n",
        "./140218/140218_F3_C1/PiezoSine_140218_F3_C1.csv\n",
        "./140218/140218_F3_C1/PiezoSquareWave_140218_F3_C1.csv\n",
        "./140218/140218_F3_C1/PiezoStep_140218_F3_C1.csv\n",
        "./140218/140218_F3_C1/SealAndLeak_140218_F3_C1.csv\n",
        "./140218/140218_F3_C1/Sweep_140218_F3_C1.csv\n",
        "./140219/140219_F3_C4/PiezoBWCourtshipSong_140219_F3_C4.csv\n",
        "./140219/140219_F3_C4/PiezoChirp_140219_F3_C4.csv\n",
        "./140219/140219_F3_C4/PiezoCourtshipSong_140219_F3_C4.csv\n",
        "./140219/140219_F3_C4/PiezoSine_140219_F3_C4.csv\n",
        "./140219/140219_F3_C4/PiezoSquareWave_140219_F3_C4.csv\n",
        "./140219/140219_F3_C4/PiezoStep_140219_F3_C4.csv\n",
        "./140219/140219_F3_C4/SealAndLeak_140219_F3_C4.csv\n",
        "./140219/140219_F3_C4/Sweep_140219_F3_C4.csv\n",
        "./140424/140424_F1_C1/CurrentSine_140424_F1_C1.csv\n",
        "./140424/140424_F1_C1/CurrentStep_140424_F1_C1.csv\n",
        "./140424/140424_F1_C2/CurrentSine_140424_F1_C2.csv\n",
        "./140424/140424_F1_C2/CurrentStep_140424_F1_C2.csv\n"
       ]
      }
     ],
     "prompt_number": 158
    },
    {
     "cell_type": "code",
     "collapsed": false,
     "input": [
      "from dateutil.parser import parse\n",
      "\n",
      "csvfile = queue[0]\n",
      "pdb = pd.read_csv(csvfile)\n",
      "#pdb.timestamp = pdb.timestamp.apply(lambda d: parse(d))\n",
      "pdb.timestamp[0]"
     ],
     "language": "python",
     "metadata": {},
     "outputs": [
      {
       "metadata": {},
       "output_type": "pyout",
       "prompt_number": 159,
       "text": [
        "'01-May-2014 21:03:19'"
       ]
      }
     ],
     "prompt_number": 159
    },
    {
     "cell_type": "code",
     "collapsed": false,
     "input": [
      "pdb.columns"
     ],
     "language": "python",
     "metadata": {},
     "outputs": [
      {
       "metadata": {},
       "output_type": "pyout",
       "prompt_number": 160,
       "text": [
        "Index([u'displacement', u'displacementOffset', u'displacements', u'durSweep', u'gain', u'mode', u'postDurInSec', u'preDurInSec', u'protocol', u'ramptime', u'sampratein', u'samprateout', u'secondary_gain', u'stimDurInSec', u'Vm_id', u'trial', u'trialBlock', u'tags', u'rawname', u'datestr', u'idstr', u'fly', u'cell', u'genotype', u'timestamp', u'path'], dtype=object)"
       ]
      }
     ],
     "prompt_number": 160
    },
    {
     "cell_type": "code",
     "collapsed": false,
     "input": [
      "pdb_h = pdb.set_index(['genotype','datestr','fly','cell','protocol'])"
     ],
     "language": "python",
     "metadata": {},
     "outputs": [],
     "prompt_number": 161
    },
    {
     "cell_type": "code",
     "collapsed": false,
     "input": [
      "pdb_h.index"
     ],
     "language": "python",
     "metadata": {},
     "outputs": [
      {
       "metadata": {},
       "output_type": "pyout",
       "prompt_number": 162,
       "text": [
        "MultiIndex\n",
        "[(u'GH86-Gal4/+;pJFRC7/+;VT34811/+', 140218, 2, 2, u'PiezoBWCourtshipSong'), (u'GH86-Gal4/+;pJFRC7/+;VT34811/+', 140218, 2, 2, u'PiezoBWCourtshipSong'), (u'GH86-Gal4/+;pJFRC7/+;VT34811/+', 140218, 2, 2, u'PiezoBWCourtshipSong'), (u'GH86-Gal4/+;pJFRC7/+;VT34811/+', 140218, 2, 2, u'PiezoBWCourtshipSong'), (u'GH86-Gal4/+;pJFRC7/+;VT34811/+', 140218, 2, 2, u'PiezoBWCourtshipSong'), (u'GH86-Gal4/+;pJFRC7/+;VT34811/+', 140218, 2, 2, u'PiezoBWCourtshipSong'), (u'GH86-Gal4/+;pJFRC7/+;VT34811/+', 140218, 2, 2, u'PiezoBWCourtshipSong'), (u'GH86-Gal4/+;pJFRC7/+;VT34811/+', 140218, 2, 2, u'PiezoBWCourtshipSong'), (u'GH86-Gal4/+;pJFRC7/+;VT34811/+', 140218, 2, 2, u'PiezoBWCourtshipSong')]"
       ]
      }
     ],
     "prompt_number": 162
    },
    {
     "cell_type": "code",
     "collapsed": false,
     "input": [
      "test_h = pdb_h.xs('PiezoBWCourtshipSong',level=4)\n",
      "test_h"
     ],
     "language": "python",
     "metadata": {},
     "outputs": [
      {
       "metadata": {},
       "output_type": "pyout",
       "prompt_number": 163,
       "text": [
        "<class 'pandas.core.frame.DataFrame'>\n",
        "MultiIndex: 9 entries, (GH86-Gal4/+;pJFRC7/+;VT34811/+, 140218, 2, 2) to (GH86-Gal4/+;pJFRC7/+;VT34811/+, 140218, 2, 2)\n",
        "Data columns (total 21 columns):\n",
        "displacement          9  non-null values\n",
        "displacementOffset    9  non-null values\n",
        "displacements         9  non-null values\n",
        "durSweep              9  non-null values\n",
        "gain                  9  non-null values\n",
        "mode                  9  non-null values\n",
        "postDurInSec          9  non-null values\n",
        "preDurInSec           9  non-null values\n",
        "ramptime              9  non-null values\n",
        "sampratein            9  non-null values\n",
        "samprateout           9  non-null values\n",
        "secondary_gain        9  non-null values\n",
        "stimDurInSec          9  non-null values\n",
        "Vm_id                 9  non-null values\n",
        "trial                 9  non-null values\n",
        "trialBlock            9  non-null values\n",
        "tags                  0  non-null values\n",
        "rawname               9  non-null values\n",
        "idstr                 9  non-null values\n",
        "timestamp             9  non-null values\n",
        "path                  9  non-null values\n",
        "dtypes: float64(6), int64(9), object(6)"
       ]
      }
     ],
     "prompt_number": 163
    },
    {
     "cell_type": "code",
     "collapsed": false,
     "input": [
      "paramdb = pd.DataFrame()\n",
      "\n",
      "csvfile = queue[0]\n",
      "pdb1 = pd.read_csv(csvfile)\n",
      "pdb1.timestamp = pdb1.timestamp.apply(lambda d: parse(d))\n",
      "\n",
      "paramdb1 = pd.concat([paramdb,pdb],axis=0,ignore_index=True)\n",
      "paramdb1"
     ],
     "language": "python",
     "metadata": {},
     "outputs": [
      {
       "metadata": {},
       "output_type": "pyout",
       "prompt_number": 164,
       "text": [
        "<class 'pandas.core.frame.DataFrame'>\n",
        "Int64Index: 9 entries, 0 to 8\n",
        "Data columns (total 26 columns):\n",
        "Vm_id                 9  non-null values\n",
        "cell                  9  non-null values\n",
        "datestr               9  non-null values\n",
        "displacement          9  non-null values\n",
        "displacementOffset    9  non-null values\n",
        "displacements         9  non-null values\n",
        "durSweep              9  non-null values\n",
        "fly                   9  non-null values\n",
        "gain                  9  non-null values\n",
        "genotype              9  non-null values\n",
        "idstr                 9  non-null values\n",
        "mode                  9  non-null values\n",
        "path                  9  non-null values\n",
        "postDurInSec          9  non-null values\n",
        "preDurInSec           9  non-null values\n",
        "protocol              9  non-null values\n",
        "ramptime              9  non-null values\n",
        "rawname               9  non-null values\n",
        "sampratein            9  non-null values\n",
        "samprateout           9  non-null values\n",
        "secondary_gain        9  non-null values\n",
        "stimDurInSec          9  non-null values\n",
        "tags                  0  non-null values\n",
        "timestamp             9  non-null values\n",
        "trial                 9  non-null values\n",
        "trialBlock            9  non-null values\n",
        "dtypes: float64(6), int64(12), object(8)"
       ]
      }
     ],
     "prompt_number": 164
    },
    {
     "cell_type": "code",
     "collapsed": false,
     "input": [
      "csvfile = queue[1]\n",
      "pdb2 = pd.read_csv(csvfile)\n",
      "pdb2.timestamp = pdb2.timestamp.apply(lambda d: parse(d))\n",
      "paramdb2 = pd.concat([paramdb1,pdb2],axis=0,ignore_index=True)"
     ],
     "language": "python",
     "metadata": {},
     "outputs": [],
     "prompt_number": 165
    },
    {
     "cell_type": "code",
     "collapsed": false,
     "input": [
      "paramdb2.index"
     ],
     "language": "python",
     "metadata": {},
     "outputs": [
      {
       "metadata": {},
       "output_type": "pyout",
       "prompt_number": 166,
       "text": [
        "Int64Index([0, 1, 2, 3, 4, 5, 6, 7, 8, 9, 10, 11], dtype=int64)"
       ]
      }
     ],
     "prompt_number": 166
    },
    {
     "cell_type": "markdown",
     "metadata": {},
     "source": [
      "That looks pretty good.  The Freq start key, etc, are filled out, all other parameters are filled in.  Now try to use the hierarchical indices to try to concatenate the two."
     ]
    },
    {
     "cell_type": "code",
     "collapsed": false,
     "input": [
      "pdb1_h = pdb1.set_index(['genotype','datestr','fly','cell','protocol','trial'])"
     ],
     "language": "python",
     "metadata": {},
     "outputs": [],
     "prompt_number": 167
    },
    {
     "cell_type": "markdown",
     "metadata": {},
     "source": [
      "A little trick for the tags columns:"
     ]
    },
    {
     "cell_type": "code",
     "collapsed": false,
     "input": [
      "# tag_iter = (set(x.split('/')) for x in paramdb.tags)\n",
      "# tags = sorted(set.union(*tag_iter))\n"
     ],
     "language": "python",
     "metadata": {},
     "outputs": [],
     "prompt_number": 108
    },
    {
     "cell_type": "heading",
     "level": 1,
     "metadata": {},
     "source": [
      "Construct ParameterDB from matlab generated csv files"
     ]
    },
    {
     "cell_type": "code",
     "collapsed": false,
     "input": [
      "%matplotlib inline\n",
      "import pandas as pd\n",
      "import numpy as np\n",
      "import os\n",
      "import copy\n",
      "\n",
      "from os.path import join, getsize\n",
      "from datetime import datetime\n",
      "from dateutil.parser import parse\n",
      "from collections import deque\n",
      "\n",
      "# Set some Pandas options\n",
      "pd.set_option('display.notebook_repr_html', False)\n",
      "pd.set_option('display.max_columns', 20)\n",
      "pd.set_option('display.max_rows', 25)"
     ],
     "language": "python",
     "metadata": {},
     "outputs": [],
     "prompt_number": 4
    },
    {
     "cell_type": "code",
     "collapsed": false,
     "input": [
      "ls"
     ],
     "language": "python",
     "metadata": {},
     "outputs": [
      {
       "output_type": "stream",
       "stream": "stdout",
       "text": [
        "\u001b[34m140218\u001b[m\u001b[m/                       ParameterDB.json\r\n",
        "\u001b[34m140219\u001b[m\u001b[m/                       Python_for_Data_Analysis.pdf\r\n",
        "\u001b[34m140424\u001b[m\u001b[m/                       Wrangling practice.ipynb\r\n",
        "ParameterDB.ipynb\r\n"
       ]
      }
     ],
     "prompt_number": 5
    },
    {
     "cell_type": "code",
     "collapsed": false,
     "input": [
      "queue = deque()\n",
      "\n",
      "csvfiles = '';\n",
      "for root, dirs, files in os.walk('.'):\n",
      "    print root\n",
      "    if '.git' in dirs:\n",
      "        dirs.remove('.git')  # don't visit CVS directories\n",
      "    for f in files:\n",
      "        if '.csv' in f:\n",
      "            queue.append(join(root,f))\n",
      "            \n",
      "parameterdb = pd.DataFrame()\n",
      "\n",
      "while len(queue) > 0: \n",
      "    csvfile = queue.popleft()\n",
      "    print 'Adding ' + csvfile\n",
      "    pdb = pd.read_csv(csvfile)\n",
      "    pdb.timestamp = pdb.timestamp.apply(lambda d: parse(d))\n",
      "    parameterdb = pd.concat([parameterdb,pdb],axis=0,ignore_index=True)"
     ],
     "language": "python",
     "metadata": {},
     "outputs": [
      {
       "output_type": "stream",
       "stream": "stdout",
       "text": [
        ".\n",
        "./140218\n",
        "./140218/140218_F2_C2\n",
        "./140218/140218_F3_C1\n",
        "./140219\n",
        "./140219/140219_F3_C4\n",
        "./140424\n",
        "./140424/140424_F1_C1\n",
        "./140424/140424_F1_C2\n",
        "Adding ./140218/140218_F2_C2/PiezoBWCourtshipSong_140218_F2_C2.csv\n",
        "Adding ./140218/140218_F2_C2/PiezoChirp_140218_F2_C2.csv\n",
        "Adding ./140218/140218_F2_C2/PiezoSine_140218_F2_C2.csv\n",
        "Adding ./140218/140218_F2_C2/PiezoSquareWave_140218_F2_C2.csv\n",
        "Adding ./140218/140218_F2_C2/PiezoStep_140218_F2_C2.csv"
       ]
      },
      {
       "output_type": "stream",
       "stream": "stdout",
       "text": [
        "\n",
        "Adding ./140218/140218_F2_C2/SealAndLeak_140218_F2_C2.csv\n",
        "Adding ./140218/140218_F2_C2/Sweep_140218_F2_C2.csv\n",
        "Adding ./140218/140218_F3_C1/PiezoChirp_140218_F3_C1.csv\n",
        "Adding ./140218/140218_F3_C1/PiezoSine_140218_F3_C1.csv\n",
        "Adding ./140218/140218_F3_C1/PiezoSquareWave_140218_F3_C1.csv"
       ]
      },
      {
       "output_type": "stream",
       "stream": "stdout",
       "text": [
        "\n",
        "Adding ./140218/140218_F3_C1/PiezoStep_140218_F3_C1.csv\n",
        "Adding ./140218/140218_F3_C1/SealAndLeak_140218_F3_C1.csv\n",
        "Adding ./140218/140218_F3_C1/Sweep_140218_F3_C1.csv\n",
        "Adding ./140219/140219_F3_C4/PiezoBWCourtshipSong_140219_F3_C4.csv\n",
        "Adding ./140219/140219_F3_C4/PiezoChirp_140219_F3_C4.csv\n",
        "Adding ./140219/140219_F3_C4/PiezoCourtshipSong_140219_F3_C4.csv\n",
        "Adding ./140219/140219_F3_C4/PiezoSine_140219_F3_C4.csv"
       ]
      },
      {
       "output_type": "stream",
       "stream": "stdout",
       "text": [
        "\n",
        "Adding ./140219/140219_F3_C4/PiezoSquareWave_140219_F3_C4.csv\n",
        "Adding ./140219/140219_F3_C4/PiezoStep_140219_F3_C4.csv\n",
        "Adding ./140219/140219_F3_C4/SealAndLeak_140219_F3_C4.csv\n",
        "Adding ./140219/140219_F3_C4/Sweep_140219_F3_C4.csv\n",
        "Adding ./140424/140424_F1_C1/CurrentSine_140424_F1_C1.csv"
       ]
      },
      {
       "output_type": "stream",
       "stream": "stdout",
       "text": [
        "\n",
        "Adding ./140424/140424_F1_C1/CurrentStep_140424_F1_C1.csv\n",
        "Adding ./140424/140424_F1_C2/CurrentSine_140424_F1_C2.csv\n",
        "Adding ./140424/140424_F1_C2/CurrentStep_140424_F1_C2.csv"
       ]
      },
      {
       "output_type": "stream",
       "stream": "stdout",
       "text": [
        "\n"
       ]
      }
     ],
     "prompt_number": 6
    },
    {
     "cell_type": "code",
     "collapsed": false,
     "input": [
      "parameterdb.timestamp"
     ],
     "language": "python",
     "metadata": {},
     "outputs": [
      {
       "metadata": {},
       "output_type": "pyout",
       "prompt_number": 7,
       "text": [
        "0   2014-05-01 21:03:19\n",
        "1   2014-05-01 21:03:19\n",
        "2   2014-05-01 21:03:19\n",
        "3   2014-05-01 21:03:19\n",
        "4   2014-05-01 21:03:19\n",
        "5   2014-05-01 21:03:19\n",
        "6   2014-05-01 21:03:19\n",
        "7   2014-05-01 21:03:19\n",
        "8   2014-05-01 21:03:19\n",
        "9   2014-05-01 21:03:19\n",
        "...\n",
        "1083   2014-05-01 21:03:19\n",
        "1084   2014-05-01 21:03:19\n",
        "1085   2014-05-01 21:03:19\n",
        "1086   2014-05-01 21:03:19\n",
        "1087   2014-05-01 21:03:19\n",
        "1088   2014-05-01 21:03:19\n",
        "1089   2014-05-01 21:03:19\n",
        "1090   2014-05-01 21:03:19\n",
        "1091   2014-05-01 21:03:19\n",
        "1092   2014-05-01 21:03:19\n",
        "1093   2014-05-01 21:03:19\n",
        "Name: timestamp, Length: 1094, dtype: datetime64[ns]"
       ]
      }
     ],
     "prompt_number": 7
    },
    {
     "cell_type": "code",
     "collapsed": false,
     "input": [
      "parameterdb.idstr"
     ],
     "language": "python",
     "metadata": {},
     "outputs": [
      {
       "metadata": {},
       "output_type": "pyout",
       "prompt_number": 8,
       "text": [
        "0    140218_F2_C2\n",
        "1    140218_F2_C2\n",
        "2    140218_F2_C2\n",
        "3    140218_F2_C2\n",
        "4    140218_F2_C2\n",
        "5    140218_F2_C2\n",
        "6    140218_F2_C2\n",
        "7    140218_F2_C2\n",
        "8    140218_F2_C2\n",
        "9    140218_F2_C2\n",
        "...\n",
        "1083    140424_F1_C2\n",
        "1084    140424_F1_C2\n",
        "1085    140424_F1_C2\n",
        "1086    140424_F1_C2\n",
        "1087    140424_F1_C2\n",
        "1088    140424_F1_C2\n",
        "1089    140424_F1_C2\n",
        "1090    140424_F1_C2\n",
        "1091    140424_F1_C2\n",
        "1092    140424_F1_C2\n",
        "1093    140424_F1_C2\n",
        "Name: idstr, Length: 1094, dtype: object"
       ]
      }
     ],
     "prompt_number": 8
    },
    {
     "cell_type": "code",
     "collapsed": false,
     "input": [
      "parameterdb.genotype"
     ],
     "language": "python",
     "metadata": {},
     "outputs": [
      {
       "metadata": {},
       "output_type": "pyout",
       "prompt_number": 12,
       "text": [
        "0    GH86-Gal4/+;pJFRC7/+;VT34811/+\n",
        "1    GH86-Gal4/+;pJFRC7/+;VT34811/+\n",
        "2    GH86-Gal4/+;pJFRC7/+;VT34811/+\n",
        "3    GH86-Gal4/+;pJFRC7/+;VT34811/+\n",
        "4    GH86-Gal4/+;pJFRC7/+;VT34811/+\n",
        "5    GH86-Gal4/+;pJFRC7/+;VT34811/+\n",
        "6    GH86-Gal4/+;pJFRC7/+;VT34811/+\n",
        "7    GH86-Gal4/+;pJFRC7/+;VT34811/+\n",
        "8    GH86-Gal4/+;pJFRC7/+;VT34811/+\n",
        "9    GH86-Gal4/+;pJFRC7/+;VT34811/+\n",
        "...\n",
        "1083    GH86-Gal4/+;pJFRC7/+;VT34811/+\n",
        "1084    GH86-Gal4/+;pJFRC7/+;VT34811/+\n",
        "1085    GH86-Gal4/+;pJFRC7/+;VT34811/+\n",
        "1086    GH86-Gal4/+;pJFRC7/+;VT34811/+\n",
        "1087    GH86-Gal4/+;pJFRC7/+;VT34811/+\n",
        "1088    GH86-Gal4/+;pJFRC7/+;VT34811/+\n",
        "1089    GH86-Gal4/+;pJFRC7/+;VT34811/+\n",
        "1090    GH86-Gal4/+;pJFRC7/+;VT34811/+\n",
        "1091    GH86-Gal4/+;pJFRC7/+;VT34811/+\n",
        "1092    GH86-Gal4/+;pJFRC7/+;VT34811/+\n",
        "1093    GH86-Gal4/+;pJFRC7/+;VT34811/+\n",
        "Name: genotype, Length: 1094, dtype: object"
       ]
      }
     ],
     "prompt_number": 12
    },
    {
     "cell_type": "code",
     "collapsed": false,
     "input": [
      "parameterdb_h = parameterdb.set_index(['genotype','datestr','fly','cell','protocol','trial'])"
     ],
     "language": "python",
     "metadata": {},
     "outputs": [],
     "prompt_number": 139
    },
    {
     "cell_type": "heading",
     "level": 1,
     "metadata": {},
     "source": [
      "Add GSPREAD data for each day"
     ]
    },
    {
     "cell_type": "code",
     "collapsed": false,
     "input": [
      "from IPython.core.display import HTML\n",
      "#HTML(\"<iframe src=http://burnash.github.io/gspread/ width=800 height=350></iframe>\")"
     ],
     "language": "python",
     "metadata": {},
     "outputs": [],
     "prompt_number": 140
    },
    {
     "cell_type": "code",
     "collapsed": false,
     "input": [
      "import gspread\n",
      "sheetclient = gspread.login('tazevedouwmail@gmail.com','udvvjgbqpsdkfkbz')\n",
      "Notebook = sheetclient.open('Lab Notebook')\n",
      "sheet = Notebook.sheet1\n",
      "#records = sheet.get_all_records()\n",
      "values_0 = sheet.get_all_values()"
     ],
     "language": "python",
     "metadata": {},
     "outputs": [],
     "prompt_number": 13
    },
    {
     "cell_type": "code",
     "collapsed": false,
     "input": [
      "import string\n",
      "\n",
      "values = copy.copy(values_0);\n",
      "headers = values.pop(0) # gives the headers as list and leaves data\n",
      "headers[1] = 'CellID'\n",
      "for ii in range(len(headers)):\n",
      "    headers[ii] = headers[ii].replace(' ','')\n",
      "    \n",
      "headers"
     ],
     "language": "python",
     "metadata": {},
     "outputs": [
      {
       "metadata": {},
       "output_type": "pyout",
       "prompt_number": 14,
       "text": [
        "['Timestamp',\n",
        " 'CellID',\n",
        " 'Genotype',\n",
        " 'Purpose',\n",
        " 'FlyAge',\n",
        " 'Drugs',\n",
        " 'Equipmentcheck',\n",
        " 'SaveProtocol',\n",
        " 'Plannedplaytime',\n",
        " 'PredictCell',\n",
        " 'Cleaning',\n",
        " 'Probeposition',\n",
        " 'Antennamovement',\n",
        " 'Additionalcleaningnotes',\n",
        " 'Targetcell',\n",
        " 'Electroderesistance(MOhms)',\n",
        " 'SealResistance',\n",
        " 'Patchingfailure',\n",
        " 'Rinput',\n",
        " 'RestingPotential',\n",
        " 'Holdingcurrent(-80mV)',\n",
        " 'Holdingcurrent(0mV)',\n",
        " 'Comments',\n",
        " 'Playtimeactivities',\n",
        " 'RecordArcLight',\n",
        " 'RecordAVLP',\n",
        " 'RecordLowFrequency',\n",
        " 'RecordMidFrequency',\n",
        " 'RecordMidFreqSpiking',\n",
        " 'RecordHighFreqDepol',\n",
        " 'RecordPairs',\n",
        " 'RecordCellAttached',\n",
        " 'RecordRogueCells',\n",
        " 'RecordNRSA',\n",
        " 'RecordConfocalimages',\n",
        " 'RecordIntrinsicproperties']"
       ]
      }
     ],
     "prompt_number": 14
    },
    {
     "cell_type": "code",
     "collapsed": false,
     "input": [
      "notebookDF = pd.DataFrame(values,columns = headers)\n",
      "def nbparse(d):\n",
      "    from dateutil.parser import parse\n",
      "    if d == '':\n",
      "        dt = None\n",
      "    else:\n",
      "        try: dt = parse(d)\n",
      "        except: \n",
      "            dt = None\n",
      "    return dt\n",
      "\n",
      "def idsplit(d):\n",
      "    d = d.replace('_','')\n",
      "    d = d.replace(' ','')\n",
      "    d = d.replace('F',' ')\n",
      "    d = d.replace('C',' ')\n",
      "    d = d.strip()\n",
      "    d = d.split(' ')\n",
      "\n",
      "    for ii in range(len(d)):\n",
      "        try: d[ii] = int(d[ii])\n",
      "        except:\n",
      "            continue\n",
      "    return d\n",
      "\n",
      "notebookDF.Timestamp = notebookDF.Timestamp.apply(nbparse)\n",
      "notebookDF.index = notebookDF.Timestamp\n",
      "notebookDF = notebookDF.drop([None],axis=0)\n",
      "notebookDF['CellID'] = notebookDF['CellID'].apply(idsplit)\n",
      "notebookDF['idstr'] = None\n",
      "for ix in range(notebookDF.shape[0]):\n",
      "    a = notebookDF.Timestamp[ix].isoformat()[2:10]\n",
      "    b = a.replace('-','') + '_F{}_C{}'\n",
      "    c = notebookDF.CellID[ix]\n",
      "    notebookDF.idstr[ix] = b.format(c[0],c[1])\n",
      "    \n",
      "notebookDF = notebookDF[['idstr',\n",
      "                        'Purpose',\n",
      "                        'FlyAge',\n",
      "                        'Drugs',\n",
      "                        'Comments',\n",
      "                        'RecordArcLight',\n",
      "                        'RecordAVLP',\n",
      "                        'RecordLowFrequency',\n",
      "                        'RecordMidFrequency',\n",
      "                        'RecordMidFreqSpiking',\n",
      "                        'RecordHighFreqDepol',\n",
      "                        'RecordPairs',\n",
      "                        'RecordCellAttached',\n",
      "                        'RecordRogueCells',\n",
      "                        'RecordNRSA',\n",
      "                        'RecordConfocalimages',\n",
      "                        'RecordIntrinsicproperties',\n",
      "                        ]]\n",
      "\n",
      "replacenullstr = lambda x: x.max() - x.min()\n",
      "stats.apply(stat_range)"
     ],
     "language": "python",
     "metadata": {},
     "outputs": [
      {
       "metadata": {},
       "output_type": "pyout",
       "prompt_number": 23,
       "text": [
        "''"
       ]
      }
     ],
     "prompt_number": 23
    },
    {
     "cell_type": "code",
     "collapsed": false,
     "input": [
      "parameterdb2 = pd.merge(parameterdb,notebookDF, how = 'left',left_on = 'idstr', right_on = 'idstr')\n",
      "print parameterdb2.shape\n",
      "parameterdb2"
     ],
     "language": "python",
     "metadata": {},
     "outputs": [
      {
       "output_type": "stream",
       "stream": "stdout",
       "text": [
        "(1094, 61)\n"
       ]
      },
      {
       "metadata": {},
       "output_type": "pyout",
       "prompt_number": 18,
       "text": [
        "<class 'pandas.core.frame.DataFrame'>\n",
        "Int64Index: 1094 entries, 0 to 1093\n",
        "Data columns (total 61 columns):\n",
        "Vm_id                        1094  non-null values\n",
        "amp                          216  non-null values\n",
        "amps                         216  non-null values\n",
        "cell                         1094  non-null values\n",
        "cycleDurInSec                9  non-null values\n",
        "cycles                       9  non-null values\n",
        "datestr                      1094  non-null values\n",
        "displacement                 656  non-null values\n",
        "displacementOffset           656  non-null values\n",
        "displacements                656  non-null values\n",
        "durSweep                     1094  non-null values\n",
        "fly                          1094  non-null values\n",
        "freq                         725  non-null values\n",
        "freqEnd                      15  non-null values\n",
        "freqStart                    15  non-null values\n",
        "freqs                        725  non-null values\n",
        "gain                         679  non-null values\n",
        "gain_1                       415  non-null values\n",
        "gain_2                       415  non-null values\n",
        "genotype                     1094  non-null values\n",
        "idstr                        1094  non-null values\n",
        "mode                         679  non-null values\n",
        "mode_1                       415  non-null values\n",
        "mode_2                       415  non-null values\n",
        "path                         1094  non-null values\n",
        "postDurInSec                 1071  non-null values\n",
        "preDurInSec                  1071  non-null values\n",
        "protocol                     1094  non-null values\n",
        "pulses                       5  non-null values\n",
        "ramptime                     773  non-null values\n",
        "rawname                      1094  non-null values\n",
        "sampratein                   1094  non-null values\n",
        "samprateout                  1094  non-null values\n",
        "secondary_gain               679  non-null values\n",
        "secondary_gain_1             415  non-null values\n",
        "secondary_gain_2             415  non-null values\n",
        "step                         199  non-null values\n",
        "stepamp                      5  non-null values\n",
        "stepdur                      5  non-null values\n",
        "steps                        199  non-null values\n",
        "stimDurInSec                 1071  non-null values\n",
        "tags                         19  non-null values\n",
        "timestamp                    1094  non-null values\n",
        "trial                        1094  non-null values\n",
        "trialBlock                   1094  non-null values\n",
        "Purpose                      1094  non-null values\n",
        "FlyAge                       1094  non-null values\n",
        "Drugs                        1094  non-null values\n",
        "Comments                     1094  non-null values\n",
        "RecordArcLight               1094  non-null values\n",
        "RecordAVLP                   1094  non-null values\n",
        "RecordLowFrequency           1094  non-null values\n",
        "RecordMidFrequency           1094  non-null values\n",
        "RecordMidFreqSpiking         1094  non-null values\n",
        "RecordHighFreqDepol          1094  non-null values\n",
        "RecordPairs                  1094  non-null values\n",
        "RecordCellAttached           1094  non-null values\n",
        "RecordRogueCells             1094  non-null values\n",
        "RecordNRSA                   1094  non-null values\n",
        "RecordConfocalimages         1094  non-null values\n",
        "RecordIntrinsicproperties    1094  non-null values\n",
        "dtypes: datetime64[ns](1), float64(23), int64(8), object(29)"
       ]
      }
     ],
     "prompt_number": 18
    },
    {
     "cell_type": "heading",
     "level": 1,
     "metadata": {},
     "source": [
      "Write ParameterDB"
     ]
    },
    {
     "cell_type": "code",
     "collapsed": false,
     "input": [
      "parameterdb2.to_json(path_or_buf = 'ParameterDB.json', orient = 'columns')"
     ],
     "language": "python",
     "metadata": {},
     "outputs": [],
     "prompt_number": 19
    },
    {
     "cell_type": "code",
     "collapsed": false,
     "input": [
      "parameterdb3 = pd.read_json(path_or_buf='ParameterDB.json', orient='columns', typ='frame',)"
     ],
     "language": "python",
     "metadata": {},
     "outputs": [],
     "prompt_number": 152
    },
    {
     "cell_type": "code",
     "collapsed": false,
     "input": [],
     "language": "python",
     "metadata": {},
     "outputs": [
      {
       "metadata": {},
       "output_type": "pyout",
       "prompt_number": 155,
       "text": [
        "u'This was mostly responsive to 140Hz.  Great Courtship song response.  Need to think about the Courtship song control... Some spikes, also.  Start checking for spikes in each cell.  Interesting kinetics in some of these cells'"
       ]
      }
     ],
     "prompt_number": 155
    },
    {
     "cell_type": "heading",
     "level": 1,
     "metadata": {},
     "source": [
      "Read ParameterDB"
     ]
    },
    {
     "cell_type": "code",
     "collapsed": false,
     "input": [
      "parameterdb3 = pd.read_json(path_or_buf='ParameterDB.json', orient='columns', typ='frame',)"
     ],
     "language": "python",
     "metadata": {},
     "outputs": [],
     "prompt_number": 20
    },
    {
     "cell_type": "code",
     "collapsed": false,
     "input": [
      "parameterdb3"
     ],
     "language": "python",
     "metadata": {},
     "outputs": [
      {
       "metadata": {},
       "output_type": "pyout",
       "prompt_number": 21,
       "text": [
        "<class 'pandas.core.frame.DataFrame'>\n",
        "Int64Index: 1094 entries, 0 to 999\n",
        "Data columns (total 61 columns):\n",
        "Comments                     1094  non-null values\n",
        "Drugs                        1094  non-null values\n",
        "FlyAge                       1094  non-null values\n",
        "Purpose                      1094  non-null values\n",
        "RecordAVLP                   1094  non-null values\n",
        "RecordArcLight               1094  non-null values\n",
        "RecordCellAttached           1094  non-null values\n",
        "RecordConfocalimages         1094  non-null values\n",
        "RecordHighFreqDepol          1094  non-null values\n",
        "RecordIntrinsicproperties    1094  non-null values\n",
        "RecordLowFrequency           1094  non-null values\n",
        "RecordMidFreqSpiking         1094  non-null values\n",
        "RecordMidFrequency           1094  non-null values\n",
        "RecordNRSA                   1094  non-null values\n",
        "RecordPairs                  1094  non-null values\n",
        "RecordRogueCells             1094  non-null values\n",
        "Vm_id                        1094  non-null values\n",
        "amp                          216  non-null values\n",
        "amps                         216  non-null values\n",
        "cell                         1094  non-null values\n",
        "cycleDurInSec                9  non-null values\n",
        "cycles                       9  non-null values\n",
        "datestr                      1094  non-null values\n",
        "displacement                 656  non-null values\n",
        "displacementOffset           656  non-null values\n",
        "displacements                656  non-null values\n",
        "durSweep                     1094  non-null values\n",
        "fly                          1094  non-null values\n",
        "freq                         725  non-null values\n",
        "freqEnd                      15  non-null values\n",
        "freqStart                    15  non-null values\n",
        "freqs                        725  non-null values\n",
        "gain                         679  non-null values\n",
        "gain_1                       415  non-null values\n",
        "gain_2                       415  non-null values\n",
        "genotype                     1094  non-null values\n",
        "idstr                        1094  non-null values\n",
        "mode                         679  non-null values\n",
        "mode_1                       415  non-null values\n",
        "mode_2                       415  non-null values\n",
        "path                         1094  non-null values\n",
        "postDurInSec                 1071  non-null values\n",
        "preDurInSec                  1071  non-null values\n",
        "protocol                     1094  non-null values\n",
        "pulses                       5  non-null values\n",
        "ramptime                     773  non-null values\n",
        "rawname                      1094  non-null values\n",
        "sampratein                   1094  non-null values\n",
        "samprateout                  1094  non-null values\n",
        "secondary_gain               679  non-null values\n",
        "secondary_gain_1             415  non-null values\n",
        "secondary_gain_2             415  non-null values\n",
        "step                         199  non-null values\n",
        "stepamp                      5  non-null values\n",
        "stepdur                      5  non-null values\n",
        "steps                        199  non-null values\n",
        "stimDurInSec                 1071  non-null values\n",
        "tags                         19  non-null values\n",
        "timestamp                    1094  non-null values\n",
        "trial                        1094  non-null values\n",
        "trialBlock                   1094  non-null values\n",
        "dtypes: float64(23), int64(10), object(28)"
       ]
      }
     ],
     "prompt_number": 21
    },
    {
     "cell_type": "code",
     "collapsed": false,
     "input": [],
     "language": "python",
     "metadata": {},
     "outputs": []
    }
   ],
   "metadata": {}
  }
 ]
}