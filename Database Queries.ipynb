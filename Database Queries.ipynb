{
 "metadata": {
  "name": "",
  "signature": "sha256:2c601b450e0b9b9020c5c39b84640e916e2ea4e40bd8b08263ecda0676d83f26"
 },
 "nbformat": 3,
 "nbformat_minor": 0,
 "worksheets": [
  {
   "cells": [
    {
     "cell_type": "heading",
     "level": 1,
     "metadata": {},
     "source": [
      "Querying the database"
     ]
    },
    {
     "cell_type": "markdown",
     "metadata": {},
     "source": [
      "First task is to figure out why more row appeared in the database once the notes were attached."
     ]
    },
    {
     "cell_type": "code",
     "collapsed": false,
     "input": [
      "%matplotlib inline\n",
      "import pandas as pd\n",
      "import numpy as np\n",
      "import os\n",
      "import copy\n",
      "\n",
      "from os.path import join, getsize\n",
      "from datetime import datetime\n",
      "from dateutil.parser import parse\n",
      "from collections import deque\n",
      "\n",
      "# Set some Pandas options\n",
      "pd.set_option('display.notebook_repr_html', False)\n",
      "pd.set_option('display.max_columns', 20)\n",
      "pd.set_option('display.max_rows', 25)\n",
      "\n",
      "from os.path import expanduser\n",
      "from os.path import join, getsize\n",
      "home = expanduser(\"~\")\n",
      "\n",
      "pdb = pd.read_json(path_or_buf=join(home,'Code','ParametersDB','ParametersDB.json'), orient='columns', typ='frame',)"
     ],
     "language": "python",
     "metadata": {},
     "outputs": [],
     "prompt_number": 3
    },
    {
     "cell_type": "code",
     "collapsed": false,
     "input": [
      "#print pdb.timestamp[0]\n",
      "datetime.fromtimestamp(pdb.timestamp[0]/1e9)\n",
      "pdb.timestamp.apply(lambda x: datetime.fromtimestamp(x/1e9))\n",
      "for t in pdb.timestamp.values:   \n",
      "    print datetime.fromtimestamp(t/1e9)"
     ],
     "language": "python",
     "metadata": {},
     "outputs": [
      {
       "ename": "ValueError",
       "evalue": "timestamp out of range for platform localtime()/gmtime() function",
       "output_type": "pyerr",
       "traceback": [
        "\u001b[0;31m---------------------------------------------------------------------------\u001b[0m\n\u001b[0;31mValueError\u001b[0m                                Traceback (most recent call last)",
        "\u001b[0;32m<ipython-input-57-81d0fe0da3ba>\u001b[0m in \u001b[0;36m<module>\u001b[0;34m()\u001b[0m\n\u001b[1;32m      1\u001b[0m \u001b[0;31m#print pdb.timestamp[0]\u001b[0m\u001b[0;34m\u001b[0m\u001b[0;34m\u001b[0m\u001b[0m\n\u001b[1;32m      2\u001b[0m \u001b[0mdatetime\u001b[0m\u001b[0;34m.\u001b[0m\u001b[0mfromtimestamp\u001b[0m\u001b[0;34m(\u001b[0m\u001b[0mpdb\u001b[0m\u001b[0;34m.\u001b[0m\u001b[0mtimestamp\u001b[0m\u001b[0;34m[\u001b[0m\u001b[0;36m0\u001b[0m\u001b[0;34m]\u001b[0m\u001b[0;34m/\u001b[0m\u001b[0;36m1e9\u001b[0m\u001b[0;34m)\u001b[0m\u001b[0;34m\u001b[0m\u001b[0m\n\u001b[0;32m----> 3\u001b[0;31m \u001b[0mpdb\u001b[0m\u001b[0;34m.\u001b[0m\u001b[0mtimestamp\u001b[0m\u001b[0;34m.\u001b[0m\u001b[0mapply\u001b[0m\u001b[0;34m(\u001b[0m\u001b[0;32mlambda\u001b[0m \u001b[0mx\u001b[0m\u001b[0;34m:\u001b[0m \u001b[0mdatetime\u001b[0m\u001b[0;34m.\u001b[0m\u001b[0mfromtimestamp\u001b[0m\u001b[0;34m(\u001b[0m\u001b[0mx\u001b[0m\u001b[0;34m)\u001b[0m\u001b[0;34m)\u001b[0m\u001b[0;34m\u001b[0m\u001b[0m\n\u001b[0m\u001b[1;32m      4\u001b[0m \u001b[0;32mfor\u001b[0m \u001b[0mt\u001b[0m \u001b[0;32min\u001b[0m \u001b[0mpdb\u001b[0m\u001b[0;34m.\u001b[0m\u001b[0mtimestamp\u001b[0m\u001b[0;34m.\u001b[0m\u001b[0mvalues\u001b[0m\u001b[0;34m:\u001b[0m\u001b[0;34m\u001b[0m\u001b[0m\n\u001b[1;32m      5\u001b[0m     \u001b[0;32mprint\u001b[0m \u001b[0mdatetime\u001b[0m\u001b[0;34m.\u001b[0m\u001b[0mfromtimestamp\u001b[0m\u001b[0;34m(\u001b[0m\u001b[0mt\u001b[0m\u001b[0;34m/\u001b[0m\u001b[0;36m1e9\u001b[0m\u001b[0;34m)\u001b[0m\u001b[0;34m\u001b[0m\u001b[0m\n",
        "\u001b[0;32m/Users/tony/anaconda/lib/python2.7/site-packages/pandas/core/series.pyc\u001b[0m in \u001b[0;36mapply\u001b[0;34m(self, func, convert_dtype, args, **kwds)\u001b[0m\n\u001b[1;32m   2534\u001b[0m             \u001b[0mvalues\u001b[0m \u001b[0;34m=\u001b[0m \u001b[0mlib\u001b[0m\u001b[0;34m.\u001b[0m\u001b[0mmap_infer\u001b[0m\u001b[0;34m(\u001b[0m\u001b[0mvalues\u001b[0m\u001b[0;34m,\u001b[0m \u001b[0mlib\u001b[0m\u001b[0;34m.\u001b[0m\u001b[0mTimestamp\u001b[0m\u001b[0;34m)\u001b[0m\u001b[0;34m\u001b[0m\u001b[0m\n\u001b[1;32m   2535\u001b[0m \u001b[0;34m\u001b[0m\u001b[0m\n\u001b[0;32m-> 2536\u001b[0;31m         \u001b[0mmapped\u001b[0m \u001b[0;34m=\u001b[0m \u001b[0mlib\u001b[0m\u001b[0;34m.\u001b[0m\u001b[0mmap_infer\u001b[0m\u001b[0;34m(\u001b[0m\u001b[0mvalues\u001b[0m\u001b[0;34m,\u001b[0m \u001b[0mf\u001b[0m\u001b[0;34m,\u001b[0m \u001b[0mconvert\u001b[0m\u001b[0;34m=\u001b[0m\u001b[0mconvert_dtype\u001b[0m\u001b[0;34m)\u001b[0m\u001b[0;34m\u001b[0m\u001b[0m\n\u001b[0m\u001b[1;32m   2537\u001b[0m         \u001b[0;32mif\u001b[0m \u001b[0misinstance\u001b[0m\u001b[0;34m(\u001b[0m\u001b[0mmapped\u001b[0m\u001b[0;34m[\u001b[0m\u001b[0;36m0\u001b[0m\u001b[0;34m]\u001b[0m\u001b[0;34m,\u001b[0m \u001b[0mSeries\u001b[0m\u001b[0;34m)\u001b[0m\u001b[0;34m:\u001b[0m\u001b[0;34m\u001b[0m\u001b[0m\n\u001b[1;32m   2538\u001b[0m             \u001b[0;32mfrom\u001b[0m \u001b[0mpandas\u001b[0m\u001b[0;34m.\u001b[0m\u001b[0mcore\u001b[0m\u001b[0;34m.\u001b[0m\u001b[0mframe\u001b[0m \u001b[0;32mimport\u001b[0m \u001b[0mDataFrame\u001b[0m\u001b[0;34m\u001b[0m\u001b[0m\n",
        "\u001b[0;32m/Users/tony/anaconda/lib/python2.7/site-packages/pandas/lib.so\u001b[0m in \u001b[0;36mpandas.lib.map_infer (pandas/lib.c:42840)\u001b[0;34m()\u001b[0m\n",
        "\u001b[0;32m<ipython-input-57-81d0fe0da3ba>\u001b[0m in \u001b[0;36m<lambda>\u001b[0;34m(x)\u001b[0m\n\u001b[1;32m      1\u001b[0m \u001b[0;31m#print pdb.timestamp[0]\u001b[0m\u001b[0;34m\u001b[0m\u001b[0;34m\u001b[0m\u001b[0m\n\u001b[1;32m      2\u001b[0m \u001b[0mdatetime\u001b[0m\u001b[0;34m.\u001b[0m\u001b[0mfromtimestamp\u001b[0m\u001b[0;34m(\u001b[0m\u001b[0mpdb\u001b[0m\u001b[0;34m.\u001b[0m\u001b[0mtimestamp\u001b[0m\u001b[0;34m[\u001b[0m\u001b[0;36m0\u001b[0m\u001b[0;34m]\u001b[0m\u001b[0;34m/\u001b[0m\u001b[0;36m1e9\u001b[0m\u001b[0;34m)\u001b[0m\u001b[0;34m\u001b[0m\u001b[0m\n\u001b[0;32m----> 3\u001b[0;31m \u001b[0mpdb\u001b[0m\u001b[0;34m.\u001b[0m\u001b[0mtimestamp\u001b[0m\u001b[0;34m.\u001b[0m\u001b[0mapply\u001b[0m\u001b[0;34m(\u001b[0m\u001b[0;32mlambda\u001b[0m \u001b[0mx\u001b[0m\u001b[0;34m:\u001b[0m \u001b[0mdatetime\u001b[0m\u001b[0;34m.\u001b[0m\u001b[0mfromtimestamp\u001b[0m\u001b[0;34m(\u001b[0m\u001b[0mx\u001b[0m\u001b[0;34m)\u001b[0m\u001b[0;34m)\u001b[0m\u001b[0;34m\u001b[0m\u001b[0m\n\u001b[0m\u001b[1;32m      4\u001b[0m \u001b[0;32mfor\u001b[0m \u001b[0mt\u001b[0m \u001b[0;32min\u001b[0m \u001b[0mpdb\u001b[0m\u001b[0;34m.\u001b[0m\u001b[0mtimestamp\u001b[0m\u001b[0;34m.\u001b[0m\u001b[0mvalues\u001b[0m\u001b[0;34m:\u001b[0m\u001b[0;34m\u001b[0m\u001b[0m\n\u001b[1;32m      5\u001b[0m     \u001b[0;32mprint\u001b[0m \u001b[0mdatetime\u001b[0m\u001b[0;34m.\u001b[0m\u001b[0mfromtimestamp\u001b[0m\u001b[0;34m(\u001b[0m\u001b[0mt\u001b[0m\u001b[0;34m/\u001b[0m\u001b[0;36m1e9\u001b[0m\u001b[0;34m)\u001b[0m\u001b[0;34m\u001b[0m\u001b[0m\n",
        "\u001b[0;31mValueError\u001b[0m: timestamp out of range for platform localtime()/gmtime() function"
       ]
      }
     ],
     "prompt_number": 57
    },
    {
     "cell_type": "code",
     "collapsed": false,
     "input": [
      "pdb[pdb.RecordAVLP.isnull()]"
     ],
     "language": "python",
     "metadata": {},
     "outputs": [
      {
       "metadata": {},
       "output_type": "pyout",
       "prompt_number": 43,
       "text": [
        "<class 'pandas.core.frame.DataFrame'>\n",
        "Int64Index: 1577 entries, 10136 to 9248\n",
        "Data columns (total 69 columns):\n",
        "Comments                     0  non-null values\n",
        "Drugs                        0  non-null values\n",
        "FlyAge                       0  non-null values\n",
        "Purpose                      0  non-null values\n",
        "RecordAVLP                   0  non-null values\n",
        "RecordArcLight               0  non-null values\n",
        "RecordCellAttached           0  non-null values\n",
        "RecordConfocalimages         0  non-null values\n",
        "RecordHighFreqDepol          0  non-null values\n",
        "RecordIntrinsicproperties    0  non-null values\n",
        "RecordLowFrequency           0  non-null values\n",
        "RecordMidFreqSpiking         0  non-null values\n",
        "RecordMidFrequency           0  non-null values\n",
        "RecordNRSA                   0  non-null values\n",
        "RecordPairs                  0  non-null values\n",
        "RecordRogueCells             0  non-null values\n",
        "Vm_id                        1571  non-null values\n",
        "amp                          231  non-null values\n",
        "amps                         231  non-null values\n",
        "cellnumber                   1577  non-null values\n",
        "combinedTrialBlock           0  non-null values\n",
        "cycleDurInSec                17  non-null values\n",
        "cycles                       17  non-null values\n",
        "date                         0  non-null values\n",
        "datestr                      1577  non-null values\n",
        "displFactor                  0  non-null values\n",
        "displacement                 970  non-null values\n",
        "displacementOffset           970  non-null values\n",
        "displacements                970  non-null values\n",
        "durSweep                     1577  non-null values\n",
        "flynumber                    1577  non-null values\n",
        "freq                         907  non-null values\n",
        "freqEnd                      0  non-null values\n",
        "freqStart                    0  non-null values\n",
        "freqs                        907  non-null values\n",
        "gain                         688  non-null values\n",
        "gain_1                       36  non-null values\n",
        "gain_2                       36  non-null values\n",
        "genotype                     1577  non-null values\n",
        "idstr                        1577  non-null values\n",
        "mode                         1541  non-null values\n",
        "mode_1                       36  non-null values\n",
        "mode_2                       36  non-null values\n",
        "path                         1577  non-null values\n",
        "plateau                      24  non-null values\n",
        "plateauDurInSec              24  non-null values\n",
        "plateaux                     24  non-null values\n",
        "postDurInSec                 1374  non-null values\n",
        "preDurInSec                  1374  non-null values\n",
        "protocol                     1577  non-null values\n",
        "pulses                       24  non-null values\n",
        "ramptime                     797  non-null values\n",
        "randomize                    24  non-null values\n",
        "rawname                      1577  non-null values\n",
        "repeats                      0  non-null values\n",
        "sampratein                   1577  non-null values\n",
        "samprateout                  1577  non-null values\n",
        "secondary_gain               688  non-null values\n",
        "secondary_gain_1             36  non-null values\n",
        "secondary_gain_2             36  non-null values\n",
        "step                         149  non-null values\n",
        "stepamp                      24  non-null values\n",
        "stepdur                      24  non-null values\n",
        "steps                        149  non-null values\n",
        "stimDurInSec                 1374  non-null values\n",
        "tags                         207  non-null values\n",
        "timestamp                    1577  non-null values\n",
        "trial                        1577  non-null values\n",
        "trialBlock                   887  non-null values\n",
        "dtypes: float64(27), int64(6), object(36)"
       ]
      }
     ],
     "prompt_number": 43
    },
    {
     "cell_type": "markdown",
     "metadata": {},
     "source": [
      "Aha!  The problem is that there were more data folders than notebook entries."
     ]
    },
    {
     "cell_type": "code",
     "collapsed": false,
     "input": [
      "genotype = set(pdb.genotype)\n",
      "genotype"
     ],
     "language": "python",
     "metadata": {},
     "outputs": [
      {
       "metadata": {},
       "output_type": "pyout",
       "prompt_number": 27,
       "text": [
        "{u' UAS-Kir2.1.',\n",
        " u'; ; VT30609-Gal4/ArcLight',\n",
        " u'; pJFRC7; VT30609-Gal4;',\n",
        " u';pJFRC7/[CyO];VT30609/[TM6b]',\n",
        " u'GH-86/+;ArcLight/[CyO]',\n",
        " u'GH298-Gal4;UAS-mcd8:GFP',\n",
        " u'GH86-Gal4/+;pJFRC7/+;VT34811/+',\n",
        " u'GH86-Gal4/[FM7];pJFRC7/[CyO]',\n",
        " u'GH86-Gal4:pJFRC7',\n",
        " u'GH86-Gal4;pJFRC7/[CyO]',\n",
        " u'GH86-Gal4;pJFRC7;VT34811',\n",
        " u'GH86/+;pJFRC7/+',\n",
        " u'GH86/[GH86];pJFRC7/[pJFRC7]',\n",
        " u'GH86;pJFRC7',\n",
        " u'VT30609/ArcLight',\n",
        " u'pJFRC7/[CyO];VT45599-Gal4/[MKRS]',\n",
        " u'pJFRC7;VT27938',\n",
        " u'pJFRC7;VT30609'}"
       ]
      }
     ],
     "prompt_number": 27
    },
    {
     "cell_type": "code",
     "collapsed": false,
     "input": [
      "gtdict = {' UAS-Kir2.1.':'UAS-Kir2.1',\n",
      "          '; ; VT30609-Gal4/ArcLight': ';;VT30609-Gal4/UAS-ArcLight',\n",
      "          '; pJFRC7; VT30609-Gal4;': ';pJFRC7/pJFRC7;VT30609-Gal4/VT30609-Gal4',\n",
      "          ';pJFRC7/[CyO];VT30609/[TM6b]': ';pJFRC7/pJFRC7;VT30609-Gal4/VT30609-Gal4',\n",
      "          'GH-86/+;ArcLight/[CyO]': 'GH86-Gal4/+;;ArcLight/+',\n",
      "          'GH298-Gal4;UAS-mcd8:GFP': 'GH298-Gal4/GH298-Gal4;UAS-mcd8:GFP/UAS-mcd8:GFP',\n",
      "          'GH86-Gal4/+;pJFRC7/+;VT34811/+': 'GH86-Gal4/+;pJFRC7/+;VT34811/+',\n",
      "          'GH86-Gal4/[FM7];pJFRC7/[CyO]': 'GH86-Gal4/GH86-Gal4;pJFRC7/pJFRC7;',\n",
      "          'GH86-Gal4:pJFRC7': 'GH86-Gal4/GH86-Gal4;pJFRC7/pJFRC7;',\n",
      "          'GH86-Gal4;pJFRC7/[CyO]': 'GH86-Gal4/GH86-Gal4;pJFRC7/pJFRC7;',\n",
      "          'GH86-Gal4;pJFRC7;VT34811': 'GH86-Gal4/+;pJFRC7/+;VT34811/+',\n",
      "          'GH86/+;pJFRC7/+': 'GH86-Gal4/+;pJFRC7/+;',\n",
      "          'GH86/[GH86];pJFRC7/[pJFRC7]': 'GH86-Gal4/[GH86-Gal4];pJFRC7/[pJFRC7];',\n",
      "          'GH86;pJFRC7': 'GH86-Gal4/[GH86-Gal4];pJFRC7/[pJFRC7];',\n",
      "          'VT30609/ArcLight':';;VT30609-Gal4/UAS-ArcLight',\n",
      "          'pJFRC7/[CyO];VT45599-Gal4/[MKRS]': ';pJFRC7/pJFRC7;VT45599-Gal4/VT45599-Gal4',\n",
      "          'pJFRC7;VT27938':';pJFRC7/pJFRC7;VT27938-Gal4/VT27938-Gal4',\n",
      "          'pJFRC7;VT30609':';pJFRC7/pJFRC7;VT30609-Gal4/VT30609-Gal4',\n",
      "          }"
     ],
     "language": "python",
     "metadata": {},
     "outputs": [],
     "prompt_number": 31
    },
    {
     "cell_type": "code",
     "collapsed": false,
     "input": [
      "set(pdb.genotype.apply(lambda x: gtdict[x]))"
     ],
     "language": "python",
     "metadata": {},
     "outputs": [
      {
       "metadata": {},
       "output_type": "pyout",
       "prompt_number": 35,
       "text": [
        "{'',\n",
        " ';;VT30609-Gal4/UAS-ArcLight',\n",
        " ';pJFRC7/pJFRC7;VT27938-Gal4/VT27938-Gal4',\n",
        " ';pJFRC7/pJFRC7;VT30609-Gal4/VT30609-Gal4',\n",
        " ';pJFRC7/pJFRC7;VT45599-Gal4/VT45599-Gal4',\n",
        " 'GH298-Gal4/GH298-Gal4;UAS-mcd8:GFP/UAS-mcd8:GFP',\n",
        " 'GH86-Gal4/+;;ArcLight/+',\n",
        " 'GH86-Gal4/+;pJFRC7/+;',\n",
        " 'GH86-Gal4/+;pJFRC7/+;VT34811/+',\n",
        " 'GH86-Gal4/GH86-Gal4;pJFRC7/pJFRC7;',\n",
        " 'GH86-Gal4/[GH86-Gal4];pJFRC7/[pJFRC7];'}"
       ]
      }
     ],
     "prompt_number": 35
    },
    {
     "cell_type": "code",
     "collapsed": false,
     "input": [],
     "language": "python",
     "metadata": {},
     "outputs": []
    }
   ],
   "metadata": {}
  }
 ]
}