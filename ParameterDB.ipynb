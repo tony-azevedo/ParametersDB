{
 "metadata": {
  "name": "",
  "signature": "sha256:d747e9786e3223e14160bcaca8ecc2d135618071eb494ce4f61f77f2483fdd02"
 },
 "nbformat": 3,
 "nbformat_minor": 0,
 "worksheets": [
  {
   "cells": [
    {
     "cell_type": "heading",
     "level": 1,
     "metadata": {},
     "source": [
      "ParameterDB"
     ]
    },
    {
     "cell_type": "markdown",
     "metadata": {},
     "source": [
      "This notebook creates the ParameterDB and allows the user to manipulate and inspect the DB.  The ParameterDB is the collection of parameter information that comes from FlySound experiments.  The data is organized according to ['date','cell (or pair)','protocol','block','trial'].  This notebook will import a csv file that will contain the indexing information ('date','cell') from the data folder, and then all the csv files containing information about the trials themselves.  This will come from running `structarray2csv` in matlab on the \"Protocol data structure\" array.\n",
      "\n",
      "The DB will be implemented as a DataFrame, `ParameterDB`.  Hierarchical indices will be labeled as 'date', 'cell', 'protocol', 'block', 'trial'.  The parameter labels ('columns') reflect the trial parameters themselves and will include 'dir','name' as unique identifiers, as well as the union of all parameters from all protocols.  Some are consistent (gain, mode), others depend on the protocols (fred, amp, displacement).  There will be no need for the plural parameters (amps, freqs), each parameter will be a single number or string.  Those trials that don't have a particular parameter will simply have NaN in those entries (e.g. a PiezoSine will not have an \"amp\" parameter entry, as that is for the CurrentSine protocol).\n",
      "\n",
      "There will have to be the ability to add extra columns across the database in order to add annotation or other things to this"
     ]
    },
    {
     "cell_type": "code",
     "collapsed": false,
     "input": [
      "%matplotlib inline\n",
      "import pandas as pd\n",
      "import numpy as np\n",
      "import os\n",
      "import copy\n",
      "\n",
      "from os.path import join, getsize\n",
      "from datetime import datetime\n",
      "from dateutil.parser import parse\n",
      "from collections import deque\n",
      "\n",
      "# Set some Pandas options\n",
      "pd.set_option('display.notebook_repr_html', False)\n",
      "pd.set_option('display.max_columns', 20)\n",
      "pd.set_option('display.max_rows', 25)"
     ],
     "language": "python",
     "metadata": {},
     "outputs": [],
     "prompt_number": 156
    },
    {
     "cell_type": "code",
     "collapsed": false,
     "input": [
      "queue = deque()\n",
      "\n",
      "csvfiles = '';\n",
      "for root, dirs, files in os.walk('.'):\n",
      "    print root\n",
      "    if '.git' in dirs:\n",
      "        dirs.remove('.git')  # don't visit CVS directories\n",
      "    for f in files:\n",
      "        if '.csv' in f:\n",
      "            queue.append(join(root,f))\n",
      "            \n",
      "testqueue = copy.copy(queue)\n",
      "testqueue"
     ],
     "language": "python",
     "metadata": {},
     "outputs": [
      {
       "output_type": "stream",
       "stream": "stdout",
       "text": [
        ".\n",
        "./140218\n",
        "./140218/140218_F2_C2\n",
        "./140218/140218_F3_C1\n",
        "./140219\n",
        "./140219/140219_F3_C4\n",
        "./140424\n",
        "./140424/140424_F1_C1\n",
        "./140424/140424_F1_C2\n"
       ]
      },
      {
       "metadata": {},
       "output_type": "pyout",
       "prompt_number": 157,
       "text": [
        "deque(['./140218/140218_F2_C2/PiezoBWCourtshipSong_140218_F2_C2.csv', './140218/140218_F2_C2/PiezoChirp_140218_F2_C2.csv', './140218/140218_F2_C2/PiezoSine_140218_F2_C2.csv', './140218/140218_F2_C2/PiezoSquareWave_140218_F2_C2.csv', './140218/140218_F2_C2/PiezoStep_140218_F2_C2.csv', './140218/140218_F2_C2/SealAndLeak_140218_F2_C2.csv', './140218/140218_F2_C2/Sweep_140218_F2_C2.csv', './140218/140218_F3_C1/PiezoChirp_140218_F3_C1.csv', './140218/140218_F3_C1/PiezoSine_140218_F3_C1.csv', './140218/140218_F3_C1/PiezoSquareWave_140218_F3_C1.csv', './140218/140218_F3_C1/PiezoStep_140218_F3_C1.csv', './140218/140218_F3_C1/SealAndLeak_140218_F3_C1.csv', './140218/140218_F3_C1/Sweep_140218_F3_C1.csv', './140219/140219_F3_C4/PiezoBWCourtshipSong_140219_F3_C4.csv', './140219/140219_F3_C4/PiezoChirp_140219_F3_C4.csv', './140219/140219_F3_C4/PiezoCourtshipSong_140219_F3_C4.csv', './140219/140219_F3_C4/PiezoSine_140219_F3_C4.csv', './140219/140219_F3_C4/PiezoSquareWave_140219_F3_C4.csv', './140219/140219_F3_C4/PiezoStep_140219_F3_C4.csv', './140219/140219_F3_C4/SealAndLeak_140219_F3_C4.csv', './140219/140219_F3_C4/Sweep_140219_F3_C4.csv', './140424/140424_F1_C1/CurrentSine_140424_F1_C1.csv', './140424/140424_F1_C1/CurrentStep_140424_F1_C1.csv', './140424/140424_F1_C2/CurrentSine_140424_F1_C2.csv', './140424/140424_F1_C2/CurrentStep_140424_F1_C2.csv'])"
       ]
      }
     ],
     "prompt_number": 157
    },
    {
     "cell_type": "code",
     "collapsed": false,
     "input": [
      "while len(testqueue) > 0: print testqueue.popleft()"
     ],
     "language": "python",
     "metadata": {},
     "outputs": [
      {
       "output_type": "stream",
       "stream": "stdout",
       "text": [
        "./140218/140218_F2_C2/PiezoBWCourtshipSong_140218_F2_C2.csv\n",
        "./140218/140218_F2_C2/PiezoChirp_140218_F2_C2.csv\n",
        "./140218/140218_F2_C2/PiezoSine_140218_F2_C2.csv\n",
        "./140218/140218_F2_C2/PiezoSquareWave_140218_F2_C2.csv\n",
        "./140218/140218_F2_C2/PiezoStep_140218_F2_C2.csv\n",
        "./140218/140218_F2_C2/SealAndLeak_140218_F2_C2.csv\n",
        "./140218/140218_F2_C2/Sweep_140218_F2_C2.csv\n",
        "./140218/140218_F3_C1/PiezoChirp_140218_F3_C1.csv\n",
        "./140218/140218_F3_C1/PiezoSine_140218_F3_C1.csv\n",
        "./140218/140218_F3_C1/PiezoSquareWave_140218_F3_C1.csv\n",
        "./140218/140218_F3_C1/PiezoStep_140218_F3_C1.csv\n",
        "./140218/140218_F3_C1/SealAndLeak_140218_F3_C1.csv\n",
        "./140218/140218_F3_C1/Sweep_140218_F3_C1.csv\n",
        "./140219/140219_F3_C4/PiezoBWCourtshipSong_140219_F3_C4.csv\n",
        "./140219/140219_F3_C4/PiezoChirp_140219_F3_C4.csv\n",
        "./140219/140219_F3_C4/PiezoCourtshipSong_140219_F3_C4.csv\n",
        "./140219/140219_F3_C4/PiezoSine_140219_F3_C4.csv\n",
        "./140219/140219_F3_C4/PiezoSquareWave_140219_F3_C4.csv\n",
        "./140219/140219_F3_C4/PiezoStep_140219_F3_C4.csv\n",
        "./140219/140219_F3_C4/SealAndLeak_140219_F3_C4.csv\n",
        "./140219/140219_F3_C4/Sweep_140219_F3_C4.csv\n",
        "./140424/140424_F1_C1/CurrentSine_140424_F1_C1.csv\n",
        "./140424/140424_F1_C1/CurrentStep_140424_F1_C1.csv\n",
        "./140424/140424_F1_C2/CurrentSine_140424_F1_C2.csv\n",
        "./140424/140424_F1_C2/CurrentStep_140424_F1_C2.csv\n"
       ]
      }
     ],
     "prompt_number": 158
    },
    {
     "cell_type": "code",
     "collapsed": false,
     "input": [
      "from dateutil.parser import parse\n",
      "\n",
      "csvfile = queue[0]\n",
      "pdb = pd.read_csv(csvfile)\n",
      "#pdb.timestamp = pdb.timestamp.apply(lambda d: parse(d))\n",
      "pdb.timestamp[0]"
     ],
     "language": "python",
     "metadata": {},
     "outputs": [
      {
       "metadata": {},
       "output_type": "pyout",
       "prompt_number": 159,
       "text": [
        "'01-May-2014 21:03:19'"
       ]
      }
     ],
     "prompt_number": 159
    },
    {
     "cell_type": "code",
     "collapsed": false,
     "input": [
      "pdb.columns"
     ],
     "language": "python",
     "metadata": {},
     "outputs": [
      {
       "metadata": {},
       "output_type": "pyout",
       "prompt_number": 160,
       "text": [
        "Index([u'displacement', u'displacementOffset', u'displacements', u'durSweep', u'gain', u'mode', u'postDurInSec', u'preDurInSec', u'protocol', u'ramptime', u'sampratein', u'samprateout', u'secondary_gain', u'stimDurInSec', u'Vm_id', u'trial', u'trialBlock', u'tags', u'rawname', u'datestr', u'idstr', u'fly', u'cell', u'genotype', u'timestamp', u'path'], dtype=object)"
       ]
      }
     ],
     "prompt_number": 160
    },
    {
     "cell_type": "code",
     "collapsed": false,
     "input": [
      "pdb_h = pdb.set_index(['genotype','datestr','fly','cell','protocol'])"
     ],
     "language": "python",
     "metadata": {},
     "outputs": [],
     "prompt_number": 161
    },
    {
     "cell_type": "code",
     "collapsed": false,
     "input": [
      "pdb_h.index"
     ],
     "language": "python",
     "metadata": {},
     "outputs": [
      {
       "metadata": {},
       "output_type": "pyout",
       "prompt_number": 162,
       "text": [
        "MultiIndex\n",
        "[(u'GH86-Gal4/+;pJFRC7/+;VT34811/+', 140218, 2, 2, u'PiezoBWCourtshipSong'), (u'GH86-Gal4/+;pJFRC7/+;VT34811/+', 140218, 2, 2, u'PiezoBWCourtshipSong'), (u'GH86-Gal4/+;pJFRC7/+;VT34811/+', 140218, 2, 2, u'PiezoBWCourtshipSong'), (u'GH86-Gal4/+;pJFRC7/+;VT34811/+', 140218, 2, 2, u'PiezoBWCourtshipSong'), (u'GH86-Gal4/+;pJFRC7/+;VT34811/+', 140218, 2, 2, u'PiezoBWCourtshipSong'), (u'GH86-Gal4/+;pJFRC7/+;VT34811/+', 140218, 2, 2, u'PiezoBWCourtshipSong'), (u'GH86-Gal4/+;pJFRC7/+;VT34811/+', 140218, 2, 2, u'PiezoBWCourtshipSong'), (u'GH86-Gal4/+;pJFRC7/+;VT34811/+', 140218, 2, 2, u'PiezoBWCourtshipSong'), (u'GH86-Gal4/+;pJFRC7/+;VT34811/+', 140218, 2, 2, u'PiezoBWCourtshipSong')]"
       ]
      }
     ],
     "prompt_number": 162
    },
    {
     "cell_type": "code",
     "collapsed": false,
     "input": [
      "test_h = pdb_h.xs('PiezoBWCourtshipSong',level=4)\n",
      "test_h"
     ],
     "language": "python",
     "metadata": {},
     "outputs": [
      {
       "metadata": {},
       "output_type": "pyout",
       "prompt_number": 163,
       "text": [
        "<class 'pandas.core.frame.DataFrame'>\n",
        "MultiIndex: 9 entries, (GH86-Gal4/+;pJFRC7/+;VT34811/+, 140218, 2, 2) to (GH86-Gal4/+;pJFRC7/+;VT34811/+, 140218, 2, 2)\n",
        "Data columns (total 21 columns):\n",
        "displacement          9  non-null values\n",
        "displacementOffset    9  non-null values\n",
        "displacements         9  non-null values\n",
        "durSweep              9  non-null values\n",
        "gain                  9  non-null values\n",
        "mode                  9  non-null values\n",
        "postDurInSec          9  non-null values\n",
        "preDurInSec           9  non-null values\n",
        "ramptime              9  non-null values\n",
        "sampratein            9  non-null values\n",
        "samprateout           9  non-null values\n",
        "secondary_gain        9  non-null values\n",
        "stimDurInSec          9  non-null values\n",
        "Vm_id                 9  non-null values\n",
        "trial                 9  non-null values\n",
        "trialBlock            9  non-null values\n",
        "tags                  0  non-null values\n",
        "rawname               9  non-null values\n",
        "idstr                 9  non-null values\n",
        "timestamp             9  non-null values\n",
        "path                  9  non-null values\n",
        "dtypes: float64(6), int64(9), object(6)"
       ]
      }
     ],
     "prompt_number": 163
    },
    {
     "cell_type": "code",
     "collapsed": false,
     "input": [
      "paramdb = pd.DataFrame()\n",
      "\n",
      "csvfile = queue[0]\n",
      "pdb1 = pd.read_csv(csvfile)\n",
      "pdb1.timestamp = pdb1.timestamp.apply(lambda d: parse(d))\n",
      "\n",
      "paramdb1 = pd.concat([paramdb,pdb],axis=0,ignore_index=True)\n",
      "paramdb1"
     ],
     "language": "python",
     "metadata": {},
     "outputs": [
      {
       "metadata": {},
       "output_type": "pyout",
       "prompt_number": 164,
       "text": [
        "<class 'pandas.core.frame.DataFrame'>\n",
        "Int64Index: 9 entries, 0 to 8\n",
        "Data columns (total 26 columns):\n",
        "Vm_id                 9  non-null values\n",
        "cell                  9  non-null values\n",
        "datestr               9  non-null values\n",
        "displacement          9  non-null values\n",
        "displacementOffset    9  non-null values\n",
        "displacements         9  non-null values\n",
        "durSweep              9  non-null values\n",
        "fly                   9  non-null values\n",
        "gain                  9  non-null values\n",
        "genotype              9  non-null values\n",
        "idstr                 9  non-null values\n",
        "mode                  9  non-null values\n",
        "path                  9  non-null values\n",
        "postDurInSec          9  non-null values\n",
        "preDurInSec           9  non-null values\n",
        "protocol              9  non-null values\n",
        "ramptime              9  non-null values\n",
        "rawname               9  non-null values\n",
        "sampratein            9  non-null values\n",
        "samprateout           9  non-null values\n",
        "secondary_gain        9  non-null values\n",
        "stimDurInSec          9  non-null values\n",
        "tags                  0  non-null values\n",
        "timestamp             9  non-null values\n",
        "trial                 9  non-null values\n",
        "trialBlock            9  non-null values\n",
        "dtypes: float64(6), int64(12), object(8)"
       ]
      }
     ],
     "prompt_number": 164
    },
    {
     "cell_type": "code",
     "collapsed": false,
     "input": [
      "csvfile = queue[1]\n",
      "pdb2 = pd.read_csv(csvfile)\n",
      "pdb2.timestamp = pdb2.timestamp.apply(lambda d: parse(d))\n",
      "paramdb2 = pd.concat([paramdb1,pdb2],axis=0,ignore_index=True)"
     ],
     "language": "python",
     "metadata": {},
     "outputs": [],
     "prompt_number": 165
    },
    {
     "cell_type": "code",
     "collapsed": false,
     "input": [
      "paramdb2.index"
     ],
     "language": "python",
     "metadata": {},
     "outputs": [
      {
       "metadata": {},
       "output_type": "pyout",
       "prompt_number": 166,
       "text": [
        "Int64Index([0, 1, 2, 3, 4, 5, 6, 7, 8, 9, 10, 11], dtype=int64)"
       ]
      }
     ],
     "prompt_number": 166
    },
    {
     "cell_type": "markdown",
     "metadata": {},
     "source": [
      "That looks pretty good.  The Freq start key, etc, are filled out, all other parameters are filled in.  Now try to use the hierarchical indices to try to concatenate the two."
     ]
    },
    {
     "cell_type": "code",
     "collapsed": false,
     "input": [
      "pdb1_h = pdb1.set_index(['genotype','datestr','fly','cell','protocol','trial'])"
     ],
     "language": "python",
     "metadata": {},
     "outputs": [],
     "prompt_number": 167
    },
    {
     "cell_type": "markdown",
     "metadata": {},
     "source": [
      "A little trick for the tags columns:"
     ]
    },
    {
     "cell_type": "code",
     "collapsed": false,
     "input": [
      "# tag_iter = (set(x.split('/')) for x in paramdb.tags)\n",
      "# tags = sorted(set.union(*tag_iter))\n"
     ],
     "language": "python",
     "metadata": {},
     "outputs": [],
     "prompt_number": 108
    },
    {
     "cell_type": "heading",
     "level": 1,
     "metadata": {},
     "source": [
      "Construct ParameterDB from matlab generated csv files"
     ]
    },
    {
     "cell_type": "code",
     "collapsed": false,
     "input": [
      "%matplotlib inline\n",
      "import pandas as pd\n",
      "import numpy as np\n",
      "import os\n",
      "import copy\n",
      "\n",
      "from os.path import join, getsize\n",
      "from datetime import datetime\n",
      "from dateutil.parser import parse\n",
      "from collections import deque\n",
      "\n",
      "# Set some Pandas options\n",
      "pd.set_option('display.notebook_repr_html', False)\n",
      "pd.set_option('display.max_columns', 20)\n",
      "pd.set_option('display.max_rows', 25)"
     ],
     "language": "python",
     "metadata": {},
     "outputs": [],
     "prompt_number": 168
    },
    {
     "cell_type": "code",
     "collapsed": false,
     "input": [
      "queue = deque()\n",
      "\n",
      "csvfiles = '';\n",
      "for root, dirs, files in os.walk('.'):\n",
      "    print root\n",
      "    if '.git' in dirs:\n",
      "        dirs.remove('.git')  # don't visit CVS directories\n",
      "    for f in files:\n",
      "        if '.csv' in f:\n",
      "            queue.append(join(root,f))\n",
      "            \n",
      "parameterdb = pd.DataFrame()\n",
      "\n",
      "while len(queue) > 0: \n",
      "    csvfile = queue.popleft()\n",
      "    print 'Adding ' + csvfile\n",
      "    pdb = pd.read_csv(csvfile)\n",
      "    pdb.timestamp = pdb.timestamp.apply(lambda d: parse(d))\n",
      "    parameterdb = pd.concat([parameterdb,pdb],axis=0,ignore_index=True)"
     ],
     "language": "python",
     "metadata": {},
     "outputs": [
      {
       "output_type": "stream",
       "stream": "stdout",
       "text": [
        ".\n",
        "./140218\n",
        "./140218/140218_F2_C2\n",
        "./140218/140218_F3_C1\n",
        "./140219\n",
        "./140219/140219_F3_C4\n",
        "./140424\n",
        "./140424/140424_F1_C1\n",
        "./140424/140424_F1_C2\n",
        "Adding ./140218/140218_F2_C2/PiezoBWCourtshipSong_140218_F2_C2.csv\n",
        "Adding ./140218/140218_F2_C2/PiezoChirp_140218_F2_C2.csv\n",
        "Adding ./140218/140218_F2_C2/PiezoSine_140218_F2_C2.csv\n",
        "Adding ./140218/140218_F2_C2/PiezoSquareWave_140218_F2_C2.csv"
       ]
      },
      {
       "output_type": "stream",
       "stream": "stdout",
       "text": [
        "\n",
        "Adding ./140218/140218_F2_C2/PiezoStep_140218_F2_C2.csv\n",
        "Adding ./140218/140218_F2_C2/SealAndLeak_140218_F2_C2.csv\n",
        "Adding ./140218/140218_F2_C2/Sweep_140218_F2_C2.csv\n",
        "Adding ./140218/140218_F3_C1/PiezoChirp_140218_F3_C1.csv\n",
        "Adding ./140218/140218_F3_C1/PiezoSine_140218_F3_C1.csv\n",
        "Adding ./140218/140218_F3_C1/PiezoSquareWave_140218_F3_C1.csv"
       ]
      },
      {
       "output_type": "stream",
       "stream": "stdout",
       "text": [
        "\n",
        "Adding ./140218/140218_F3_C1/PiezoStep_140218_F3_C1.csv\n",
        "Adding ./140218/140218_F3_C1/SealAndLeak_140218_F3_C1.csv\n",
        "Adding ./140218/140218_F3_C1/Sweep_140218_F3_C1.csv\n",
        "Adding ./140219/140219_F3_C4/PiezoBWCourtshipSong_140219_F3_C4.csv\n",
        "Adding ./140219/140219_F3_C4/PiezoChirp_140219_F3_C4.csv\n",
        "Adding ./140219/140219_F3_C4/PiezoCourtshipSong_140219_F3_C4.csv\n",
        "Adding ./140219/140219_F3_C4/PiezoSine_140219_F3_C4.csv"
       ]
      },
      {
       "output_type": "stream",
       "stream": "stdout",
       "text": [
        "\n",
        "Adding ./140219/140219_F3_C4/PiezoSquareWave_140219_F3_C4.csv\n",
        "Adding ./140219/140219_F3_C4/PiezoStep_140219_F3_C4.csv\n",
        "Adding ./140219/140219_F3_C4/SealAndLeak_140219_F3_C4.csv\n",
        "Adding ./140219/140219_F3_C4/Sweep_140219_F3_C4.csv\n",
        "Adding ./140424/140424_F1_C1/CurrentSine_140424_F1_C1.csv"
       ]
      },
      {
       "output_type": "stream",
       "stream": "stdout",
       "text": [
        "\n"
       ]
      },
      {
       "ename": "AttributeError",
       "evalue": "'numpy.float64' object has no attribute 'read'",
       "output_type": "pyerr",
       "traceback": [
        "\u001b[0;31m---------------------------------------------------------------------------\u001b[0m\n\u001b[0;31mAttributeError\u001b[0m                            Traceback (most recent call last)",
        "\u001b[0;32m<ipython-input-171-acced8103c01>\u001b[0m in \u001b[0;36m<module>\u001b[0;34m()\u001b[0m\n\u001b[1;32m     16\u001b[0m     \u001b[0;32mprint\u001b[0m \u001b[0;34m'Adding '\u001b[0m \u001b[0;34m+\u001b[0m \u001b[0mcsvfile\u001b[0m\u001b[0;34m\u001b[0m\u001b[0m\n\u001b[1;32m     17\u001b[0m     \u001b[0mpdb\u001b[0m \u001b[0;34m=\u001b[0m \u001b[0mpd\u001b[0m\u001b[0;34m.\u001b[0m\u001b[0mread_csv\u001b[0m\u001b[0;34m(\u001b[0m\u001b[0mcsvfile\u001b[0m\u001b[0;34m)\u001b[0m\u001b[0;34m\u001b[0m\u001b[0m\n\u001b[0;32m---> 18\u001b[0;31m     \u001b[0mpdb\u001b[0m\u001b[0;34m.\u001b[0m\u001b[0mtimestamp\u001b[0m \u001b[0;34m=\u001b[0m \u001b[0mpdb\u001b[0m\u001b[0;34m.\u001b[0m\u001b[0mtimestamp\u001b[0m\u001b[0;34m.\u001b[0m\u001b[0mapply\u001b[0m\u001b[0;34m(\u001b[0m\u001b[0;32mlambda\u001b[0m \u001b[0md\u001b[0m\u001b[0;34m:\u001b[0m \u001b[0mparse\u001b[0m\u001b[0;34m(\u001b[0m\u001b[0md\u001b[0m\u001b[0;34m)\u001b[0m\u001b[0;34m)\u001b[0m\u001b[0;34m\u001b[0m\u001b[0m\n\u001b[0m\u001b[1;32m     19\u001b[0m     \u001b[0mparameterdb\u001b[0m \u001b[0;34m=\u001b[0m \u001b[0mpd\u001b[0m\u001b[0;34m.\u001b[0m\u001b[0mconcat\u001b[0m\u001b[0;34m(\u001b[0m\u001b[0;34m[\u001b[0m\u001b[0mparameterdb\u001b[0m\u001b[0;34m,\u001b[0m\u001b[0mpdb\u001b[0m\u001b[0;34m]\u001b[0m\u001b[0;34m,\u001b[0m\u001b[0maxis\u001b[0m\u001b[0;34m=\u001b[0m\u001b[0;36m0\u001b[0m\u001b[0;34m,\u001b[0m\u001b[0mignore_index\u001b[0m\u001b[0;34m=\u001b[0m\u001b[0mTrue\u001b[0m\u001b[0;34m)\u001b[0m\u001b[0;34m\u001b[0m\u001b[0m\n",
        "\u001b[0;32m/Users/tony/anaconda/lib/python2.7/site-packages/pandas/core/series.pyc\u001b[0m in \u001b[0;36mapply\u001b[0;34m(self, func, convert_dtype, args, **kwds)\u001b[0m\n\u001b[1;32m   2534\u001b[0m             \u001b[0mvalues\u001b[0m \u001b[0;34m=\u001b[0m \u001b[0mlib\u001b[0m\u001b[0;34m.\u001b[0m\u001b[0mmap_infer\u001b[0m\u001b[0;34m(\u001b[0m\u001b[0mvalues\u001b[0m\u001b[0;34m,\u001b[0m \u001b[0mlib\u001b[0m\u001b[0;34m.\u001b[0m\u001b[0mTimestamp\u001b[0m\u001b[0;34m)\u001b[0m\u001b[0;34m\u001b[0m\u001b[0m\n\u001b[1;32m   2535\u001b[0m \u001b[0;34m\u001b[0m\u001b[0m\n\u001b[0;32m-> 2536\u001b[0;31m         \u001b[0mmapped\u001b[0m \u001b[0;34m=\u001b[0m \u001b[0mlib\u001b[0m\u001b[0;34m.\u001b[0m\u001b[0mmap_infer\u001b[0m\u001b[0;34m(\u001b[0m\u001b[0mvalues\u001b[0m\u001b[0;34m,\u001b[0m \u001b[0mf\u001b[0m\u001b[0;34m,\u001b[0m \u001b[0mconvert\u001b[0m\u001b[0;34m=\u001b[0m\u001b[0mconvert_dtype\u001b[0m\u001b[0;34m)\u001b[0m\u001b[0;34m\u001b[0m\u001b[0m\n\u001b[0m\u001b[1;32m   2537\u001b[0m         \u001b[0;32mif\u001b[0m \u001b[0misinstance\u001b[0m\u001b[0;34m(\u001b[0m\u001b[0mmapped\u001b[0m\u001b[0;34m[\u001b[0m\u001b[0;36m0\u001b[0m\u001b[0;34m]\u001b[0m\u001b[0;34m,\u001b[0m \u001b[0mSeries\u001b[0m\u001b[0;34m)\u001b[0m\u001b[0;34m:\u001b[0m\u001b[0;34m\u001b[0m\u001b[0m\n\u001b[1;32m   2538\u001b[0m             \u001b[0;32mfrom\u001b[0m \u001b[0mpandas\u001b[0m\u001b[0;34m.\u001b[0m\u001b[0mcore\u001b[0m\u001b[0;34m.\u001b[0m\u001b[0mframe\u001b[0m \u001b[0;32mimport\u001b[0m \u001b[0mDataFrame\u001b[0m\u001b[0;34m\u001b[0m\u001b[0m\n",
        "\u001b[0;32m/Users/tony/anaconda/lib/python2.7/site-packages/pandas/lib.so\u001b[0m in \u001b[0;36mpandas.lib.map_infer (pandas/lib.c:42840)\u001b[0;34m()\u001b[0m\n",
        "\u001b[0;32m<ipython-input-171-acced8103c01>\u001b[0m in \u001b[0;36m<lambda>\u001b[0;34m(d)\u001b[0m\n\u001b[1;32m     16\u001b[0m     \u001b[0;32mprint\u001b[0m \u001b[0;34m'Adding '\u001b[0m \u001b[0;34m+\u001b[0m \u001b[0mcsvfile\u001b[0m\u001b[0;34m\u001b[0m\u001b[0m\n\u001b[1;32m     17\u001b[0m     \u001b[0mpdb\u001b[0m \u001b[0;34m=\u001b[0m \u001b[0mpd\u001b[0m\u001b[0;34m.\u001b[0m\u001b[0mread_csv\u001b[0m\u001b[0;34m(\u001b[0m\u001b[0mcsvfile\u001b[0m\u001b[0;34m)\u001b[0m\u001b[0;34m\u001b[0m\u001b[0m\n\u001b[0;32m---> 18\u001b[0;31m     \u001b[0mpdb\u001b[0m\u001b[0;34m.\u001b[0m\u001b[0mtimestamp\u001b[0m \u001b[0;34m=\u001b[0m \u001b[0mpdb\u001b[0m\u001b[0;34m.\u001b[0m\u001b[0mtimestamp\u001b[0m\u001b[0;34m.\u001b[0m\u001b[0mapply\u001b[0m\u001b[0;34m(\u001b[0m\u001b[0;32mlambda\u001b[0m \u001b[0md\u001b[0m\u001b[0;34m:\u001b[0m \u001b[0mparse\u001b[0m\u001b[0;34m(\u001b[0m\u001b[0md\u001b[0m\u001b[0;34m)\u001b[0m\u001b[0;34m)\u001b[0m\u001b[0;34m\u001b[0m\u001b[0m\n\u001b[0m\u001b[1;32m     19\u001b[0m     \u001b[0mparameterdb\u001b[0m \u001b[0;34m=\u001b[0m \u001b[0mpd\u001b[0m\u001b[0;34m.\u001b[0m\u001b[0mconcat\u001b[0m\u001b[0;34m(\u001b[0m\u001b[0;34m[\u001b[0m\u001b[0mparameterdb\u001b[0m\u001b[0;34m,\u001b[0m\u001b[0mpdb\u001b[0m\u001b[0;34m]\u001b[0m\u001b[0;34m,\u001b[0m\u001b[0maxis\u001b[0m\u001b[0;34m=\u001b[0m\u001b[0;36m0\u001b[0m\u001b[0;34m,\u001b[0m\u001b[0mignore_index\u001b[0m\u001b[0;34m=\u001b[0m\u001b[0mTrue\u001b[0m\u001b[0;34m)\u001b[0m\u001b[0;34m\u001b[0m\u001b[0m\n",
        "\u001b[0;32m/Users/tony/anaconda/lib/python2.7/site-packages/dateutil/parser.pyc\u001b[0m in \u001b[0;36mparse\u001b[0;34m(timestr, parserinfo, **kwargs)\u001b[0m\n\u001b[1;32m    695\u001b[0m         \u001b[0;32mreturn\u001b[0m \u001b[0mparser\u001b[0m\u001b[0;34m(\u001b[0m\u001b[0mparserinfo\u001b[0m\u001b[0;34m)\u001b[0m\u001b[0;34m.\u001b[0m\u001b[0mparse\u001b[0m\u001b[0;34m(\u001b[0m\u001b[0mtimestr\u001b[0m\u001b[0;34m,\u001b[0m \u001b[0;34m**\u001b[0m\u001b[0mkwargs\u001b[0m\u001b[0;34m)\u001b[0m\u001b[0;34m\u001b[0m\u001b[0m\n\u001b[1;32m    696\u001b[0m     \u001b[0;32melse\u001b[0m\u001b[0;34m:\u001b[0m\u001b[0;34m\u001b[0m\u001b[0m\n\u001b[0;32m--> 697\u001b[0;31m         \u001b[0;32mreturn\u001b[0m \u001b[0mDEFAULTPARSER\u001b[0m\u001b[0;34m.\u001b[0m\u001b[0mparse\u001b[0m\u001b[0;34m(\u001b[0m\u001b[0mtimestr\u001b[0m\u001b[0;34m,\u001b[0m \u001b[0;34m**\u001b[0m\u001b[0mkwargs\u001b[0m\u001b[0;34m)\u001b[0m\u001b[0;34m\u001b[0m\u001b[0m\n\u001b[0m\u001b[1;32m    698\u001b[0m \u001b[0;34m\u001b[0m\u001b[0m\n\u001b[1;32m    699\u001b[0m \u001b[0;34m\u001b[0m\u001b[0m\n",
        "\u001b[0;32m/Users/tony/anaconda/lib/python2.7/site-packages/dateutil/parser.pyc\u001b[0m in \u001b[0;36mparse\u001b[0;34m(self, timestr, default, ignoretz, tzinfos, **kwargs)\u001b[0m\n\u001b[1;32m    299\u001b[0m             default = datetime.datetime.now().replace(hour=0, minute=0,\n\u001b[1;32m    300\u001b[0m                                                       second=0, microsecond=0)\n\u001b[0;32m--> 301\u001b[0;31m         \u001b[0mres\u001b[0m \u001b[0;34m=\u001b[0m \u001b[0mself\u001b[0m\u001b[0;34m.\u001b[0m\u001b[0m_parse\u001b[0m\u001b[0;34m(\u001b[0m\u001b[0mtimestr\u001b[0m\u001b[0;34m,\u001b[0m \u001b[0;34m**\u001b[0m\u001b[0mkwargs\u001b[0m\u001b[0;34m)\u001b[0m\u001b[0;34m\u001b[0m\u001b[0m\n\u001b[0m\u001b[1;32m    302\u001b[0m         \u001b[0;32mif\u001b[0m \u001b[0mres\u001b[0m \u001b[0;32mis\u001b[0m \u001b[0mNone\u001b[0m\u001b[0;34m:\u001b[0m\u001b[0;34m\u001b[0m\u001b[0m\n\u001b[1;32m    303\u001b[0m             \u001b[0;32mraise\u001b[0m \u001b[0mValueError\u001b[0m\u001b[0;34m,\u001b[0m \u001b[0;34m\"unknown string format\"\u001b[0m\u001b[0;34m\u001b[0m\u001b[0m\n",
        "\u001b[0;32m/Users/tony/anaconda/lib/python2.7/site-packages/dateutil/parser.pyc\u001b[0m in \u001b[0;36m_parse\u001b[0;34m(self, timestr, dayfirst, yearfirst, fuzzy)\u001b[0m\n\u001b[1;32m    347\u001b[0m             \u001b[0myearfirst\u001b[0m \u001b[0;34m=\u001b[0m \u001b[0minfo\u001b[0m\u001b[0;34m.\u001b[0m\u001b[0myearfirst\u001b[0m\u001b[0;34m\u001b[0m\u001b[0m\n\u001b[1;32m    348\u001b[0m         \u001b[0mres\u001b[0m \u001b[0;34m=\u001b[0m \u001b[0mself\u001b[0m\u001b[0;34m.\u001b[0m\u001b[0m_result\u001b[0m\u001b[0;34m(\u001b[0m\u001b[0;34m)\u001b[0m\u001b[0;34m\u001b[0m\u001b[0m\n\u001b[0;32m--> 349\u001b[0;31m         \u001b[0ml\u001b[0m \u001b[0;34m=\u001b[0m \u001b[0m_timelex\u001b[0m\u001b[0;34m.\u001b[0m\u001b[0msplit\u001b[0m\u001b[0;34m(\u001b[0m\u001b[0mtimestr\u001b[0m\u001b[0;34m)\u001b[0m\u001b[0;34m\u001b[0m\u001b[0m\n\u001b[0m\u001b[1;32m    350\u001b[0m         \u001b[0;32mtry\u001b[0m\u001b[0;34m:\u001b[0m\u001b[0;34m\u001b[0m\u001b[0m\n\u001b[1;32m    351\u001b[0m \u001b[0;34m\u001b[0m\u001b[0m\n",
        "\u001b[0;32m/Users/tony/anaconda/lib/python2.7/site-packages/dateutil/parser.pyc\u001b[0m in \u001b[0;36msplit\u001b[0;34m(cls, s)\u001b[0m\n\u001b[1;32m    141\u001b[0m \u001b[0;34m\u001b[0m\u001b[0m\n\u001b[1;32m    142\u001b[0m     \u001b[0;32mdef\u001b[0m \u001b[0msplit\u001b[0m\u001b[0;34m(\u001b[0m\u001b[0mcls\u001b[0m\u001b[0;34m,\u001b[0m \u001b[0ms\u001b[0m\u001b[0;34m)\u001b[0m\u001b[0;34m:\u001b[0m\u001b[0;34m\u001b[0m\u001b[0m\n\u001b[0;32m--> 143\u001b[0;31m         \u001b[0;32mreturn\u001b[0m \u001b[0mlist\u001b[0m\u001b[0;34m(\u001b[0m\u001b[0mcls\u001b[0m\u001b[0;34m(\u001b[0m\u001b[0ms\u001b[0m\u001b[0;34m)\u001b[0m\u001b[0;34m)\u001b[0m\u001b[0;34m\u001b[0m\u001b[0m\n\u001b[0m\u001b[1;32m    144\u001b[0m     \u001b[0msplit\u001b[0m \u001b[0;34m=\u001b[0m \u001b[0mclassmethod\u001b[0m\u001b[0;34m(\u001b[0m\u001b[0msplit\u001b[0m\u001b[0;34m)\u001b[0m\u001b[0;34m\u001b[0m\u001b[0m\n\u001b[1;32m    145\u001b[0m \u001b[0;34m\u001b[0m\u001b[0m\n",
        "\u001b[0;32m/Users/tony/anaconda/lib/python2.7/site-packages/dateutil/parser.pyc\u001b[0m in \u001b[0;36mnext\u001b[0;34m(self)\u001b[0m\n\u001b[1;32m    135\u001b[0m \u001b[0;34m\u001b[0m\u001b[0m\n\u001b[1;32m    136\u001b[0m     \u001b[0;32mdef\u001b[0m \u001b[0mnext\u001b[0m\u001b[0;34m(\u001b[0m\u001b[0mself\u001b[0m\u001b[0;34m)\u001b[0m\u001b[0;34m:\u001b[0m\u001b[0;34m\u001b[0m\u001b[0m\n\u001b[0;32m--> 137\u001b[0;31m         \u001b[0mtoken\u001b[0m \u001b[0;34m=\u001b[0m \u001b[0mself\u001b[0m\u001b[0;34m.\u001b[0m\u001b[0mget_token\u001b[0m\u001b[0;34m(\u001b[0m\u001b[0;34m)\u001b[0m\u001b[0;34m\u001b[0m\u001b[0m\n\u001b[0m\u001b[1;32m    138\u001b[0m         \u001b[0;32mif\u001b[0m \u001b[0mtoken\u001b[0m \u001b[0;32mis\u001b[0m \u001b[0mNone\u001b[0m\u001b[0;34m:\u001b[0m\u001b[0;34m\u001b[0m\u001b[0m\n\u001b[1;32m    139\u001b[0m             \u001b[0;32mraise\u001b[0m \u001b[0mStopIteration\u001b[0m\u001b[0;34m\u001b[0m\u001b[0m\n",
        "\u001b[0;32m/Users/tony/anaconda/lib/python2.7/site-packages/dateutil/parser.pyc\u001b[0m in \u001b[0;36mget_token\u001b[0;34m(self)\u001b[0m\n\u001b[1;32m     66\u001b[0m                 \u001b[0mnextchar\u001b[0m \u001b[0;34m=\u001b[0m \u001b[0mself\u001b[0m\u001b[0;34m.\u001b[0m\u001b[0mcharstack\u001b[0m\u001b[0;34m.\u001b[0m\u001b[0mpop\u001b[0m\u001b[0;34m(\u001b[0m\u001b[0;36m0\u001b[0m\u001b[0;34m)\u001b[0m\u001b[0;34m\u001b[0m\u001b[0m\n\u001b[1;32m     67\u001b[0m             \u001b[0;32melse\u001b[0m\u001b[0;34m:\u001b[0m\u001b[0;34m\u001b[0m\u001b[0m\n\u001b[0;32m---> 68\u001b[0;31m                 \u001b[0mnextchar\u001b[0m \u001b[0;34m=\u001b[0m \u001b[0mself\u001b[0m\u001b[0;34m.\u001b[0m\u001b[0minstream\u001b[0m\u001b[0;34m.\u001b[0m\u001b[0mread\u001b[0m\u001b[0;34m(\u001b[0m\u001b[0;36m1\u001b[0m\u001b[0;34m)\u001b[0m\u001b[0;34m\u001b[0m\u001b[0m\n\u001b[0m\u001b[1;32m     69\u001b[0m                 \u001b[0;32mwhile\u001b[0m \u001b[0mnextchar\u001b[0m \u001b[0;34m==\u001b[0m \u001b[0;34m'\\x00'\u001b[0m\u001b[0;34m:\u001b[0m\u001b[0;34m\u001b[0m\u001b[0m\n\u001b[1;32m     70\u001b[0m                     \u001b[0mnextchar\u001b[0m \u001b[0;34m=\u001b[0m \u001b[0mself\u001b[0m\u001b[0;34m.\u001b[0m\u001b[0minstream\u001b[0m\u001b[0;34m.\u001b[0m\u001b[0mread\u001b[0m\u001b[0;34m(\u001b[0m\u001b[0;36m1\u001b[0m\u001b[0;34m)\u001b[0m\u001b[0;34m\u001b[0m\u001b[0m\n",
        "\u001b[0;31mAttributeError\u001b[0m: 'numpy.float64' object has no attribute 'read'"
       ]
      }
     ],
     "prompt_number": 171
    },
    {
     "cell_type": "code",
     "collapsed": false,
     "input": [
      "pdb"
     ],
     "language": "python",
     "metadata": {},
     "outputs": [
      {
       "metadata": {},
       "output_type": "pyout",
       "prompt_number": 172,
       "text": [
        "<class 'pandas.core.frame.DataFrame'>\n",
        "Int64Index: 108 entries, 0 to 107\n",
        "Data columns (total 33 columns):\n",
        "amp                 108  non-null values\n",
        "amps                108  non-null values\n",
        "durSweep            108  non-null values\n",
        "freq                108  non-null values\n",
        "freqs               108  non-null values\n",
        "gain                0  non-null values\n",
        "mode                0  non-null values\n",
        "postDurInSec        0  non-null values\n",
        "preDurInSec         0  non-null values\n",
        "protocol            0  non-null values\n",
        "ramptime            0  non-null values\n",
        "sampratein          0  non-null values\n",
        "samprateout         0  non-null values\n",
        "secondary_gain      0  non-null values\n",
        "stimDurInSec        0  non-null values\n",
        "Vm_id               0  non-null values\n",
        "mode_1              0  non-null values\n",
        "mode_2              0  non-null values\n",
        "gain_1              0  non-null values\n",
        "gain_2              0  non-null values\n",
        "secondary_gain_1    0  non-null values\n",
        "secondary_gain_2    0  non-null values\n",
        "trial               0  non-null values\n",
        "trialBlock          0  non-null values\n",
        "tags                0  non-null values\n",
        "rawname             0  non-null values\n",
        "datestr             0  non-null values\n",
        "idstr               0  non-null values\n",
        "fly                 0  non-null values\n",
        "cell                0  non-null values\n",
        "genotype            0  non-null values\n",
        "timestamp           0  non-null values\n",
        "path                0  non-null values\n",
        "dtypes: float64(30), int64(1), object(2)"
       ]
      }
     ],
     "prompt_number": 172
    },
    {
     "cell_type": "code",
     "collapsed": false,
     "input": [
      "parameterdb.timestamp"
     ],
     "language": "python",
     "metadata": {},
     "outputs": [
      {
       "metadata": {},
       "output_type": "pyout",
       "prompt_number": 136,
       "text": [
        "0   2014-05-01 21:03:19\n",
        "1   2014-05-01 21:03:19\n",
        "2   2014-05-01 21:03:19\n",
        "3   2014-05-01 21:03:19\n",
        "4   2014-05-01 21:03:19\n",
        "5   2014-05-01 21:03:19\n",
        "6   2014-05-01 21:03:19\n",
        "7   2014-05-01 21:03:19\n",
        "8   2014-05-01 21:03:19\n",
        "9   2014-05-01 21:03:19\n",
        "...\n",
        "239   2014-05-01 21:03:19\n",
        "240   2014-05-01 21:03:19\n",
        "241   2014-05-01 21:03:19\n",
        "242   2014-05-01 21:03:19\n",
        "243   2014-05-01 21:03:19\n",
        "244   2014-05-01 21:03:19\n",
        "245   2014-05-01 21:03:19\n",
        "246   2014-05-01 21:03:19\n",
        "247   2014-05-01 21:03:19\n",
        "248   2014-05-01 21:03:19\n",
        "249   2014-05-01 21:03:19\n",
        "Name: timestamp, Length: 250, dtype: datetime64[ns]"
       ]
      }
     ],
     "prompt_number": 136
    },
    {
     "cell_type": "code",
     "collapsed": false,
     "input": [
      "parameterdb.idstr"
     ],
     "language": "python",
     "metadata": {},
     "outputs": [
      {
       "metadata": {},
       "output_type": "pyout",
       "prompt_number": 137,
       "text": [
        "0    140219_F3_C4\n",
        "1    140219_F3_C4\n",
        "2    140219_F3_C4\n",
        "3    140219_F3_C4\n",
        "4    140219_F3_C4\n",
        "5    140219_F3_C4\n",
        "6    140219_F3_C4\n",
        "7    140219_F3_C4\n",
        "8    140219_F3_C4\n",
        "9    140219_F3_C4\n",
        "...\n",
        "239    140219_F3_C4\n",
        "240    140219_F3_C4\n",
        "241    140219_F3_C4\n",
        "242    140219_F3_C4\n",
        "243    140219_F3_C4\n",
        "244    140219_F3_C4\n",
        "245    140219_F3_C4\n",
        "246    140219_F3_C4\n",
        "247    140219_F3_C4\n",
        "248    140219_F3_C4\n",
        "249    140219_F3_C4\n",
        "Name: idstr, Length: 250, dtype: object"
       ]
      }
     ],
     "prompt_number": 137
    },
    {
     "cell_type": "code",
     "collapsed": false,
     "input": [
      "parameterdb.genotype"
     ],
     "language": "python",
     "metadata": {},
     "outputs": [
      {
       "metadata": {},
       "output_type": "pyout",
       "prompt_number": 138,
       "text": [
        "0    GH86-Gal4/+;pJFRC7/+;VT34811/+\n",
        "1    GH86-Gal4/+;pJFRC7/+;VT34811/+\n",
        "2    GH86-Gal4/+;pJFRC7/+;VT34811/+\n",
        "3    GH86-Gal4/+;pJFRC7/+;VT34811/+\n",
        "4    GH86-Gal4/+;pJFRC7/+;VT34811/+\n",
        "5    GH86-Gal4/+;pJFRC7/+;VT34811/+\n",
        "6    GH86-Gal4/+;pJFRC7/+;VT34811/+\n",
        "7    GH86-Gal4/+;pJFRC7/+;VT34811/+\n",
        "8    GH86-Gal4/+;pJFRC7/+;VT34811/+\n",
        "9    GH86-Gal4/+;pJFRC7/+;VT34811/+\n",
        "...\n",
        "239    GH86-Gal4/+;pJFRC7/+;VT34811/+\n",
        "240    GH86-Gal4/+;pJFRC7/+;VT34811/+\n",
        "241    GH86-Gal4/+;pJFRC7/+;VT34811/+\n",
        "242    GH86-Gal4/+;pJFRC7/+;VT34811/+\n",
        "243    GH86-Gal4/+;pJFRC7/+;VT34811/+\n",
        "244    GH86-Gal4/+;pJFRC7/+;VT34811/+\n",
        "245    GH86-Gal4/+;pJFRC7/+;VT34811/+\n",
        "246    GH86-Gal4/+;pJFRC7/+;VT34811/+\n",
        "247    GH86-Gal4/+;pJFRC7/+;VT34811/+\n",
        "248    GH86-Gal4/+;pJFRC7/+;VT34811/+\n",
        "249    GH86-Gal4/+;pJFRC7/+;VT34811/+\n",
        "Name: genotype, Length: 250, dtype: object"
       ]
      }
     ],
     "prompt_number": 138
    },
    {
     "cell_type": "code",
     "collapsed": false,
     "input": [
      "parameterdb_h = parameterdb.set_index(['genotype','datestr','fly','cell','protocol','trial'])"
     ],
     "language": "python",
     "metadata": {},
     "outputs": [],
     "prompt_number": 139
    },
    {
     "cell_type": "heading",
     "level": 1,
     "metadata": {},
     "source": [
      "Add GSPREAD data for each day"
     ]
    },
    {
     "cell_type": "code",
     "collapsed": false,
     "input": [
      "from IPython.core.display import HTML\n",
      "#HTML(\"<iframe src=http://burnash.github.io/gspread/ width=800 height=350></iframe>\")"
     ],
     "language": "python",
     "metadata": {},
     "outputs": [],
     "prompt_number": 140
    },
    {
     "cell_type": "code",
     "collapsed": false,
     "input": [
      "import gspread\n",
      "sheetclient = gspread.login('tazevedouwmail@gmail.com','udvvjgbqpsdkfkbz')\n",
      "Notebook = sheetclient.open('Lab Notebook')\n",
      "sheet = Notebook.sheet1\n",
      "#records = sheet.get_all_records()\n",
      "values_0 = sheet.get_all_values()"
     ],
     "language": "python",
     "metadata": {},
     "outputs": [],
     "prompt_number": 146
    },
    {
     "cell_type": "code",
     "collapsed": false,
     "input": [
      "import string\n",
      "\n",
      "values = copy.copy(values_0);\n",
      "headers = values.pop(0) # gives the headers as list and leaves data\n",
      "headers[1] = 'CellID'\n",
      "for ii in range(len(headers)):\n",
      "    headers[ii] = headers[ii].replace(' ','')\n",
      "    \n",
      "headers"
     ],
     "language": "python",
     "metadata": {},
     "outputs": [
      {
       "metadata": {},
       "output_type": "pyout",
       "prompt_number": 147,
       "text": [
        "['Timestamp',\n",
        " 'CellID',\n",
        " 'Genotype',\n",
        " 'Purpose',\n",
        " 'FlyAge',\n",
        " 'Drugs',\n",
        " 'Equipmentcheck',\n",
        " 'SaveProtocol',\n",
        " 'Plannedplaytime',\n",
        " 'PredictCell',\n",
        " 'Cleaning',\n",
        " 'Probeposition',\n",
        " 'Antennamovement',\n",
        " 'Additionalcleaningnotes',\n",
        " 'Targetcell',\n",
        " 'Electroderesistance(MOhms)',\n",
        " 'SealResistance',\n",
        " 'Patchingfailure',\n",
        " 'Rinput',\n",
        " 'RestingPotential',\n",
        " 'Holdingcurrent(-80mV)',\n",
        " 'Holdingcurrent(0mV)',\n",
        " 'Comments',\n",
        " 'Playtimeactivities',\n",
        " 'RecordArcLight',\n",
        " 'RecordAVLP',\n",
        " 'RecordLowFrequency',\n",
        " 'RecordMidFrequency',\n",
        " 'RecordMidFreqSpiking',\n",
        " 'RecordHighFreqDepol',\n",
        " 'RecordPairs',\n",
        " 'RecordCellAttached',\n",
        " 'RecordRogueCells',\n",
        " 'RecordNRSA',\n",
        " 'RecordConfocalimages',\n",
        " 'RecordIntrinsicproperties']"
       ]
      }
     ],
     "prompt_number": 147
    },
    {
     "cell_type": "code",
     "collapsed": false,
     "input": [
      "notebookDF = pd.DataFrame(values,columns = headers)\n",
      "def nbparse(d):\n",
      "    from dateutil.parser import parse\n",
      "    if d == '':\n",
      "        dt = None\n",
      "    else:\n",
      "        try: dt = parse(d)\n",
      "        except: \n",
      "            dt = None\n",
      "    return dt\n",
      "\n",
      "def idsplit(d):\n",
      "    d = d.replace('_','')\n",
      "    d = d.replace(' ','')\n",
      "    d = d.replace('F',' ')\n",
      "    d = d.replace('C',' ')\n",
      "    d = d.strip()\n",
      "    d = d.split(' ')\n",
      "\n",
      "    for ii in range(len(d)):\n",
      "        try: d[ii] = int(d[ii])\n",
      "        except:\n",
      "            continue\n",
      "    return d\n",
      "\n",
      "notebookDF.Timestamp = notebookDF.Timestamp.apply(nbparse)\n",
      "notebookDF.index = notebookDF.Timestamp\n",
      "notebookDF = notebookDF.drop([None],axis=0)\n",
      "notebookDF['CellID'] = notebookDF['CellID'].apply(idsplit)\n",
      "notebookDF['idstr'] = None\n",
      "for ix in range(notebookDF.shape[0]):\n",
      "    a = notebookDF.Timestamp[ix].isoformat()[2:10]\n",
      "    b = a.replace('-','') + '_F{}_C{}'\n",
      "    c = notebookDF.CellID[ix]\n",
      "    notebookDF.idstr[ix] = b.format(c[0],c[1])\n",
      "    \n",
      "notebookDF = notebookDF[['idstr',\n",
      "                        'Purpose',\n",
      "                        'FlyAge',\n",
      "                        'Drugs',\n",
      "                        'Comments',\n",
      "                        'RecordArcLight',\n",
      "                        'RecordAVLP',\n",
      "                        'RecordLowFrequency',\n",
      "                        'RecordMidFrequency',\n",
      "                        'RecordMidFreqSpiking',\n",
      "                        'RecordHighFreqDepol',\n",
      "                        'RecordPairs',\n",
      "                        'RecordCellAttached',\n",
      "                        'RecordRogueCells',\n",
      "                        'RecordNRSA',\n",
      "                        'RecordConfocalimages',\n",
      "                        'RecordIntrinsicproperties',\n",
      "                        ]]"
     ],
     "language": "python",
     "metadata": {},
     "outputs": [],
     "prompt_number": 148
    },
    {
     "cell_type": "code",
     "collapsed": false,
     "input": [
      "parameterdb2 = pd.merge(parameterdb,notebookDF, how = 'left',left_on = 'idstr', right_on = 'idstr')\n",
      "parameterdb2.columns"
     ],
     "language": "python",
     "metadata": {},
     "outputs": [
      {
       "metadata": {},
       "output_type": "pyout",
       "prompt_number": 149,
       "text": [
        "Index([u'Vm_id', u'cell', u'cycleDurInSec', u'cycles', u'datestr', u'displacement', u'displacementOffset', u'displacements', u'durSweep', u'fly', u'freq', u'freqEnd', u'freqStart', u'freqs', u'gain', u'genotype', u'idstr', u'mode', u'path', u'postDurInSec', u'preDurInSec', u'protocol', u'pulses', u'ramptime', u'rawname', u'sampratein', u'samprateout', u'secondary_gain', u'stepamp', u'stepdur', u'stimDurInSec', u'tags', u'timestamp', u'trial', u'trialBlock', u'Purpose', u'FlyAge', u'Drugs', u'Comments', u'RecordArcLight', u'RecordAVLP', u'RecordLowFrequency', u'RecordMidFrequency', u'RecordMidFreqSpiking', u'RecordHighFreqDepol', u'RecordPairs', u'RecordCellAttached', u'RecordRogueCells', u'RecordNRSA', u'RecordConfocalimages', u'RecordIntrinsicproperties'], dtype=object)"
       ]
      }
     ],
     "prompt_number": 149
    },
    {
     "cell_type": "heading",
     "level": 1,
     "metadata": {},
     "source": [
      "Write ParameterDB"
     ]
    },
    {
     "cell_type": "code",
     "collapsed": false,
     "input": [
      "parameterdb2.to_json(path_or_buf = 'ParameterDB.json', orient = 'columns')"
     ],
     "language": "python",
     "metadata": {},
     "outputs": [],
     "prompt_number": 151
    },
    {
     "cell_type": "code",
     "collapsed": false,
     "input": [
      "parameterdb3 = pd.read_json(path_or_buf='ParameterDB.json', orient='columns', typ='frame',)"
     ],
     "language": "python",
     "metadata": {},
     "outputs": [],
     "prompt_number": 152
    },
    {
     "cell_type": "code",
     "collapsed": false,
     "input": [],
     "language": "python",
     "metadata": {},
     "outputs": [
      {
       "metadata": {},
       "output_type": "pyout",
       "prompt_number": 155,
       "text": [
        "u'This was mostly responsive to 140Hz.  Great Courtship song response.  Need to think about the Courtship song control... Some spikes, also.  Start checking for spikes in each cell.  Interesting kinetics in some of these cells'"
       ]
      }
     ],
     "prompt_number": 155
    },
    {
     "cell_type": "code",
     "collapsed": false,
     "input": [],
     "language": "python",
     "metadata": {},
     "outputs": []
    }
   ],
   "metadata": {}
  }
 ]
}