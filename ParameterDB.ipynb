{
 "metadata": {
  "name": "",
  "signature": "sha256:6384ff1a367182a07c6a9679447b21c5299d855e7588c12a4e56be6248626120"
 },
 "nbformat": 3,
 "nbformat_minor": 0,
 "worksheets": [
  {
   "cells": [
    {
     "cell_type": "heading",
     "level": 1,
     "metadata": {},
     "source": [
      "ParameterDB"
     ]
    },
    {
     "cell_type": "markdown",
     "metadata": {},
     "source": [
      "This notebook creates the ParameterDB and allows the user to manipulate and inspect the DB.  The ParameterDB is the collection of parameter information that comes from FlySound experiments.  The data is organized according to ['date','cell (or pair)','protocol','block','trial'].  This notebook will import a csv file that will contain the indexing information ('date','cell') from the data folder, and then all the csv files containing information about the trials themselves.  This will come from running `structarray2csv` in matlab on the \"Protocol data structure\" array.\n",
      "\n",
      "The DB will be implemented as a DataFrame, `ParameterDB`.  Hierarchical indices will be labeled as 'date', 'cell', 'protocol', 'block', 'trial'.  The parameter labels ('columns') reflect the trial parameters themselves and will include 'dir','name' as unique identifiers, as well as the union of all parameters from all protocols.  Some are consistent (gain, mode), others depend on the protocols (fred, amp, displacement).  There will be no need for the plural parameters (amps, freqs), each parameter will be a single number or string.  Those trials that don't have a particular parameter will simply have NaN in those entries (e.g. a PiezoSine will not have an \"amp\" parameter entry, as that is for the CurrentSine protocol).\n",
      "\n",
      "There will have to be the ability to add extra columns across the database in order to add annotation or other things to this"
     ]
    },
    {
     "cell_type": "markdown",
     "metadata": {},
     "source": [
      "A little trick for the tags columns:"
     ]
    },
    {
     "cell_type": "code",
     "collapsed": false,
     "input": [
      "# tag_iter = (set(x.split('/')) for x in paramdb.tags)\n",
      "# tags = sorted(set.union(*tag_iter))\n"
     ],
     "language": "python",
     "metadata": {},
     "outputs": [],
     "prompt_number": 108
    },
    {
     "cell_type": "heading",
     "level": 1,
     "metadata": {},
     "source": [
      "Construct ParameterDB from matlab generated csv files"
     ]
    },
    {
     "cell_type": "code",
     "collapsed": false,
     "input": [
      "%matplotlib inline\n",
      "import pandas as pd\n",
      "import numpy as np\n",
      "import os\n",
      "import copy\n",
      "\n",
      "from os.path import join, getsize\n",
      "from datetime import datetime\n",
      "from dateutil.parser import parse\n",
      "from collections import deque\n",
      "\n",
      "# Set some Pandas options\n",
      "pd.set_option('display.notebook_repr_html', False)\n",
      "pd.set_option('display.max_columns', 20)\n",
      "pd.set_option('display.max_rows', 25)"
     ],
     "language": "python",
     "metadata": {},
     "outputs": [],
     "prompt_number": 1
    },
    {
     "cell_type": "code",
     "collapsed": false,
     "input": [
      "cd Raw_Data/"
     ],
     "language": "python",
     "metadata": {},
     "outputs": [
      {
       "output_type": "stream",
       "stream": "stdout",
       "text": [
        "C:\\Users\\Anthony Azevedo\\Raw_Data\n"
       ]
      }
     ],
     "prompt_number": 2
    },
    {
     "cell_type": "code",
     "collapsed": false,
     "input": [
      "queue = deque()\n",
      "\n",
      "csvfiles = '';\n",
      "for root, dirs, files in os.walk('.'):\n",
      "    print root\n",
      "    if '.git' in dirs:\n",
      "        dirs.remove('.git')  # don't visit CVS directories\n",
      "    for f in files:\n",
      "        if '.csv' in f:\n",
      "            queue.append(join(root,f))\n",
      "\n",
      "len(queue)            "
     ],
     "language": "python",
     "metadata": {},
     "outputs": [
      {
       "output_type": "stream",
       "stream": "stdout",
       "text": [
        ".\n",
        ".\\130729\n",
        ".\\130729\\130729_F1_C1\n",
        ".\\130729\\130729_F2_C1\n",
        ".\\130729\\130729_F2_C2\n",
        ".\\130730\n",
        ".\\130730\\130730_F1_C1\n",
        ".\\130730\\130730_F2_C1"
       ]
      },
      {
       "output_type": "stream",
       "stream": "stdout",
       "text": [
        "\n",
        ".\\130731\n",
        ".\\130731\\130731_F1_C1\n",
        ".\\130802\n",
        ".\\130802\\130802_F1_C1\n",
        ".\\130802\\130802_F1_C2"
       ]
      },
      {
       "output_type": "stream",
       "stream": "stdout",
       "text": [
        "\n",
        ".\\130904\n",
        ".\\130904\\130904_F0_C1\n",
        ".\\130904\\130904_F0_C2\n",
        ".\\130904\\130904_F0_C3\n",
        ".\\130904\\130904_F0_C4\n",
        ".\\130904\\130904_F1_C1\n",
        ".\\130906\n",
        ".\\130906\\130906_F0_C0\n",
        ".\\130906\\130906_F1_C1\n",
        ".\\130906\\130906_F2_C1\n",
        ".\\130908\n",
        ".\\130908\\130908_F0_C0\n",
        ".\\130909\n",
        ".\\130909\\130909_F0_C0\n",
        ".\\130910\n",
        ".\\130910\\130910_F1_C1\n",
        ".\\130911\n",
        ".\\130911\\130911_F1_C1\n",
        ".\\130911\\130911_F2_C1"
       ]
      },
      {
       "output_type": "stream",
       "stream": "stdout",
       "text": [
        "\n",
        ".\\130911\\130911_F2_C2\n",
        ".\\130911\\130911_F2_C2\\archive\n",
        ".\\130911\\130911_F2_C2\\figures"
       ]
      },
      {
       "output_type": "stream",
       "stream": "stdout",
       "text": [
        "\n",
        ".\\130912\n",
        ".\\130912\\130912_F1_C1\n",
        ".\\130912\\130912_F2_C1\n",
        ".\\130912\\130912_F2_C2"
       ]
      },
      {
       "output_type": "stream",
       "stream": "stdout",
       "text": [
        "\n",
        ".\\130916\n",
        ".\\130916\\130916_F1_C1\n",
        ".\\130916\\130916_F2_C1\n",
        ".\\130916\\130916_F2_C1\\figures\n",
        ".\\130917\n",
        ".\\130917\\130917_F1_C1"
       ]
      },
      {
       "output_type": "stream",
       "stream": "stdout",
       "text": [
        "\n",
        ".\\130925\n",
        ".\\130925\\130925_F1_C1\n",
        ".\\130925\\130925_F2_C1\n",
        ".\\130925\\130925_F3_C1"
       ]
      },
      {
       "output_type": "stream",
       "stream": "stdout",
       "text": [
        "\n",
        ".\\130925\\130925_F3_C1\\Archive\n",
        ".\\130930\n",
        ".\\130930\\130930_F1_C1\n",
        ".\\130930\\130930_F1_C2\n",
        ".\\131001\n",
        ".\\131001\\131001_F1_C1\n",
        ".\\131002\n",
        ".\\131002\\131002_F1_C1\n",
        ".\\131002\\131002_F1_C2"
       ]
      },
      {
       "output_type": "stream",
       "stream": "stdout",
       "text": [
        "\n",
        ".\\131009\n",
        ".\\131009\\131009_F1_C1\n",
        ".\\131009\\131009_F2_C1\n",
        ".\\131009\\131009_F2_C1\\figures\n",
        ".\\131014\n",
        ".\\131014\\131014_F3_C1"
       ]
      },
      {
       "output_type": "stream",
       "stream": "stdout",
       "text": [
        "\n",
        ".\\131014\\131014_F4_C1\n",
        ".\\131014\\131014_F4_C1\\figures\n",
        ".\\131014\\Archive\n",
        ".\\131014\\Archive\\131014_F1_C1\n",
        ".\\131014\\Archive\\131014_F2_C1\n",
        ".\\131014\\Archive\\131014_F2_C2\n",
        ".\\131015\n",
        ".\\131015\\131015_F1_C1"
       ]
      },
      {
       "output_type": "stream",
       "stream": "stdout",
       "text": [
        "\n",
        ".\\131015\\131015_F3_C1"
       ]
      },
      {
       "output_type": "stream",
       "stream": "stdout",
       "text": [
        "\n",
        ".\\131015\\131015_F3_C1\\Archive\n",
        ".\\131015\\Archive\n",
        ".\\131015\\Archive\\131015_F2_C1\n",
        ".\\131015\\Archive\\131015_F2_C2\n",
        ".\\131016\n",
        ".\\131016\\131016_F1_C1\n",
        ".\\131016\\131016_F1_C1\\Archive\n",
        ".\\131022\n",
        ".\\131022\\131022_F1_C1"
       ]
      },
      {
       "output_type": "stream",
       "stream": "stdout",
       "text": [
        "\n",
        ".\\131022\\131022_F2_C1\n",
        ".\\131022\\131022_F3_C1\n",
        ".\\131022\\131022_F4_C1\n",
        ".\\131109\n",
        ".\\131109\\131109_F0_C0"
       ]
      },
      {
       "output_type": "stream",
       "stream": "stdout",
       "text": [
        "\n",
        ".\\131109\\131109_F1_C1\n",
        ".\\131112\n",
        ".\\131112\\131112_F1_C1\n",
        ".\\131112\\131112_F1_C2"
       ]
      },
      {
       "output_type": "stream",
       "stream": "stdout",
       "text": [
        "\n",
        ".\\131112\\131112_F3_C1\n",
        ".\\131112\\131112_F3_C2\n",
        ".\\131115\n",
        ".\\131115\\131115_F0_C0\n",
        ".\\131115\\131115_F1_C1"
       ]
      },
      {
       "output_type": "stream",
       "stream": "stdout",
       "text": [
        "\n",
        ".\\131119\n",
        ".\\131119\\131119_F0_C0\n",
        ".\\131119\\131119_F1_C1"
       ]
      },
      {
       "output_type": "stream",
       "stream": "stdout",
       "text": [
        "\n",
        ".\\131119\\131119_F2_C1\n",
        ".\\131119\\131119_F2_C2"
       ]
      },
      {
       "output_type": "stream",
       "stream": "stdout",
       "text": [
        "\n",
        ".\\131120\n",
        ".\\131120\\131120_F1_C1\n",
        ".\\131121\n",
        ".\\131121\\131121_F1_C1\n",
        ".\\131121\\131121_F1_C2\n",
        ".\\131121\\131121_F1_C3\n",
        ".\\131121\\131121_F1_C4\n",
        ".\\131121\\131121_F1_C5\n",
        ".\\131121\\131121_F1_C6\n",
        ".\\131121\\131121_F1_C7\n",
        ".\\131121\\131121_F1_C8\n",
        ".\\131121\\131121_F2_C1\n",
        ".\\131121\\131121_F2_C2\n",
        ".\\131121\\131121_F2_C3\n",
        ".\\131121\\131121_F2_C4\n",
        ".\\131121\\131121_F2_C5\n",
        ".\\131122\n",
        ".\\131122\\131122_F1_C1"
       ]
      },
      {
       "output_type": "stream",
       "stream": "stdout",
       "text": [
        "\n",
        ".\\131122\\131122_F2_C1\n",
        ".\\131122\\131122_F3_C1\n",
        ".\\131126\n",
        ".\\131126\\131126_F0_C0\n",
        ".\\131126\\131126_F2_C1"
       ]
      },
      {
       "output_type": "stream",
       "stream": "stdout",
       "text": [
        "\n",
        ".\\131126\\131126_F2_C2\n",
        ".\\131126\\131126_F2_C3\n",
        ".\\131130\n",
        ".\\131130\\131130_F0_C0"
       ]
      },
      {
       "output_type": "stream",
       "stream": "stdout",
       "text": [
        "\n",
        ".\\131130\\131130_F0_C1\n",
        ".\\131203\n",
        ".\\131203\\131203_F1_C1\n",
        ".\\131203\\131203_F1_C2\n",
        ".\\131203\\131203_F2_C1"
       ]
      },
      {
       "output_type": "stream",
       "stream": "stdout",
       "text": [
        "\n",
        ".\\131204\n",
        ".\\131204\\131204_F0_C0"
       ]
      },
      {
       "output_type": "stream",
       "stream": "stdout",
       "text": [
        "\n",
        ".\\131204\\131204_F0_C0\\Images\n",
        ".\\131204\\131204_F0_C1\n",
        ".\\131204\\131204_F0_C1\\PiezoSine_Raw_131204_F0_C1_1.mat_Images\n",
        ".\\131204\\131204_F0_C1\\PiezoSine_Raw_131204_F0_C1_10.mat_Images\n",
        ".\\131204\\131204_F0_C1\\PiezoSine_Raw_131204_F0_C1_11.mat_Images\n",
        ".\\131204\\131204_F0_C1\\PiezoSine_Raw_131204_F0_C1_12.mat_Images\n",
        ".\\131204\\131204_F0_C1\\PiezoSine_Raw_131204_F0_C1_13.mat_Images\n",
        ".\\131204\\131204_F0_C1\\PiezoSine_Raw_131204_F0_C1_14.mat_Images\n",
        ".\\131204\\131204_F0_C1\\PiezoSine_Raw_131204_F0_C1_15.mat_Images\n",
        ".\\131204\\131204_F0_C1\\PiezoSine_Raw_131204_F0_C1_2.mat_Images\n",
        ".\\131204\\131204_F0_C1\\PiezoSine_Raw_131204_F0_C1_3.mat_Images\n",
        ".\\131204\\131204_F0_C1\\PiezoSine_Raw_131204_F0_C1_31.mat_Images\n",
        ".\\131204\\131204_F0_C1\\PiezoSine_Raw_131204_F0_C1_4.mat_Images\n",
        ".\\131204\\131204_F0_C1\\PiezoSine_Raw_131204_F0_C1_5.mat_Images\n",
        ".\\131204\\131204_F0_C1\\PiezoSine_Raw_131204_F0_C1_6.mat_Images\n",
        ".\\131204\\131204_F0_C1\\PiezoSine_Raw_131204_F0_C1_7.mat_Images\n",
        ".\\131204\\131204_F0_C1\\PiezoSine_Raw_131204_F0_C1_8.mat_Images\n",
        ".\\131204\\131204_F0_C1\\PiezoSine_Raw_131204_F0_C1_9.mat_Images\n",
        ".\\131204\\131204_F0_C6\n",
        ".\\131204\\131204_F0_C6\\archive\n",
        ".\\131204\\131204_F0_C6\\PiezoSquareWave_Images_131204_F0_C6_1\n",
        ".\\131204\\131204_F0_C6\\PiezoSquareWave_Images_131204_F0_C6_10\n",
        ".\\131204\\131204_F0_C6\\PiezoSquareWave_Images_131204_F0_C6_5\n",
        ".\\131204\\131204_F0_C6\\PiezoSquareWave_Images_131204_F0_C6_6\n",
        ".\\131204\\131204_F0_C6\\PiezoSquareWave_Images_131204_F0_C6_7\n",
        ".\\131204\\131204_F0_C6\\PiezoSquareWave_Images_131204_F0_C6_8\n",
        ".\\131204\\131204_F0_C6\\PiezoSquareWave_Images_131204_F0_C6_9\n",
        ".\\131206\n",
        ".\\131206\\131206_F1_C1\n",
        ".\\131206\\131206_F1_C1\\archive\n",
        ".\\131206\\131206_F1_C1\\PiezoSine_Images_131206_F1_C1_1"
       ]
      },
      {
       "output_type": "stream",
       "stream": "stdout",
       "text": [
        "\n",
        ".\\131206\\131206_F1_C1\\PiezoSine_Images_131206_F1_C1_11\n",
        ".\\131206\\131206_F1_C1\\PiezoSine_Images_131206_F1_C1_12\n",
        ".\\131206\\131206_F1_C1\\PiezoSine_Images_131206_F1_C1_13\n",
        ".\\131206\\131206_F1_C1\\PiezoSine_Images_131206_F1_C1_14\n",
        ".\\131206\\131206_F1_C1\\PiezoSine_Images_131206_F1_C1_15\n",
        ".\\131206\\131206_F1_C1\\PiezoSine_Images_131206_F1_C1_16\n",
        ".\\131206\\131206_F1_C1\\PiezoSine_Images_131206_F1_C1_17"
       ]
      },
      {
       "output_type": "stream",
       "stream": "stdout",
       "text": [
        "\n",
        ".\\131206\\131206_F1_C1\\PiezoSine_Images_131206_F1_C1_18\n",
        ".\\131206\\131206_F1_C1\\PiezoSine_Images_131206_F1_C1_19"
       ]
      },
      {
       "output_type": "stream",
       "stream": "stdout",
       "text": [
        "\n",
        ".\\131206\\131206_F1_C1\\PiezoSine_Images_131206_F1_C1_2"
       ]
      },
      {
       "output_type": "stream",
       "stream": "stdout",
       "text": [
        "\n",
        ".\\131206\\131206_F1_C1\\PiezoSine_Images_131206_F1_C1_20"
       ]
      },
      {
       "output_type": "stream",
       "stream": "stdout",
       "text": [
        "\n",
        ".\\131206\\131206_F1_C1\\PiezoSine_Images_131206_F1_C1_21"
       ]
      },
      {
       "output_type": "stream",
       "stream": "stdout",
       "text": [
        "\n",
        ".\\131206\\131206_F1_C1\\PiezoSine_Images_131206_F1_C1_22"
       ]
      },
      {
       "output_type": "stream",
       "stream": "stdout",
       "text": [
        "\n",
        ".\\131206\\131206_F1_C1\\PiezoSine_Images_131206_F1_C1_23"
       ]
      },
      {
       "output_type": "stream",
       "stream": "stdout",
       "text": [
        "\n",
        ".\\131206\\131206_F1_C1\\PiezoSine_Images_131206_F1_C1_24"
       ]
      },
      {
       "output_type": "stream",
       "stream": "stdout",
       "text": [
        "\n",
        ".\\131206\\131206_F1_C1\\PiezoSine_Images_131206_F1_C1_25\n",
        ".\\131206\\131206_F1_C1\\PiezoSine_Images_131206_F1_C1_26"
       ]
      },
      {
       "output_type": "stream",
       "stream": "stdout",
       "text": [
        "\n",
        ".\\131206\\131206_F1_C1\\PiezoSine_Images_131206_F1_C1_27"
       ]
      },
      {
       "output_type": "stream",
       "stream": "stdout",
       "text": [
        "\n",
        ".\\131206\\131206_F1_C1\\PiezoSine_Images_131206_F1_C1_28\n",
        ".\\131206\\131206_F1_C1\\PiezoSine_Images_131206_F1_C1_29"
       ]
      },
      {
       "output_type": "stream",
       "stream": "stdout",
       "text": [
        "\n",
        ".\\131206\\131206_F1_C1\\PiezoSine_Images_131206_F1_C1_3"
       ]
      },
      {
       "output_type": "stream",
       "stream": "stdout",
       "text": [
        "\n",
        ".\\131206\\131206_F1_C1\\PiezoSine_Images_131206_F1_C1_30"
       ]
      },
      {
       "output_type": "stream",
       "stream": "stdout",
       "text": [
        "\n",
        ".\\131206\\131206_F1_C1\\PiezoSine_Images_131206_F1_C1_31"
       ]
      },
      {
       "output_type": "stream",
       "stream": "stdout",
       "text": [
        "\n",
        ".\\131206\\131206_F1_C1\\PiezoSine_Images_131206_F1_C1_32"
       ]
      },
      {
       "output_type": "stream",
       "stream": "stdout",
       "text": [
        "\n",
        ".\\131206\\131206_F1_C1\\PiezoSine_Images_131206_F1_C1_33"
       ]
      },
      {
       "output_type": "stream",
       "stream": "stdout",
       "text": [
        "\n",
        ".\\131206\\131206_F1_C1\\PiezoSine_Images_131206_F1_C1_34"
       ]
      },
      {
       "output_type": "stream",
       "stream": "stdout",
       "text": [
        "\n",
        ".\\131206\\131206_F1_C1\\PiezoSine_Images_131206_F1_C1_35"
       ]
      },
      {
       "output_type": "stream",
       "stream": "stdout",
       "text": [
        "\n",
        ".\\131206\\131206_F1_C1\\PiezoSine_Images_131206_F1_C1_36"
       ]
      },
      {
       "output_type": "stream",
       "stream": "stdout",
       "text": [
        "\n",
        ".\\131206\\131206_F1_C1\\PiezoSine_Images_131206_F1_C1_37"
       ]
      },
      {
       "output_type": "stream",
       "stream": "stdout",
       "text": [
        "\n",
        ".\\131206\\131206_F1_C1\\PiezoSine_Images_131206_F1_C1_38"
       ]
      },
      {
       "output_type": "stream",
       "stream": "stdout",
       "text": [
        "\n",
        ".\\131206\\131206_F1_C1\\PiezoSine_Images_131206_F1_C1_39"
       ]
      },
      {
       "output_type": "stream",
       "stream": "stdout",
       "text": [
        "\n",
        ".\\131206\\131206_F1_C1\\PiezoSine_Images_131206_F1_C1_4"
       ]
      },
      {
       "output_type": "stream",
       "stream": "stdout",
       "text": [
        "\n",
        ".\\131206\\131206_F1_C1\\PiezoSine_Images_131206_F1_C1_40"
       ]
      },
      {
       "output_type": "stream",
       "stream": "stdout",
       "text": [
        "\n",
        ".\\131206\\131206_F1_C1\\PiezoSine_Images_131206_F1_C1_5"
       ]
      },
      {
       "output_type": "stream",
       "stream": "stdout",
       "text": [
        "\n",
        ".\\131206\\131206_F1_C1\\SweepImage"
       ]
      },
      {
       "output_type": "stream",
       "stream": "stdout",
       "text": [
        "\n",
        ".\\131206\\131206_F2_C1\n",
        ".\\131206\\131206_F2_C1\\PiezoSine_Images_131206_F2_C1_1\n",
        ".\\131206\\131206_F2_C1\\PiezoSine_Images_131206_F2_C1_10"
       ]
      },
      {
       "output_type": "stream",
       "stream": "stdout",
       "text": [
        "\n",
        ".\\131206\\131206_F2_C1\\PiezoSine_Images_131206_F2_C1_11"
       ]
      },
      {
       "output_type": "stream",
       "stream": "stdout",
       "text": [
        "\n",
        ".\\131206\\131206_F2_C1\\PiezoSine_Images_131206_F2_C1_12"
       ]
      },
      {
       "output_type": "stream",
       "stream": "stdout",
       "text": [
        "\n",
        ".\\131206\\131206_F2_C1\\PiezoSine_Images_131206_F2_C1_13"
       ]
      },
      {
       "output_type": "stream",
       "stream": "stdout",
       "text": [
        "\n",
        ".\\131206\\131206_F2_C1\\PiezoSine_Images_131206_F2_C1_14"
       ]
      },
      {
       "output_type": "stream",
       "stream": "stdout",
       "text": [
        "\n",
        ".\\131206\\131206_F2_C1\\PiezoSine_Images_131206_F2_C1_15"
       ]
      },
      {
       "output_type": "stream",
       "stream": "stdout",
       "text": [
        "\n",
        ".\\131206\\131206_F2_C1\\PiezoSine_Images_131206_F2_C1_16"
       ]
      },
      {
       "output_type": "stream",
       "stream": "stdout",
       "text": [
        "\n",
        ".\\131206\\131206_F2_C1\\PiezoSine_Images_131206_F2_C1_17"
       ]
      },
      {
       "output_type": "stream",
       "stream": "stdout",
       "text": [
        "\n",
        ".\\131206\\131206_F2_C1\\PiezoSine_Images_131206_F2_C1_18"
       ]
      },
      {
       "output_type": "stream",
       "stream": "stdout",
       "text": [
        "\n",
        ".\\131206\\131206_F2_C1\\PiezoSine_Images_131206_F2_C1_19"
       ]
      },
      {
       "output_type": "stream",
       "stream": "stdout",
       "text": [
        "\n",
        ".\\131206\\131206_F2_C1\\PiezoSine_Images_131206_F2_C1_2"
       ]
      },
      {
       "output_type": "stream",
       "stream": "stdout",
       "text": [
        "\n",
        ".\\131206\\131206_F2_C1\\PiezoSine_Images_131206_F2_C1_20"
       ]
      },
      {
       "output_type": "stream",
       "stream": "stdout",
       "text": [
        "\n",
        ".\\131206\\131206_F2_C1\\PiezoSine_Images_131206_F2_C1_21"
       ]
      },
      {
       "output_type": "stream",
       "stream": "stdout",
       "text": [
        "\n",
        ".\\131206\\131206_F2_C1\\PiezoSine_Images_131206_F2_C1_22"
       ]
      },
      {
       "output_type": "stream",
       "stream": "stdout",
       "text": [
        "\n",
        ".\\131206\\131206_F2_C1\\PiezoSine_Images_131206_F2_C1_23"
       ]
      },
      {
       "output_type": "stream",
       "stream": "stdout",
       "text": [
        "\n",
        ".\\131206\\131206_F2_C1\\PiezoSine_Images_131206_F2_C1_24"
       ]
      },
      {
       "output_type": "stream",
       "stream": "stdout",
       "text": [
        "\n",
        ".\\131206\\131206_F2_C1\\PiezoSine_Images_131206_F2_C1_25"
       ]
      },
      {
       "output_type": "stream",
       "stream": "stdout",
       "text": [
        "\n",
        ".\\131206\\131206_F2_C1\\PiezoSine_Images_131206_F2_C1_3"
       ]
      },
      {
       "output_type": "stream",
       "stream": "stdout",
       "text": [
        "\n",
        ".\\131206\\131206_F2_C1\\PiezoSine_Images_131206_F2_C1_4"
       ]
      },
      {
       "output_type": "stream",
       "stream": "stdout",
       "text": [
        "\n",
        ".\\131206\\131206_F2_C1\\PiezoSine_Images_131206_F2_C1_5"
       ]
      },
      {
       "output_type": "stream",
       "stream": "stdout",
       "text": [
        "\n",
        ".\\131206\\131206_F2_C1\\PiezoSine_Images_131206_F2_C1_6"
       ]
      },
      {
       "output_type": "stream",
       "stream": "stdout",
       "text": [
        "\n",
        ".\\131206\\131206_F2_C1\\PiezoSine_Images_131206_F2_C1_7"
       ]
      },
      {
       "output_type": "stream",
       "stream": "stdout",
       "text": [
        "\n",
        ".\\131206\\131206_F2_C1\\PiezoSine_Images_131206_F2_C1_8"
       ]
      },
      {
       "output_type": "stream",
       "stream": "stdout",
       "text": [
        "\n",
        ".\\131206\\131206_F2_C1\\PiezoSine_Images_131206_F2_C1_9"
       ]
      },
      {
       "output_type": "stream",
       "stream": "stdout",
       "text": [
        "\n",
        ".\\131207\n",
        ".\\131207\\131207_F1_C1\n",
        ".\\131207\\131207_F1_C1\\Sweep_Images_131207_F1_C1_1"
       ]
      },
      {
       "output_type": "stream",
       "stream": "stdout",
       "text": [
        "\n",
        ".\\131207\\131207_F1_C1\\Sweep_Images_131207_F1_C1_2\n",
        ".\\131207\\131207_F1_C1\\Sweep_Images_131207_F1_C1_3\n",
        ".\\131210\n",
        ".\\131210\\131210_F1_C1\n",
        ".\\131210\\131210_F1_C1\\SealAndLeak_Images_131210_F1_C1_1\n",
        ".\\131210\\131210_F2_C1\n",
        ".\\131210\\131210_F3_C1\n",
        ".\\131211\n",
        ".\\131211\\131211_F1_C1\n",
        ".\\131211\\131211_F1_C1\\CurrentPlateau_Images_131211_F1_C1_1\n",
        ".\\131211\\131211_F1_C1\\CurrentPlateau_Images_131211_F1_C1_1\\extras"
       ]
      },
      {
       "output_type": "stream",
       "stream": "stdout",
       "text": [
        "\n",
        ".\\131211\\131211_F1_C1\\CurrentPlateau_Images_131211_F1_C1_2\n",
        ".\\131211\\131211_F1_C1\\CurrentPlateau_Images_131211_F1_C1_2\\extras\n",
        ".\\131211\\131211_F1_C1\\CurrentPlateau_Images_131211_F1_C1_3\n",
        ".\\131211\\131211_F1_C1\\CurrentPlateau_Images_131211_F1_C1_3\\extras\n",
        ".\\131211\\131211_F1_C1\\CurrentPlateau_Images_131211_F1_C1_4\n",
        ".\\131211\\131211_F1_C1\\CurrentPlateau_Images_131211_F1_C1_4\\extras\n",
        ".\\131211\\131211_F1_C1\\CurrentPlateau_Images_131211_F1_C1_5\n",
        ".\\131211\\131211_F1_C1\\CurrentPlateau_Images_131211_F1_C1_5\\extras\n",
        ".\\131211\\131211_F1_C1\\CurrentPlateau_Images_131211_F1_C1_6\n",
        ".\\131211\\131211_F1_C1\\CurrentPlateau_Images_131211_F1_C1_6\\extras\n",
        ".\\131211\\131211_F1_C1\\Sweep_Images_131211_F1_C1_3\n",
        ".\\131211\\131211_F1_C2"
       ]
      },
      {
       "output_type": "stream",
       "stream": "stdout",
       "text": [
        "\n",
        ".\\131211\\131211_F1_C2\\CurrentPlateau_Images_131211_F1_C2_1\n",
        ".\\131211\\131211_F1_C2\\CurrentPlateau_Images_131211_F1_C2_2\n",
        ".\\131211\\131211_F1_C2\\CurrentPlateau_Images_131211_F1_C2_3\n",
        ".\\131211\\131211_F1_C2\\CurrentPlateau_Images_131211_F1_C2_4"
       ]
      },
      {
       "output_type": "stream",
       "stream": "stdout",
       "text": [
        "\n",
        ".\\131211\\131211_F1_C2\\CurrentPlateau_Images_131211_F1_C2_5\n",
        ".\\131211\\131211_F1_C2\\CurrentPlateau_Images_131211_F1_C2_6\n",
        ".\\131211\\131211_F1_C2\\PiezoSine_Images_131211_F1_C2_1"
       ]
      },
      {
       "output_type": "stream",
       "stream": "stdout",
       "text": [
        "\n",
        ".\\131211\\131211_F1_C2\\PiezoSine_Images_131211_F1_C2_10\n",
        ".\\131211\\131211_F1_C2\\PiezoSine_Images_131211_F1_C2_11\n",
        ".\\131211\\131211_F1_C2\\PiezoSine_Images_131211_F1_C2_12"
       ]
      },
      {
       "output_type": "stream",
       "stream": "stdout",
       "text": [
        "\n",
        ".\\131211\\131211_F1_C2\\PiezoSine_Images_131211_F1_C2_13\n",
        ".\\131211\\131211_F1_C2\\PiezoSine_Images_131211_F1_C2_14\n",
        ".\\131211\\131211_F1_C2\\PiezoSine_Images_131211_F1_C2_15"
       ]
      },
      {
       "output_type": "stream",
       "stream": "stdout",
       "text": [
        "\n",
        ".\\131211\\131211_F1_C2\\PiezoSine_Images_131211_F1_C2_16\n",
        ".\\131211\\131211_F1_C2\\PiezoSine_Images_131211_F1_C2_17\n",
        ".\\131211\\131211_F1_C2\\PiezoSine_Images_131211_F1_C2_18"
       ]
      },
      {
       "output_type": "stream",
       "stream": "stdout",
       "text": [
        "\n",
        ".\\131211\\131211_F1_C2\\PiezoSine_Images_131211_F1_C2_2\n",
        ".\\131211\\131211_F1_C2\\PiezoSine_Images_131211_F1_C2_3\n",
        ".\\131211\\131211_F1_C2\\PiezoSine_Images_131211_F1_C2_4"
       ]
      },
      {
       "output_type": "stream",
       "stream": "stdout",
       "text": [
        "\n",
        ".\\131211\\131211_F1_C2\\PiezoSine_Images_131211_F1_C2_5\n",
        ".\\131211\\131211_F1_C2\\PiezoSine_Images_131211_F1_C2_6\n",
        ".\\131211\\131211_F1_C2\\PiezoSine_Images_131211_F1_C2_7"
       ]
      },
      {
       "output_type": "stream",
       "stream": "stdout",
       "text": [
        "\n",
        ".\\131211\\131211_F1_C2\\PiezoSine_Images_131211_F1_C2_8\n",
        ".\\131211\\131211_F1_C2\\PiezoSine_Images_131211_F1_C2_9\n",
        ".\\131211\\131211_F1_C2\\Sweep_Images_131211_F1_C2_1"
       ]
      },
      {
       "output_type": "stream",
       "stream": "stdout",
       "text": [
        "\n",
        ".\\131211\\131211_F1_C2\\Sweep_Images_131211_F1_C2_1\\extras\n",
        ".\\131211\\131211_F2_C1\n",
        ".\\131211\\131211_F2_C1\\archive"
       ]
      },
      {
       "output_type": "stream",
       "stream": "stdout",
       "text": [
        "\n",
        ".\\131211\\131211_F2_C1\\CurrentPlateau_Images_131211_F2_C1_1\n",
        ".\\131211\\131211_F2_C1\\CurrentPlateau_Images_131211_F2_C1_2"
       ]
      },
      {
       "output_type": "stream",
       "stream": "stdout",
       "text": [
        "\n",
        ".\\131211\\131211_F2_C1\\CurrentPlateau_Images_131211_F2_C1_3\n",
        ".\\131211\\131211_F2_C1\\CurrentPlateau_Images_131211_F2_C1_4"
       ]
      },
      {
       "output_type": "stream",
       "stream": "stdout",
       "text": [
        "\n",
        ".\\131211\\131211_F2_C1\\CurrentPlateau_Images_131211_F2_C1_5"
       ]
      },
      {
       "output_type": "stream",
       "stream": "stdout",
       "text": [
        "\n",
        ".\\131211\\131211_F2_C1\\CurrentPlateau_Images_131211_F2_C1_6"
       ]
      },
      {
       "output_type": "stream",
       "stream": "stdout",
       "text": [
        "\n",
        ".\\131211\\131211_F2_C1\\CurrentPlateau_Images_131211_F2_C1_7"
       ]
      },
      {
       "output_type": "stream",
       "stream": "stdout",
       "text": [
        "\n",
        ".\\131211\\131211_F2_C1\\CurrentPlateau_Images_131211_F2_C1_8"
       ]
      },
      {
       "output_type": "stream",
       "stream": "stdout",
       "text": [
        "\n",
        ".\\131211\\131211_F2_C1\\CurrentPlateau_Images_131211_F2_C1_9"
       ]
      },
      {
       "output_type": "stream",
       "stream": "stdout",
       "text": [
        "\n",
        ".\\131211\\131211_F2_C1\\CurrentStep_Images_131211_F2_C1_1\n",
        ".\\131211\\131211_F2_C1\\CurrentStep_Images_131211_F2_C1_1\\extras"
       ]
      },
      {
       "output_type": "stream",
       "stream": "stdout",
       "text": [
        "\n",
        ".\\131211\\131211_F2_C1\\CurrentStep_Images_131211_F2_C1_10\n",
        ".\\131211\\131211_F2_C1\\CurrentStep_Images_131211_F2_C1_11"
       ]
      },
      {
       "output_type": "stream",
       "stream": "stdout",
       "text": [
        "\n",
        ".\\131211\\131211_F2_C1\\CurrentStep_Images_131211_F2_C1_2\n",
        ".\\131211\\131211_F2_C1\\CurrentStep_Images_131211_F2_C1_2\\extras\n",
        ".\\131211\\131211_F2_C1\\CurrentStep_Images_131211_F2_C1_3"
       ]
      },
      {
       "output_type": "stream",
       "stream": "stdout",
       "text": [
        "\n",
        ".\\131211\\131211_F2_C1\\CurrentStep_Images_131211_F2_C1_4\n",
        ".\\131211\\131211_F2_C1\\CurrentStep_Images_131211_F2_C1_5"
       ]
      },
      {
       "output_type": "stream",
       "stream": "stdout",
       "text": [
        "\n",
        ".\\131211\\131211_F2_C1\\CurrentStep_Images_131211_F2_C1_6\n",
        ".\\131211\\131211_F2_C1\\CurrentStep_Images_131211_F2_C1_7"
       ]
      },
      {
       "output_type": "stream",
       "stream": "stdout",
       "text": [
        "\n",
        ".\\131211\\131211_F2_C1\\CurrentStep_Images_131211_F2_C1_8\n",
        ".\\131211\\131211_F2_C1\\CurrentStep_Images_131211_F2_C1_9"
       ]
      },
      {
       "output_type": "stream",
       "stream": "stdout",
       "text": [
        "\n",
        ".\\131211\\131211_F2_C1\\PiezoSine_Images_131211_F2_C1_1\n",
        ".\\131211\\131211_F2_C1\\PiezoSine_Images_131211_F2_C1_10"
       ]
      },
      {
       "output_type": "stream",
       "stream": "stdout",
       "text": [
        "\n",
        ".\\131211\\131211_F2_C1\\PiezoSine_Images_131211_F2_C1_11"
       ]
      },
      {
       "output_type": "stream",
       "stream": "stdout",
       "text": [
        "\n",
        ".\\131211\\131211_F2_C1\\PiezoSine_Images_131211_F2_C1_12"
       ]
      },
      {
       "output_type": "stream",
       "stream": "stdout",
       "text": [
        "\n",
        ".\\131211\\131211_F2_C1\\PiezoSine_Images_131211_F2_C1_13"
       ]
      },
      {
       "output_type": "stream",
       "stream": "stdout",
       "text": [
        "\n",
        ".\\131211\\131211_F2_C1\\PiezoSine_Images_131211_F2_C1_14"
       ]
      },
      {
       "output_type": "stream",
       "stream": "stdout",
       "text": [
        "\n",
        ".\\131211\\131211_F2_C1\\PiezoSine_Images_131211_F2_C1_15"
       ]
      },
      {
       "output_type": "stream",
       "stream": "stdout",
       "text": [
        "\n",
        ".\\131211\\131211_F2_C1\\PiezoSine_Images_131211_F2_C1_16"
       ]
      },
      {
       "output_type": "stream",
       "stream": "stdout",
       "text": [
        "\n",
        ".\\131211\\131211_F2_C1\\PiezoSine_Images_131211_F2_C1_17"
       ]
      },
      {
       "output_type": "stream",
       "stream": "stdout",
       "text": [
        "\n",
        ".\\131211\\131211_F2_C1\\PiezoSine_Images_131211_F2_C1_18"
       ]
      },
      {
       "output_type": "stream",
       "stream": "stdout",
       "text": [
        "\n",
        ".\\131211\\131211_F2_C1\\PiezoSine_Images_131211_F2_C1_19"
       ]
      },
      {
       "output_type": "stream",
       "stream": "stdout",
       "text": [
        "\n",
        ".\\131211\\131211_F2_C1\\PiezoSine_Images_131211_F2_C1_2"
       ]
      },
      {
       "output_type": "stream",
       "stream": "stdout",
       "text": [
        "\n",
        ".\\131211\\131211_F2_C1\\PiezoSine_Images_131211_F2_C1_20"
       ]
      },
      {
       "output_type": "stream",
       "stream": "stdout",
       "text": [
        "\n",
        ".\\131211\\131211_F2_C1\\PiezoSine_Images_131211_F2_C1_21"
       ]
      },
      {
       "output_type": "stream",
       "stream": "stdout",
       "text": [
        "\n",
        ".\\131211\\131211_F2_C1\\PiezoSine_Images_131211_F2_C1_22"
       ]
      },
      {
       "output_type": "stream",
       "stream": "stdout",
       "text": [
        "\n",
        ".\\131211\\131211_F2_C1\\PiezoSine_Images_131211_F2_C1_23"
       ]
      },
      {
       "output_type": "stream",
       "stream": "stdout",
       "text": [
        "\n",
        ".\\131211\\131211_F2_C1\\PiezoSine_Images_131211_F2_C1_24\n",
        ".\\131211\\131211_F2_C1\\PiezoSine_Images_131211_F2_C1_25"
       ]
      },
      {
       "output_type": "stream",
       "stream": "stdout",
       "text": [
        "\n",
        ".\\131211\\131211_F2_C1\\PiezoSine_Images_131211_F2_C1_26"
       ]
      },
      {
       "output_type": "stream",
       "stream": "stdout",
       "text": [
        "\n",
        ".\\131211\\131211_F2_C1\\PiezoSine_Images_131211_F2_C1_27"
       ]
      },
      {
       "output_type": "stream",
       "stream": "stdout",
       "text": [
        "\n",
        ".\\131211\\131211_F2_C1\\PiezoSine_Images_131211_F2_C1_28"
       ]
      },
      {
       "output_type": "stream",
       "stream": "stdout",
       "text": [
        "\n",
        ".\\131211\\131211_F2_C1\\PiezoSine_Images_131211_F2_C1_29"
       ]
      },
      {
       "output_type": "stream",
       "stream": "stdout",
       "text": [
        "\n",
        ".\\131211\\131211_F2_C1\\PiezoSine_Images_131211_F2_C1_3"
       ]
      },
      {
       "output_type": "stream",
       "stream": "stdout",
       "text": [
        "\n",
        ".\\131211\\131211_F2_C1\\PiezoSine_Images_131211_F2_C1_30"
       ]
      },
      {
       "output_type": "stream",
       "stream": "stdout",
       "text": [
        "\n",
        ".\\131211\\131211_F2_C1\\PiezoSine_Images_131211_F2_C1_31"
       ]
      },
      {
       "output_type": "stream",
       "stream": "stdout",
       "text": [
        "\n",
        ".\\131211\\131211_F2_C1\\PiezoSine_Images_131211_F2_C1_32"
       ]
      },
      {
       "output_type": "stream",
       "stream": "stdout",
       "text": [
        "\n",
        ".\\131211\\131211_F2_C1\\PiezoSine_Images_131211_F2_C1_33"
       ]
      },
      {
       "output_type": "stream",
       "stream": "stdout",
       "text": [
        "\n",
        ".\\131211\\131211_F2_C1\\PiezoSine_Images_131211_F2_C1_34"
       ]
      },
      {
       "output_type": "stream",
       "stream": "stdout",
       "text": [
        "\n",
        ".\\131211\\131211_F2_C1\\PiezoSine_Images_131211_F2_C1_35"
       ]
      },
      {
       "output_type": "stream",
       "stream": "stdout",
       "text": [
        "\n",
        ".\\131211\\131211_F2_C1\\PiezoSine_Images_131211_F2_C1_36"
       ]
      },
      {
       "output_type": "stream",
       "stream": "stdout",
       "text": [
        "\n",
        ".\\131211\\131211_F2_C1\\PiezoSine_Images_131211_F2_C1_37"
       ]
      },
      {
       "output_type": "stream",
       "stream": "stdout",
       "text": [
        "\n",
        ".\\131211\\131211_F2_C1\\PiezoSine_Images_131211_F2_C1_38"
       ]
      },
      {
       "output_type": "stream",
       "stream": "stdout",
       "text": [
        "\n",
        ".\\131211\\131211_F2_C1\\PiezoSine_Images_131211_F2_C1_39"
       ]
      },
      {
       "output_type": "stream",
       "stream": "stdout",
       "text": [
        "\n",
        ".\\131211\\131211_F2_C1\\PiezoSine_Images_131211_F2_C1_4"
       ]
      },
      {
       "output_type": "stream",
       "stream": "stdout",
       "text": [
        "\n",
        ".\\131211\\131211_F2_C1\\PiezoSine_Images_131211_F2_C1_40"
       ]
      },
      {
       "output_type": "stream",
       "stream": "stdout",
       "text": [
        "\n",
        ".\\131211\\131211_F2_C1\\PiezoSine_Images_131211_F2_C1_41"
       ]
      },
      {
       "output_type": "stream",
       "stream": "stdout",
       "text": [
        "\n",
        ".\\131211\\131211_F2_C1\\PiezoSine_Images_131211_F2_C1_42"
       ]
      },
      {
       "output_type": "stream",
       "stream": "stdout",
       "text": [
        "\n",
        ".\\131211\\131211_F2_C1\\PiezoSine_Images_131211_F2_C1_43"
       ]
      },
      {
       "output_type": "stream",
       "stream": "stdout",
       "text": [
        "\n",
        ".\\131211\\131211_F2_C1\\PiezoSine_Images_131211_F2_C1_44"
       ]
      },
      {
       "output_type": "stream",
       "stream": "stdout",
       "text": [
        "\n",
        ".\\131211\\131211_F2_C1\\PiezoSine_Images_131211_F2_C1_45"
       ]
      },
      {
       "output_type": "stream",
       "stream": "stdout",
       "text": [
        "\n",
        ".\\131211\\131211_F2_C1\\PiezoSine_Images_131211_F2_C1_46"
       ]
      },
      {
       "output_type": "stream",
       "stream": "stdout",
       "text": [
        "\n",
        ".\\131211\\131211_F2_C1\\PiezoSine_Images_131211_F2_C1_47"
       ]
      },
      {
       "output_type": "stream",
       "stream": "stdout",
       "text": [
        "\n",
        ".\\131211\\131211_F2_C1\\PiezoSine_Images_131211_F2_C1_48"
       ]
      },
      {
       "output_type": "stream",
       "stream": "stdout",
       "text": [
        "\n",
        ".\\131211\\131211_F2_C1\\PiezoSine_Images_131211_F2_C1_49"
       ]
      },
      {
       "output_type": "stream",
       "stream": "stdout",
       "text": [
        "\n",
        ".\\131211\\131211_F2_C1\\PiezoSine_Images_131211_F2_C1_5"
       ]
      },
      {
       "output_type": "stream",
       "stream": "stdout",
       "text": [
        "\n",
        ".\\131211\\131211_F2_C1\\PiezoSine_Images_131211_F2_C1_50"
       ]
      },
      {
       "output_type": "stream",
       "stream": "stdout",
       "text": [
        "\n",
        ".\\131211\\131211_F2_C1\\PiezoSine_Images_131211_F2_C1_51"
       ]
      },
      {
       "output_type": "stream",
       "stream": "stdout",
       "text": [
        "\n",
        ".\\131211\\131211_F2_C1\\PiezoSine_Images_131211_F2_C1_52"
       ]
      },
      {
       "output_type": "stream",
       "stream": "stdout",
       "text": [
        "\n",
        ".\\131211\\131211_F2_C1\\PiezoSine_Images_131211_F2_C1_53"
       ]
      },
      {
       "output_type": "stream",
       "stream": "stdout",
       "text": [
        "\n",
        ".\\131211\\131211_F2_C1\\PiezoSine_Images_131211_F2_C1_54"
       ]
      },
      {
       "output_type": "stream",
       "stream": "stdout",
       "text": [
        "\n",
        ".\\131211\\131211_F2_C1\\PiezoSine_Images_131211_F2_C1_55"
       ]
      },
      {
       "output_type": "stream",
       "stream": "stdout",
       "text": [
        "\n",
        ".\\131211\\131211_F2_C1\\PiezoSine_Images_131211_F2_C1_56"
       ]
      },
      {
       "output_type": "stream",
       "stream": "stdout",
       "text": [
        "\n",
        ".\\131211\\131211_F2_C1\\PiezoSine_Images_131211_F2_C1_57"
       ]
      },
      {
       "output_type": "stream",
       "stream": "stdout",
       "text": [
        "\n",
        ".\\131211\\131211_F2_C1\\PiezoSine_Images_131211_F2_C1_58"
       ]
      },
      {
       "output_type": "stream",
       "stream": "stdout",
       "text": [
        "\n",
        ".\\131211\\131211_F2_C1\\PiezoSine_Images_131211_F2_C1_59"
       ]
      },
      {
       "output_type": "stream",
       "stream": "stdout",
       "text": [
        "\n",
        ".\\131211\\131211_F2_C1\\PiezoSine_Images_131211_F2_C1_6"
       ]
      },
      {
       "output_type": "stream",
       "stream": "stdout",
       "text": [
        "\n",
        ".\\131211\\131211_F2_C1\\PiezoSine_Images_131211_F2_C1_60"
       ]
      },
      {
       "output_type": "stream",
       "stream": "stdout",
       "text": [
        "\n",
        ".\\131211\\131211_F2_C1\\PiezoSine_Images_131211_F2_C1_61"
       ]
      },
      {
       "output_type": "stream",
       "stream": "stdout",
       "text": [
        "\n",
        ".\\131211\\131211_F2_C1\\PiezoSine_Images_131211_F2_C1_62"
       ]
      },
      {
       "output_type": "stream",
       "stream": "stdout",
       "text": [
        "\n",
        ".\\131211\\131211_F2_C1\\PiezoSine_Images_131211_F2_C1_63"
       ]
      },
      {
       "output_type": "stream",
       "stream": "stdout",
       "text": [
        "\n",
        ".\\131211\\131211_F2_C1\\PiezoSine_Images_131211_F2_C1_64"
       ]
      },
      {
       "output_type": "stream",
       "stream": "stdout",
       "text": [
        "\n",
        ".\\131211\\131211_F2_C1\\PiezoSine_Images_131211_F2_C1_65"
       ]
      },
      {
       "output_type": "stream",
       "stream": "stdout",
       "text": [
        "\n",
        ".\\131211\\131211_F2_C1\\PiezoSine_Images_131211_F2_C1_66"
       ]
      },
      {
       "output_type": "stream",
       "stream": "stdout",
       "text": [
        "\n",
        ".\\131211\\131211_F2_C1\\PiezoSine_Images_131211_F2_C1_67"
       ]
      },
      {
       "output_type": "stream",
       "stream": "stdout",
       "text": [
        "\n",
        ".\\131211\\131211_F2_C1\\PiezoSine_Images_131211_F2_C1_68"
       ]
      },
      {
       "output_type": "stream",
       "stream": "stdout",
       "text": [
        "\n",
        ".\\131211\\131211_F2_C1\\PiezoSine_Images_131211_F2_C1_69"
       ]
      },
      {
       "output_type": "stream",
       "stream": "stdout",
       "text": [
        "\n",
        ".\\131211\\131211_F2_C1\\PiezoSine_Images_131211_F2_C1_7"
       ]
      },
      {
       "output_type": "stream",
       "stream": "stdout",
       "text": [
        "\n",
        ".\\131211\\131211_F2_C1\\PiezoSine_Images_131211_F2_C1_70\n",
        ".\\131211\\131211_F2_C1\\PiezoSine_Images_131211_F2_C1_71"
       ]
      },
      {
       "output_type": "stream",
       "stream": "stdout",
       "text": [
        "\n",
        ".\\131211\\131211_F2_C1\\PiezoSine_Images_131211_F2_C1_72"
       ]
      },
      {
       "output_type": "stream",
       "stream": "stdout",
       "text": [
        "\n",
        ".\\131211\\131211_F2_C1\\PiezoSine_Images_131211_F2_C1_73"
       ]
      },
      {
       "output_type": "stream",
       "stream": "stdout",
       "text": [
        "\n",
        ".\\131211\\131211_F2_C1\\PiezoSine_Images_131211_F2_C1_74"
       ]
      },
      {
       "output_type": "stream",
       "stream": "stdout",
       "text": [
        "\n",
        ".\\131211\\131211_F2_C1\\PiezoSine_Images_131211_F2_C1_75"
       ]
      },
      {
       "output_type": "stream",
       "stream": "stdout",
       "text": [
        "\n",
        ".\\131211\\131211_F2_C1\\PiezoSine_Images_131211_F2_C1_76"
       ]
      },
      {
       "output_type": "stream",
       "stream": "stdout",
       "text": [
        "\n",
        ".\\131211\\131211_F2_C1\\PiezoSine_Images_131211_F2_C1_77"
       ]
      },
      {
       "output_type": "stream",
       "stream": "stdout",
       "text": [
        "\n",
        ".\\131211\\131211_F2_C1\\PiezoSine_Images_131211_F2_C1_78"
       ]
      },
      {
       "output_type": "stream",
       "stream": "stdout",
       "text": [
        "\n",
        ".\\131211\\131211_F2_C1\\PiezoSine_Images_131211_F2_C1_79"
       ]
      },
      {
       "output_type": "stream",
       "stream": "stdout",
       "text": [
        "\n",
        ".\\131211\\131211_F2_C1\\PiezoSine_Images_131211_F2_C1_8"
       ]
      },
      {
       "output_type": "stream",
       "stream": "stdout",
       "text": [
        "\n",
        ".\\131211\\131211_F2_C1\\PiezoSine_Images_131211_F2_C1_80"
       ]
      },
      {
       "output_type": "stream",
       "stream": "stdout",
       "text": [
        "\n",
        ".\\131211\\131211_F2_C1\\PiezoSine_Images_131211_F2_C1_81"
       ]
      },
      {
       "output_type": "stream",
       "stream": "stdout",
       "text": [
        "\n",
        ".\\131211\\131211_F2_C1\\PiezoSine_Images_131211_F2_C1_82"
       ]
      },
      {
       "output_type": "stream",
       "stream": "stdout",
       "text": [
        "\n",
        ".\\131211\\131211_F2_C1\\PiezoSine_Images_131211_F2_C1_83"
       ]
      },
      {
       "output_type": "stream",
       "stream": "stdout",
       "text": [
        "\n",
        ".\\131211\\131211_F2_C1\\PiezoSine_Images_131211_F2_C1_84"
       ]
      },
      {
       "output_type": "stream",
       "stream": "stdout",
       "text": [
        "\n",
        ".\\131211\\131211_F2_C1\\PiezoSine_Images_131211_F2_C1_85"
       ]
      },
      {
       "output_type": "stream",
       "stream": "stdout",
       "text": [
        "\n",
        ".\\131211\\131211_F2_C1\\PiezoSine_Images_131211_F2_C1_86"
       ]
      },
      {
       "output_type": "stream",
       "stream": "stdout",
       "text": [
        "\n",
        ".\\131211\\131211_F2_C1\\PiezoSine_Images_131211_F2_C1_87"
       ]
      },
      {
       "output_type": "stream",
       "stream": "stdout",
       "text": [
        "\n",
        ".\\131211\\131211_F2_C1\\PiezoSine_Images_131211_F2_C1_88"
       ]
      },
      {
       "output_type": "stream",
       "stream": "stdout",
       "text": [
        "\n",
        ".\\131211\\131211_F2_C1\\PiezoSine_Images_131211_F2_C1_89"
       ]
      },
      {
       "output_type": "stream",
       "stream": "stdout",
       "text": [
        "\n",
        ".\\131211\\131211_F2_C1\\PiezoSine_Images_131211_F2_C1_9"
       ]
      },
      {
       "output_type": "stream",
       "stream": "stdout",
       "text": [
        "\n",
        ".\\131211\\131211_F2_C1\\PiezoSine_Images_131211_F2_C1_90"
       ]
      },
      {
       "output_type": "stream",
       "stream": "stdout",
       "text": [
        "\n",
        ".\\131211\\131211_F2_C1\\PiezoSine_Images_131211_F2_C1_91"
       ]
      },
      {
       "output_type": "stream",
       "stream": "stdout",
       "text": [
        "\n",
        ".\\131211\\131211_F2_C1\\PiezoSine_Images_131211_F2_C1_92"
       ]
      },
      {
       "output_type": "stream",
       "stream": "stdout",
       "text": [
        "\n",
        ".\\131211\\131211_F2_C1\\PiezoSine_Images_131211_F2_C1_93"
       ]
      },
      {
       "output_type": "stream",
       "stream": "stdout",
       "text": [
        "\n",
        ".\\131211\\131211_F2_C1\\PiezoSine_Images_131211_F2_C1_94"
       ]
      },
      {
       "output_type": "stream",
       "stream": "stdout",
       "text": [
        "\n",
        ".\\131211\\131211_F2_C1\\PiezoSine_Images_131211_F2_C1_95"
       ]
      },
      {
       "output_type": "stream",
       "stream": "stdout",
       "text": [
        "\n",
        ".\\131211\\131211_F2_C1\\PiezoSine_Images_131211_F2_C1_96"
       ]
      },
      {
       "output_type": "stream",
       "stream": "stdout",
       "text": [
        "\n",
        ".\\131211\\131211_F2_C1\\PiezoSine_Images_131211_F2_C1_97"
       ]
      },
      {
       "output_type": "stream",
       "stream": "stdout",
       "text": [
        "\n",
        ".\\131211\\131211_F2_C1\\PiezoSine_Images_131211_F2_C1_98"
       ]
      },
      {
       "output_type": "stream",
       "stream": "stdout",
       "text": [
        "\n",
        ".\\131211\\131211_F2_C1\\PiezoSine_Images_131211_F2_C1_99"
       ]
      },
      {
       "output_type": "stream",
       "stream": "stdout",
       "text": [
        "\n",
        ".\\131211\\131211_F2_C1\\Sweep_Images_131211_F2_C1_1"
       ]
      },
      {
       "output_type": "stream",
       "stream": "stdout",
       "text": [
        "\n",
        ".\\131212\n",
        ".\\131212\\131212_F1_C1\n",
        ".\\131217\n",
        ".\\131217\\131217_F1_C1\n",
        ".\\131217\\131217_F1_C1\\CurrentPlateau_Images_131217_F1_C1_1\n",
        ".\\131217\\131217_F1_C1\\CurrentPlateau_Images_131217_F1_C1_10"
       ]
      },
      {
       "output_type": "stream",
       "stream": "stdout",
       "text": [
        "\n",
        ".\\131217\\131217_F1_C1\\CurrentPlateau_Images_131217_F1_C1_11\n",
        ".\\131217\\131217_F1_C1\\CurrentPlateau_Images_131217_F1_C1_12\n",
        ".\\131217\\131217_F1_C1\\CurrentPlateau_Images_131217_F1_C1_13"
       ]
      },
      {
       "output_type": "stream",
       "stream": "stdout",
       "text": [
        "\n",
        ".\\131217\\131217_F1_C1\\CurrentPlateau_Images_131217_F1_C1_14\n",
        ".\\131217\\131217_F1_C1\\CurrentPlateau_Images_131217_F1_C1_15\n",
        ".\\131217\\131217_F1_C1\\CurrentPlateau_Images_131217_F1_C1_16"
       ]
      },
      {
       "output_type": "stream",
       "stream": "stdout",
       "text": [
        "\n",
        ".\\131217\\131217_F1_C1\\CurrentPlateau_Images_131217_F1_C1_17\n",
        ".\\131217\\131217_F1_C1\\CurrentPlateau_Images_131217_F1_C1_18\n",
        ".\\131217\\131217_F1_C1\\CurrentPlateau_Images_131217_F1_C1_2"
       ]
      },
      {
       "output_type": "stream",
       "stream": "stdout",
       "text": [
        "\n",
        ".\\131217\\131217_F1_C1\\CurrentPlateau_Images_131217_F1_C1_3\n",
        ".\\131217\\131217_F1_C1\\CurrentPlateau_Images_131217_F1_C1_4\n",
        ".\\131217\\131217_F1_C1\\CurrentPlateau_Images_131217_F1_C1_5"
       ]
      },
      {
       "output_type": "stream",
       "stream": "stdout",
       "text": [
        "\n",
        ".\\131217\\131217_F1_C1\\CurrentPlateau_Images_131217_F1_C1_6\n",
        ".\\131217\\131217_F1_C1\\CurrentPlateau_Images_131217_F1_C1_7\n",
        ".\\131217\\131217_F1_C1\\CurrentPlateau_Images_131217_F1_C1_8"
       ]
      },
      {
       "output_type": "stream",
       "stream": "stdout",
       "text": [
        "\n",
        ".\\131217\\131217_F1_C1\\CurrentPlateau_Images_131217_F1_C1_9\n",
        ".\\131217\\131217_F1_C1\\PiezoSine_Images_131217_F1_C1_1\n",
        ".\\131217\\131217_F1_C1\\PiezoSine_Images_131217_F1_C1_10"
       ]
      },
      {
       "output_type": "stream",
       "stream": "stdout",
       "text": [
        "\n",
        ".\\131217\\131217_F1_C1\\PiezoSine_Images_131217_F1_C1_11\n",
        ".\\131217\\131217_F1_C1\\PiezoSine_Images_131217_F1_C1_12\n",
        ".\\131217\\131217_F1_C1\\PiezoSine_Images_131217_F1_C1_13"
       ]
      },
      {
       "output_type": "stream",
       "stream": "stdout",
       "text": [
        "\n",
        ".\\131217\\131217_F1_C1\\PiezoSine_Images_131217_F1_C1_14\n",
        ".\\131217\\131217_F1_C1\\PiezoSine_Images_131217_F1_C1_2\n",
        ".\\131217\\131217_F1_C1\\PiezoSine_Images_131217_F1_C1_3"
       ]
      },
      {
       "output_type": "stream",
       "stream": "stdout",
       "text": [
        "\n",
        ".\\131217\\131217_F1_C1\\PiezoSine_Images_131217_F1_C1_4\n",
        ".\\131217\\131217_F1_C1\\PiezoSine_Images_131217_F1_C1_5\n",
        ".\\131217\\131217_F1_C1\\PiezoSine_Images_131217_F1_C1_6"
       ]
      },
      {
       "output_type": "stream",
       "stream": "stdout",
       "text": [
        "\n",
        ".\\131217\\131217_F1_C1\\PiezoSine_Images_131217_F1_C1_7\n",
        ".\\131217\\131217_F1_C1\\PiezoSine_Images_131217_F1_C1_8\n",
        ".\\131217\\131217_F1_C1\\PiezoSine_Images_131217_F1_C1_9"
       ]
      },
      {
       "output_type": "stream",
       "stream": "stdout",
       "text": [
        "\n",
        ".\\131217\\131217_F1_C1\\PiezoStep_Images_131217_F1_C1_1\n",
        ".\\131217\\131217_F1_C1\\PiezoStep_Images_131217_F1_C1_1\\extras\n",
        ".\\131217\\131217_F1_C1\\PiezoStep_Images_131217_F1_C1_10\n",
        ".\\131217\\131217_F1_C1\\PiezoStep_Images_131217_F1_C1_10\\extras\n",
        ".\\131217\\131217_F1_C1\\PiezoStep_Images_131217_F1_C1_11\n",
        ".\\131217\\131217_F1_C1\\PiezoStep_Images_131217_F1_C1_11\\extras\n",
        ".\\131217\\131217_F1_C1\\PiezoStep_Images_131217_F1_C1_12\n",
        ".\\131217\\131217_F1_C1\\PiezoStep_Images_131217_F1_C1_12\\extras\n",
        ".\\131217\\131217_F1_C1\\PiezoStep_Images_131217_F1_C1_13\n",
        ".\\131217\\131217_F1_C1\\PiezoStep_Images_131217_F1_C1_13\\extras\n",
        ".\\131217\\131217_F1_C1\\PiezoStep_Images_131217_F1_C1_14\n",
        ".\\131217\\131217_F1_C1\\PiezoStep_Images_131217_F1_C1_14\\extras\n",
        ".\\131217\\131217_F1_C1\\PiezoStep_Images_131217_F1_C1_15\n",
        ".\\131217\\131217_F1_C1\\PiezoStep_Images_131217_F1_C1_15\\extras\n",
        ".\\131217\\131217_F1_C1\\PiezoStep_Images_131217_F1_C1_16\n",
        ".\\131217\\131217_F1_C1\\PiezoStep_Images_131217_F1_C1_16\\extras\n",
        ".\\131217\\131217_F1_C1\\PiezoStep_Images_131217_F1_C1_17"
       ]
      },
      {
       "output_type": "stream",
       "stream": "stdout",
       "text": [
        "\n",
        ".\\131217\\131217_F1_C1\\PiezoStep_Images_131217_F1_C1_17\\extras\n",
        ".\\131217\\131217_F1_C1\\PiezoStep_Images_131217_F1_C1_18\n",
        ".\\131217\\131217_F1_C1\\PiezoStep_Images_131217_F1_C1_18\\extras\n",
        ".\\131217\\131217_F1_C1\\PiezoStep_Images_131217_F1_C1_19\n",
        ".\\131217\\131217_F1_C1\\PiezoStep_Images_131217_F1_C1_19\\extras\n",
        ".\\131217\\131217_F1_C1\\PiezoStep_Images_131217_F1_C1_2\n",
        ".\\131217\\131217_F1_C1\\PiezoStep_Images_131217_F1_C1_2\\extras\n",
        ".\\131217\\131217_F1_C1\\PiezoStep_Images_131217_F1_C1_20\n",
        ".\\131217\\131217_F1_C1\\PiezoStep_Images_131217_F1_C1_20\\extras\n",
        ".\\131217\\131217_F1_C1\\PiezoStep_Images_131217_F1_C1_21\n",
        ".\\131217\\131217_F1_C1\\PiezoStep_Images_131217_F1_C1_21\\extras\n",
        ".\\131217\\131217_F1_C1\\PiezoStep_Images_131217_F1_C1_22\n",
        ".\\131217\\131217_F1_C1\\PiezoStep_Images_131217_F1_C1_22\\extras\n",
        ".\\131217\\131217_F1_C1\\PiezoStep_Images_131217_F1_C1_23\n",
        ".\\131217\\131217_F1_C1\\PiezoStep_Images_131217_F1_C1_23\\extras\n",
        ".\\131217\\131217_F1_C1\\PiezoStep_Images_131217_F1_C1_24\n",
        ".\\131217\\131217_F1_C1\\PiezoStep_Images_131217_F1_C1_24\\extras\n",
        ".\\131217\\131217_F1_C1\\PiezoStep_Images_131217_F1_C1_25"
       ]
      },
      {
       "output_type": "stream",
       "stream": "stdout",
       "text": [
        "\n",
        ".\\131217\\131217_F1_C1\\PiezoStep_Images_131217_F1_C1_25\\extras\n",
        ".\\131217\\131217_F1_C1\\PiezoStep_Images_131217_F1_C1_26\n",
        ".\\131217\\131217_F1_C1\\PiezoStep_Images_131217_F1_C1_26\\extras\n",
        ".\\131217\\131217_F1_C1\\PiezoStep_Images_131217_F1_C1_27\n",
        ".\\131217\\131217_F1_C1\\PiezoStep_Images_131217_F1_C1_27\\extras\n",
        ".\\131217\\131217_F1_C1\\PiezoStep_Images_131217_F1_C1_28\n",
        ".\\131217\\131217_F1_C1\\PiezoStep_Images_131217_F1_C1_28\\extras\n",
        ".\\131217\\131217_F1_C1\\PiezoStep_Images_131217_F1_C1_29\n",
        ".\\131217\\131217_F1_C1\\PiezoStep_Images_131217_F1_C1_29\\extras\n",
        ".\\131217\\131217_F1_C1\\PiezoStep_Images_131217_F1_C1_3\n",
        ".\\131217\\131217_F1_C1\\PiezoStep_Images_131217_F1_C1_3\\extras\n",
        ".\\131217\\131217_F1_C1\\PiezoStep_Images_131217_F1_C1_30\n",
        ".\\131217\\131217_F1_C1\\PiezoStep_Images_131217_F1_C1_30\\extras\n",
        ".\\131217\\131217_F1_C1\\PiezoStep_Images_131217_F1_C1_4\n",
        ".\\131217\\131217_F1_C1\\PiezoStep_Images_131217_F1_C1_4\\extras\n",
        ".\\131217\\131217_F1_C1\\PiezoStep_Images_131217_F1_C1_5\n",
        ".\\131217\\131217_F1_C1\\PiezoStep_Images_131217_F1_C1_5\\extras\n",
        ".\\131217\\131217_F1_C1\\PiezoStep_Images_131217_F1_C1_6"
       ]
      },
      {
       "output_type": "stream",
       "stream": "stdout",
       "text": [
        "\n",
        ".\\131217\\131217_F1_C1\\PiezoStep_Images_131217_F1_C1_6\\extras\n",
        ".\\131217\\131217_F1_C1\\PiezoStep_Images_131217_F1_C1_7\n",
        ".\\131217\\131217_F1_C1\\PiezoStep_Images_131217_F1_C1_7\\extras\n",
        ".\\131217\\131217_F1_C1\\PiezoStep_Images_131217_F1_C1_8\n",
        ".\\131217\\131217_F1_C1\\PiezoStep_Images_131217_F1_C1_8\\extras\n",
        ".\\131217\\131217_F1_C1\\PiezoStep_Images_131217_F1_C1_9\n",
        ".\\131217\\131217_F1_C1\\PiezoStep_Images_131217_F1_C1_9\\extras\n",
        ".\\131217\\131217_F1_C1\\Sweep_Images_131217_F1_C1_1"
       ]
      },
      {
       "output_type": "stream",
       "stream": "stdout",
       "text": [
        "\n",
        ".\\131217\\131217_F1_C1\\Sweep_Images_131217_F1_C1_2\n",
        ".\\131217\\131217_F1_C1\\Sweep_Images_131217_F1_C1_3\n",
        ".\\131217\\131217_F1_C1\\Sweep_Images_131217_F1_C1_4"
       ]
      },
      {
       "output_type": "stream",
       "stream": "stdout",
       "text": [
        "\n",
        ".\\131217\\131217_F1_C1\\Sweep_Images_131217_F1_C1_5\n",
        ".\\131217\\131217_F1_C1\\Sweep_Images_131217_F1_C1_6\n",
        ".\\131217\\131217_F2_C1\n",
        ".\\131217\\131217_F2_C1\\Sweep_Images_131217_F2_C1_1"
       ]
      },
      {
       "output_type": "stream",
       "stream": "stdout",
       "text": [
        "\n",
        ".\\131217\\131217_F2_C1\\Sweep_Images_131217_F2_C1_2"
       ]
      },
      {
       "output_type": "stream",
       "stream": "stdout",
       "text": [
        "\n",
        ".\\131217\\131217_F2_C2\n",
        ".\\131217\\131217_F2_C2\\Sweep_Images_131217_F2_C2_1"
       ]
      },
      {
       "output_type": "stream",
       "stream": "stdout",
       "text": [
        "\n",
        ".\\131217\\131217_F2_C2\\Sweep_Images_131217_F2_C2_1\\extras\n",
        ".\\140110\n",
        ".\\140110\\140110_F1_C1\n",
        ".\\140110\\140110_F1_C1\\SealAndLeak_Images_140110_F1_C1_1\n",
        ".\\140112\n",
        ".\\140112\\140112_F1_C1\n",
        ".\\140114\n",
        ".\\140114\\140114_F1_C1\n",
        ".\\140114\\140114_F1_C1\\Sweep_Images_140114_F1_C1_1\n",
        ".\\140114\\140114_F1_C1\\Sweep_Images_140114_F1_C1_2\n",
        ".\\140114\\140114_F1_C1\\Sweep_Images_140114_F1_C1_3"
       ]
      },
      {
       "output_type": "stream",
       "stream": "stdout",
       "text": [
        "\n",
        ".\\140114\\140114_F1_C1\\Sweep_Images_140114_F1_C1_4"
       ]
      },
      {
       "output_type": "stream",
       "stream": "stdout",
       "text": [
        "\n",
        ".\\140114\\140114_F2_C1\n",
        ".\\140114\\140114_F2_C1\\Sweep_Images_140114_F2_C1_1"
       ]
      },
      {
       "output_type": "stream",
       "stream": "stdout",
       "text": [
        "\n",
        ".\\140114\\140114_F2_C1\\Sweep_Images_140114_F2_C1_1\\extras\n",
        ".\\140115\n",
        ".\\140115\\140115_F1_C1\n",
        ".\\140115\\140115_F1_C1\\Sweep_Images_140115_F1_C1_1\n",
        ".\\140115\\140115_F1_C1\\Sweep_Images_140115_F1_C1_1\\extras\n",
        ".\\140115\\140115_F1_C1\\Sweep_Images_140115_F1_C1_2"
       ]
      },
      {
       "output_type": "stream",
       "stream": "stdout",
       "text": [
        "\n",
        ".\\140115\\140115_F1_C1\\Sweep_Images_140115_F1_C1_2\\extras\n",
        ".\\140115\\140115_F1_C1\\Sweep_Images_140115_F1_C1_3"
       ]
      },
      {
       "output_type": "stream",
       "stream": "stdout",
       "text": [
        "\n",
        ".\\140115\\140115_F1_C1\\Sweep_Images_140115_F1_C1_3\\extras\n",
        ".\\140115\\140115_F1_C1\\Sweep_Images_140115_F1_C1_4"
       ]
      },
      {
       "output_type": "stream",
       "stream": "stdout",
       "text": [
        "\n",
        ".\\140115\\140115_F1_C1\\Sweep_Images_140115_F1_C1_4\\extras\n",
        ".\\140115\\140115_F1_C2\n",
        ".\\140115\\140115_F1_C2\\Sweep_Images_140115_F1_C2_1\n",
        ".\\140115\\140115_F1_C2\\Sweep_Images_140115_F1_C2_1\\extras\n",
        ".\\140115\\140115_F1_C2\\Sweep_Images_140115_F1_C2_2"
       ]
      },
      {
       "output_type": "stream",
       "stream": "stdout",
       "text": [
        "\n",
        ".\\140115\\140115_F1_C2\\Sweep_Images_140115_F1_C2_3\n",
        ".\\140115\\140115_F1_C2\\Sweep_Images_140115_F1_C2_4"
       ]
      },
      {
       "output_type": "stream",
       "stream": "stdout",
       "text": [
        "\n",
        ".\\140115\\140115_F1_C2\\Sweep_Images_140115_F1_C2_4\\extras\n",
        ".\\140115\\140115_F1_C2\\Sweep_Images_140115_F1_C2_5\n",
        ".\\140115\\140115_F2_C1\n",
        ".\\140115\\140115_F2_C1\\CurrentPlateau_Images_140115_F2_C1_1\n",
        ".\\140115\\140115_F2_C1\\CurrentPlateau_Images_140115_F2_C1_1\\extras\n",
        ".\\140115\\140115_F2_C1\\CurrentPlateau_Images_140115_F2_C1_2\n",
        ".\\140115\\140115_F2_C1\\CurrentPlateau_Images_140115_F2_C1_2\\extras\n",
        ".\\140115\\140115_F2_C1\\Sweep_Images_140115_F2_C1_1"
       ]
      },
      {
       "output_type": "stream",
       "stream": "stdout",
       "text": [
        "\n",
        ".\\140115\\140115_F2_C1\\Sweep_Images_140115_F2_C1_1\\extras\n",
        ".\\140117\n",
        ".\\140117\\140117_F2_C1\n",
        ".\\140117\\140117_F2_C1\\archive\n",
        ".\\140117\\140117_F2_C1\\CurrentSine_Images_140117_F2_C1_1\n",
        ".\\140117\\140117_F2_C1\\CurrentSine_Images_140117_F2_C1_1\\extras\n",
        ".\\140117\\140117_F2_C1\\CurrentSine_Images_140117_F2_C1_2\n",
        ".\\140117\\140117_F2_C1\\CurrentStep_Images_140117_F2_C1_1"
       ]
      },
      {
       "output_type": "stream",
       "stream": "stdout",
       "text": [
        "\n",
        ".\\140117\\140117_F2_C1\\CurrentStep_Images_140117_F2_C1_10\n",
        ".\\140117\\140117_F2_C1\\CurrentStep_Images_140117_F2_C1_10\\extras\n",
        ".\\140117\\140117_F2_C1\\CurrentStep_Images_140117_F2_C1_11"
       ]
      },
      {
       "output_type": "stream",
       "stream": "stdout",
       "text": [
        "\n",
        ".\\140117\\140117_F2_C1\\CurrentStep_Images_140117_F2_C1_12\n",
        ".\\140117\\140117_F2_C1\\CurrentStep_Images_140117_F2_C1_13"
       ]
      },
      {
       "output_type": "stream",
       "stream": "stdout",
       "text": [
        "\n",
        ".\\140117\\140117_F2_C1\\CurrentStep_Images_140117_F2_C1_13\\extras\n",
        ".\\140117\\140117_F2_C1\\CurrentStep_Images_140117_F2_C1_14\n",
        ".\\140117\\140117_F2_C1\\CurrentStep_Images_140117_F2_C1_14\\extras\n",
        ".\\140117\\140117_F2_C1\\CurrentStep_Images_140117_F2_C1_15"
       ]
      },
      {
       "output_type": "stream",
       "stream": "stdout",
       "text": [
        "\n",
        ".\\140117\\140117_F2_C1\\CurrentStep_Images_140117_F2_C1_16\n",
        ".\\140117\\140117_F2_C1\\CurrentStep_Images_140117_F2_C1_17"
       ]
      },
      {
       "output_type": "stream",
       "stream": "stdout",
       "text": [
        "\n",
        ".\\140117\\140117_F2_C1\\CurrentStep_Images_140117_F2_C1_18\n",
        ".\\140117\\140117_F2_C1\\CurrentStep_Images_140117_F2_C1_19"
       ]
      },
      {
       "output_type": "stream",
       "stream": "stdout",
       "text": [
        "\n",
        ".\\140117\\140117_F2_C1\\CurrentStep_Images_140117_F2_C1_2\n",
        ".\\140117\\140117_F2_C1\\CurrentStep_Images_140117_F2_C1_20"
       ]
      },
      {
       "output_type": "stream",
       "stream": "stdout",
       "text": [
        "\n",
        ".\\140117\\140117_F2_C1\\CurrentStep_Images_140117_F2_C1_3\n",
        ".\\140117\\140117_F2_C1\\CurrentStep_Images_140117_F2_C1_4"
       ]
      },
      {
       "output_type": "stream",
       "stream": "stdout",
       "text": [
        "\n",
        ".\\140117\\140117_F2_C1\\CurrentStep_Images_140117_F2_C1_5\n",
        ".\\140117\\140117_F2_C1\\CurrentStep_Images_140117_F2_C1_6"
       ]
      },
      {
       "output_type": "stream",
       "stream": "stdout",
       "text": [
        "\n",
        ".\\140117\\140117_F2_C1\\CurrentStep_Images_140117_F2_C1_6\\extras\n",
        ".\\140117\\140117_F2_C1\\CurrentStep_Images_140117_F2_C1_7\n",
        ".\\140117\\140117_F2_C1\\CurrentStep_Images_140117_F2_C1_7\\extras\n",
        ".\\140117\\140117_F2_C1\\CurrentStep_Images_140117_F2_C1_8"
       ]
      },
      {
       "output_type": "stream",
       "stream": "stdout",
       "text": [
        "\n",
        ".\\140117\\140117_F2_C1\\CurrentStep_Images_140117_F2_C1_8\\extras\n",
        ".\\140117\\140117_F2_C1\\CurrentStep_Images_140117_F2_C1_9\n",
        ".\\140117\\140117_F2_C1\\CurrentStep_Images_140117_F2_C1_9\\extras\n",
        ".\\140117\\140117_F2_C1\\PiezoSine_Images_140117_F2_C1_1\n",
        ".\\140117\\140117_F2_C1\\PiezoSine_Images_140117_F2_C1_1\\extras\n",
        ".\\140117\\140117_F2_C1\\PiezoSine_Images_140117_F2_C1_10"
       ]
      },
      {
       "output_type": "stream",
       "stream": "stdout",
       "text": [
        "\n",
        ".\\140117\\140117_F2_C1\\PiezoSine_Images_140117_F2_C1_10\\extras\n",
        ".\\140117\\140117_F2_C1\\PiezoSine_Images_140117_F2_C1_11\n",
        ".\\140117\\140117_F2_C1\\PiezoSine_Images_140117_F2_C1_11\\extras\n",
        ".\\140117\\140117_F2_C1\\PiezoSine_Images_140117_F2_C1_12\n",
        ".\\140117\\140117_F2_C1\\PiezoSine_Images_140117_F2_C1_12\\extras\n",
        ".\\140117\\140117_F2_C1\\PiezoSine_Images_140117_F2_C1_13\n",
        ".\\140117\\140117_F2_C1\\PiezoSine_Images_140117_F2_C1_13\\extras\n",
        ".\\140117\\140117_F2_C1\\PiezoSine_Images_140117_F2_C1_14\n",
        ".\\140117\\140117_F2_C1\\PiezoSine_Images_140117_F2_C1_14\\extras\n",
        ".\\140117\\140117_F2_C1\\PiezoSine_Images_140117_F2_C1_15"
       ]
      },
      {
       "output_type": "stream",
       "stream": "stdout",
       "text": [
        "\n",
        ".\\140117\\140117_F2_C1\\PiezoSine_Images_140117_F2_C1_15\\extras\n",
        ".\\140117\\140117_F2_C1\\PiezoSine_Images_140117_F2_C1_16\n",
        ".\\140117\\140117_F2_C1\\PiezoSine_Images_140117_F2_C1_16\\extras\n",
        ".\\140117\\140117_F2_C1\\PiezoSine_Images_140117_F2_C1_17\n",
        ".\\140117\\140117_F2_C1\\PiezoSine_Images_140117_F2_C1_17\\extras\n",
        ".\\140117\\140117_F2_C1\\PiezoSine_Images_140117_F2_C1_18\n",
        ".\\140117\\140117_F2_C1\\PiezoSine_Images_140117_F2_C1_18\\extras\n",
        ".\\140117\\140117_F2_C1\\PiezoSine_Images_140117_F2_C1_19\n",
        ".\\140117\\140117_F2_C1\\PiezoSine_Images_140117_F2_C1_2\n",
        ".\\140117\\140117_F2_C1\\PiezoSine_Images_140117_F2_C1_2\\extras\n",
        ".\\140117\\140117_F2_C1\\PiezoSine_Images_140117_F2_C1_20"
       ]
      },
      {
       "output_type": "stream",
       "stream": "stdout",
       "text": [
        "\n",
        ".\\140117\\140117_F2_C1\\PiezoSine_Images_140117_F2_C1_20\\extras\n",
        ".\\140117\\140117_F2_C1\\PiezoSine_Images_140117_F2_C1_21\n",
        ".\\140117\\140117_F2_C1\\PiezoSine_Images_140117_F2_C1_21\\extras\n",
        ".\\140117\\140117_F2_C1\\PiezoSine_Images_140117_F2_C1_22\n",
        ".\\140117\\140117_F2_C1\\PiezoSine_Images_140117_F2_C1_22\\extras\n",
        ".\\140117\\140117_F2_C1\\PiezoSine_Images_140117_F2_C1_23\n",
        ".\\140117\\140117_F2_C1\\PiezoSine_Images_140117_F2_C1_23\\extras\n",
        ".\\140117\\140117_F2_C1\\PiezoSine_Images_140117_F2_C1_24\n",
        ".\\140117\\140117_F2_C1\\PiezoSine_Images_140117_F2_C1_24\\extras\n",
        ".\\140117\\140117_F2_C1\\PiezoSine_Images_140117_F2_C1_25"
       ]
      },
      {
       "output_type": "stream",
       "stream": "stdout",
       "text": [
        "\n",
        ".\\140117\\140117_F2_C1\\PiezoSine_Images_140117_F2_C1_25\\extras\n",
        ".\\140117\\140117_F2_C1\\PiezoSine_Images_140117_F2_C1_26\n",
        ".\\140117\\140117_F2_C1\\PiezoSine_Images_140117_F2_C1_26\\extras\n",
        ".\\140117\\140117_F2_C1\\PiezoSine_Images_140117_F2_C1_27\n",
        ".\\140117\\140117_F2_C1\\PiezoSine_Images_140117_F2_C1_27\\extras\n",
        ".\\140117\\140117_F2_C1\\PiezoSine_Images_140117_F2_C1_28\n",
        ".\\140117\\140117_F2_C1\\PiezoSine_Images_140117_F2_C1_28\\extras\n",
        ".\\140117\\140117_F2_C1\\PiezoSine_Images_140117_F2_C1_29\n",
        ".\\140117\\140117_F2_C1\\PiezoSine_Images_140117_F2_C1_29\\extras\n",
        ".\\140117\\140117_F2_C1\\PiezoSine_Images_140117_F2_C1_3\n",
        ".\\140117\\140117_F2_C1\\PiezoSine_Images_140117_F2_C1_3\\extras\n",
        ".\\140117\\140117_F2_C1\\PiezoSine_Images_140117_F2_C1_30"
       ]
      },
      {
       "output_type": "stream",
       "stream": "stdout",
       "text": [
        "\n",
        ".\\140117\\140117_F2_C1\\PiezoSine_Images_140117_F2_C1_30\\extras\n",
        ".\\140117\\140117_F2_C1\\PiezoSine_Images_140117_F2_C1_31\n",
        ".\\140117\\140117_F2_C1\\PiezoSine_Images_140117_F2_C1_31\\extras\n",
        ".\\140117\\140117_F2_C1\\PiezoSine_Images_140117_F2_C1_32\n",
        ".\\140117\\140117_F2_C1\\PiezoSine_Images_140117_F2_C1_32\\extras\n",
        ".\\140117\\140117_F2_C1\\PiezoSine_Images_140117_F2_C1_33\n",
        ".\\140117\\140117_F2_C1\\PiezoSine_Images_140117_F2_C1_33\\extras\n",
        ".\\140117\\140117_F2_C1\\PiezoSine_Images_140117_F2_C1_34\n",
        ".\\140117\\140117_F2_C1\\PiezoSine_Images_140117_F2_C1_34\\extras\n",
        ".\\140117\\140117_F2_C1\\PiezoSine_Images_140117_F2_C1_35"
       ]
      },
      {
       "output_type": "stream",
       "stream": "stdout",
       "text": [
        "\n",
        ".\\140117\\140117_F2_C1\\PiezoSine_Images_140117_F2_C1_35\\extras\n",
        ".\\140117\\140117_F2_C1\\PiezoSine_Images_140117_F2_C1_36\n",
        ".\\140117\\140117_F2_C1\\PiezoSine_Images_140117_F2_C1_36\\extras\n",
        ".\\140117\\140117_F2_C1\\PiezoSine_Images_140117_F2_C1_37\n",
        ".\\140117\\140117_F2_C1\\PiezoSine_Images_140117_F2_C1_37\\extras\n",
        ".\\140117\\140117_F2_C1\\PiezoSine_Images_140117_F2_C1_38\n",
        ".\\140117\\140117_F2_C1\\PiezoSine_Images_140117_F2_C1_38\\extras\n",
        ".\\140117\\140117_F2_C1\\PiezoSine_Images_140117_F2_C1_39\n",
        ".\\140117\\140117_F2_C1\\PiezoSine_Images_140117_F2_C1_39\\extras\n",
        ".\\140117\\140117_F2_C1\\PiezoSine_Images_140117_F2_C1_4\n",
        ".\\140117\\140117_F2_C1\\PiezoSine_Images_140117_F2_C1_4\\extras"
       ]
      },
      {
       "output_type": "stream",
       "stream": "stdout",
       "text": [
        "\n",
        ".\\140117\\140117_F2_C1\\PiezoSine_Images_140117_F2_C1_40\n",
        ".\\140117\\140117_F2_C1\\PiezoSine_Images_140117_F2_C1_40\\extras\n",
        ".\\140117\\140117_F2_C1\\PiezoSine_Images_140117_F2_C1_41\n",
        ".\\140117\\140117_F2_C1\\PiezoSine_Images_140117_F2_C1_41\\extras\n",
        ".\\140117\\140117_F2_C1\\PiezoSine_Images_140117_F2_C1_42\n",
        ".\\140117\\140117_F2_C1\\PiezoSine_Images_140117_F2_C1_42\\extras\n",
        ".\\140117\\140117_F2_C1\\PiezoSine_Images_140117_F2_C1_43\n",
        ".\\140117\\140117_F2_C1\\PiezoSine_Images_140117_F2_C1_43\\extras\n",
        ".\\140117\\140117_F2_C1\\PiezoSine_Images_140117_F2_C1_44"
       ]
      },
      {
       "output_type": "stream",
       "stream": "stdout",
       "text": [
        "\n",
        ".\\140117\\140117_F2_C1\\PiezoSine_Images_140117_F2_C1_44\\extras\n",
        ".\\140117\\140117_F2_C1\\PiezoSine_Images_140117_F2_C1_45\n",
        ".\\140117\\140117_F2_C1\\PiezoSine_Images_140117_F2_C1_45\\extras\n",
        ".\\140117\\140117_F2_C1\\PiezoSine_Images_140117_F2_C1_46\n",
        ".\\140117\\140117_F2_C1\\PiezoSine_Images_140117_F2_C1_46\\extras\n",
        ".\\140117\\140117_F2_C1\\PiezoSine_Images_140117_F2_C1_47\n",
        ".\\140117\\140117_F2_C1\\PiezoSine_Images_140117_F2_C1_47\\extras\n",
        ".\\140117\\140117_F2_C1\\PiezoSine_Images_140117_F2_C1_48\n",
        ".\\140117\\140117_F2_C1\\PiezoSine_Images_140117_F2_C1_48\\extras\n",
        ".\\140117\\140117_F2_C1\\PiezoSine_Images_140117_F2_C1_49\n",
        ".\\140117\\140117_F2_C1\\PiezoSine_Images_140117_F2_C1_49\\extras\n",
        ".\\140117\\140117_F2_C1\\PiezoSine_Images_140117_F2_C1_5"
       ]
      },
      {
       "output_type": "stream",
       "stream": "stdout",
       "text": [
        "\n",
        ".\\140117\\140117_F2_C1\\PiezoSine_Images_140117_F2_C1_5\\extras\n",
        ".\\140117\\140117_F2_C1\\PiezoSine_Images_140117_F2_C1_50\n",
        ".\\140117\\140117_F2_C1\\PiezoSine_Images_140117_F2_C1_51\n",
        ".\\140117\\140117_F2_C1\\PiezoSine_Images_140117_F2_C1_51\\extras\n",
        ".\\140117\\140117_F2_C1\\PiezoSine_Images_140117_F2_C1_52\n",
        ".\\140117\\140117_F2_C1\\PiezoSine_Images_140117_F2_C1_52\\extras\n",
        ".\\140117\\140117_F2_C1\\PiezoSine_Images_140117_F2_C1_53\n",
        ".\\140117\\140117_F2_C1\\PiezoSine_Images_140117_F2_C1_53\\extras\n",
        ".\\140117\\140117_F2_C1\\PiezoSine_Images_140117_F2_C1_54\n",
        ".\\140117\\140117_F2_C1\\PiezoSine_Images_140117_F2_C1_54\\extras\n",
        ".\\140117\\140117_F2_C1\\PiezoSine_Images_140117_F2_C1_55"
       ]
      },
      {
       "output_type": "stream",
       "stream": "stdout",
       "text": [
        "\n",
        ".\\140117\\140117_F2_C1\\PiezoSine_Images_140117_F2_C1_55\\extras\n",
        ".\\140117\\140117_F2_C1\\PiezoSine_Images_140117_F2_C1_56\n",
        ".\\140117\\140117_F2_C1\\PiezoSine_Images_140117_F2_C1_56\\extras\n",
        ".\\140117\\140117_F2_C1\\PiezoSine_Images_140117_F2_C1_57\n",
        ".\\140117\\140117_F2_C1\\PiezoSine_Images_140117_F2_C1_57\\extras\n",
        ".\\140117\\140117_F2_C1\\PiezoSine_Images_140117_F2_C1_6\n",
        ".\\140117\\140117_F2_C1\\PiezoSine_Images_140117_F2_C1_6\\extras\n",
        ".\\140117\\140117_F2_C1\\PiezoSine_Images_140117_F2_C1_7\n",
        ".\\140117\\140117_F2_C1\\PiezoSine_Images_140117_F2_C1_7\\extras\n",
        ".\\140117\\140117_F2_C1\\PiezoSine_Images_140117_F2_C1_8"
       ]
      },
      {
       "output_type": "stream",
       "stream": "stdout",
       "text": [
        "\n",
        ".\\140117\\140117_F2_C1\\PiezoSine_Images_140117_F2_C1_8\\extras\n",
        ".\\140117\\140117_F2_C1\\PiezoSine_Images_140117_F2_C1_9\n",
        ".\\140117\\140117_F2_C1\\PiezoSine_Images_140117_F2_C1_9\\extras\n",
        ".\\140117\\140117_F2_C1\\PipetteDrift_Images_140117_F2_C1_1"
       ]
      },
      {
       "output_type": "stream",
       "stream": "stdout",
       "text": [
        "\n",
        ".\\140117\\140117_F2_C1\\PipetteDrift_Images_140117_F2_C1_2"
       ]
      },
      {
       "output_type": "stream",
       "stream": "stdout",
       "text": [
        "\n",
        ".\\140117\\140117_F2_C1\\Sweep_Images_140117_F2_C1_1\n",
        ".\\140117\\140117_F2_C1\\Sweep_Images_140117_F2_C1_1\\extras\n",
        ".\\140117\\140117_F2_C1\\Sweep_Images_140117_F2_C1_2"
       ]
      },
      {
       "output_type": "stream",
       "stream": "stdout",
       "text": [
        "\n",
        ".\\140117\\140117_F2_C1\\Sweep_Images_140117_F2_C1_2\\extras\n",
        ".\\140117\\140117_F2_C1\\Sweep_Images_140117_F2_C1_3\n",
        ".\\140117\\140117_F2_C1\\Sweep_Images_140117_F2_C1_4\n",
        ".\\140117\\140117_F2_C1\\Sweep_Images_140117_F2_C1_5"
       ]
      },
      {
       "output_type": "stream",
       "stream": "stdout",
       "text": [
        "\n",
        ".\\140117\\140117_F2_C1\\Sweep_Images_140117_F2_C1_6\n",
        ".\\140117\\140117_F2_C1\\Sweep_Images_140117_F2_C1_7\n",
        ".\\140117\\140117_F2_C1\\VoltagePlateau_Images_140117_F2_C1_1\n",
        ".\\140117\\140117_F2_C1\\VoltagePlateau_Images_140117_F2_C1_2"
       ]
      },
      {
       "output_type": "stream",
       "stream": "stdout",
       "text": [
        "\n",
        ".\\140117\\140117_F2_C1\\VoltagePlateau_Images_140117_F2_C1_2\\extras\n",
        ".\\140117\\140117_F2_C1\\VoltagePlateau_Images_140117_F2_C1_3\n",
        ".\\140117\\140117_F2_C1\\VoltagePlateau_Images_140117_F2_C1_3\\extras\n",
        ".\\140117\\140117_F2_C1\\VoltagePlateau_Images_140117_F2_C1_4\n",
        ".\\140117\\140117_F2_C1\\VoltagePlateau_Images_140117_F2_C1_4\\extras\n",
        ".\\140117\\140117_F2_C1\\VoltagePlateau_Images_140117_F2_C1_5"
       ]
      },
      {
       "output_type": "stream",
       "stream": "stdout",
       "text": [
        "\n",
        ".\\140117\\140117_F2_C1\\VoltagePlateau_Images_140117_F2_C1_5\\extras\n",
        ".\\140117\\140117_F2_C1\\VoltagePlateau_Images_140117_F2_C1_6\n",
        ".\\140117\\140117_F2_C1\\VoltagePlateau_Images_140117_F2_C1_6\\extras\n",
        ".\\140117\\140117_F2_C1\\VoltagePlateau_Images_140117_F2_C1_7\n",
        ".\\140117\\140117_F2_C1\\VoltagePlateau_Images_140117_F2_C1_7\\extras\n",
        ".\\140121\n",
        ".\\140121\\140121_F1_C1\n",
        ".\\140121\\140121_F1_C1\\Sweep_Images_140121_F1_C1_1"
       ]
      },
      {
       "output_type": "stream",
       "stream": "stdout",
       "text": [
        "\n",
        ".\\140121\\140121_F1_C1\\Sweep_Images_140121_F1_C1_1\\extras\n",
        ".\\140121\\140121_F1_C1\\Sweep_Images_140121_F1_C1_2"
       ]
      },
      {
       "output_type": "stream",
       "stream": "stdout",
       "text": [
        "\n",
        ".\\140121\\140121_F1_C1\\Sweep_Images_140121_F1_C1_2\\extras\n",
        ".\\140121\\140121_F2_C1\n",
        ".\\140121\\140121_F2_C1\\CurrentStep_Images_140121_F2_C1_1\n",
        ".\\140121\\140121_F2_C1\\CurrentStep_Images_140121_F2_C1_10"
       ]
      },
      {
       "output_type": "stream",
       "stream": "stdout",
       "text": [
        "\n",
        ".\\140121\\140121_F2_C1\\CurrentStep_Images_140121_F2_C1_11\n",
        ".\\140121\\140121_F2_C1\\CurrentStep_Images_140121_F2_C1_12"
       ]
      },
      {
       "output_type": "stream",
       "stream": "stdout",
       "text": [
        "\n",
        ".\\140121\\140121_F2_C1\\CurrentStep_Images_140121_F2_C1_13\n",
        ".\\140121\\140121_F2_C1\\CurrentStep_Images_140121_F2_C1_14"
       ]
      },
      {
       "output_type": "stream",
       "stream": "stdout",
       "text": [
        "\n",
        ".\\140121\\140121_F2_C1\\CurrentStep_Images_140121_F2_C1_15\n",
        ".\\140121\\140121_F2_C1\\CurrentStep_Images_140121_F2_C1_16"
       ]
      },
      {
       "output_type": "stream",
       "stream": "stdout",
       "text": [
        "\n",
        ".\\140121\\140121_F2_C1\\CurrentStep_Images_140121_F2_C1_17\n",
        ".\\140121\\140121_F2_C1\\CurrentStep_Images_140121_F2_C1_18"
       ]
      },
      {
       "output_type": "stream",
       "stream": "stdout",
       "text": [
        "\n",
        ".\\140121\\140121_F2_C1\\CurrentStep_Images_140121_F2_C1_19\n",
        ".\\140121\\140121_F2_C1\\CurrentStep_Images_140121_F2_C1_2"
       ]
      },
      {
       "output_type": "stream",
       "stream": "stdout",
       "text": [
        "\n",
        ".\\140121\\140121_F2_C1\\CurrentStep_Images_140121_F2_C1_20\n",
        ".\\140121\\140121_F2_C1\\CurrentStep_Images_140121_F2_C1_21"
       ]
      },
      {
       "output_type": "stream",
       "stream": "stdout",
       "text": [
        "\n",
        ".\\140121\\140121_F2_C1\\CurrentStep_Images_140121_F2_C1_22\n",
        ".\\140121\\140121_F2_C1\\CurrentStep_Images_140121_F2_C1_23"
       ]
      },
      {
       "output_type": "stream",
       "stream": "stdout",
       "text": [
        "\n",
        ".\\140121\\140121_F2_C1\\CurrentStep_Images_140121_F2_C1_24\n",
        ".\\140121\\140121_F2_C1\\CurrentStep_Images_140121_F2_C1_25"
       ]
      },
      {
       "output_type": "stream",
       "stream": "stdout",
       "text": [
        "\n",
        ".\\140121\\140121_F2_C1\\CurrentStep_Images_140121_F2_C1_3\n",
        ".\\140121\\140121_F2_C1\\CurrentStep_Images_140121_F2_C1_4"
       ]
      },
      {
       "output_type": "stream",
       "stream": "stdout",
       "text": [
        "\n",
        ".\\140121\\140121_F2_C1\\CurrentStep_Images_140121_F2_C1_5\n",
        ".\\140121\\140121_F2_C1\\CurrentStep_Images_140121_F2_C1_6"
       ]
      },
      {
       "output_type": "stream",
       "stream": "stdout",
       "text": [
        "\n",
        ".\\140121\\140121_F2_C1\\CurrentStep_Images_140121_F2_C1_7\n",
        ".\\140121\\140121_F2_C1\\CurrentStep_Images_140121_F2_C1_8"
       ]
      },
      {
       "output_type": "stream",
       "stream": "stdout",
       "text": [
        "\n",
        ".\\140121\\140121_F2_C1\\CurrentStep_Images_140121_F2_C1_9\n",
        ".\\140121\\140121_F2_C1\\PiezoSine_Images_140121_F2_C1_1"
       ]
      },
      {
       "output_type": "stream",
       "stream": "stdout",
       "text": [
        "\n",
        ".\\140121\\140121_F2_C1\\PiezoSine_Images_140121_F2_C1_10"
       ]
      },
      {
       "output_type": "stream",
       "stream": "stdout",
       "text": [
        "\n",
        ".\\140121\\140121_F2_C1\\PiezoSine_Images_140121_F2_C1_11"
       ]
      },
      {
       "output_type": "stream",
       "stream": "stdout",
       "text": [
        "\n",
        ".\\140121\\140121_F2_C1\\PiezoSine_Images_140121_F2_C1_12"
       ]
      },
      {
       "output_type": "stream",
       "stream": "stdout",
       "text": [
        "\n",
        ".\\140121\\140121_F2_C1\\PiezoSine_Images_140121_F2_C1_13"
       ]
      },
      {
       "output_type": "stream",
       "stream": "stdout",
       "text": [
        "\n",
        ".\\140121\\140121_F2_C1\\PiezoSine_Images_140121_F2_C1_14"
       ]
      },
      {
       "output_type": "stream",
       "stream": "stdout",
       "text": [
        "\n",
        ".\\140121\\140121_F2_C1\\PiezoSine_Images_140121_F2_C1_15"
       ]
      },
      {
       "output_type": "stream",
       "stream": "stdout",
       "text": [
        "\n",
        ".\\140121\\140121_F2_C1\\PiezoSine_Images_140121_F2_C1_16"
       ]
      },
      {
       "output_type": "stream",
       "stream": "stdout",
       "text": [
        "\n",
        ".\\140121\\140121_F2_C1\\PiezoSine_Images_140121_F2_C1_17"
       ]
      },
      {
       "output_type": "stream",
       "stream": "stdout",
       "text": [
        "\n",
        ".\\140121\\140121_F2_C1\\PiezoSine_Images_140121_F2_C1_18"
       ]
      },
      {
       "output_type": "stream",
       "stream": "stdout",
       "text": [
        "\n",
        ".\\140121\\140121_F2_C1\\PiezoSine_Images_140121_F2_C1_19"
       ]
      },
      {
       "output_type": "stream",
       "stream": "stdout",
       "text": [
        "\n",
        ".\\140121\\140121_F2_C1\\PiezoSine_Images_140121_F2_C1_2"
       ]
      },
      {
       "output_type": "stream",
       "stream": "stdout",
       "text": [
        "\n",
        ".\\140121\\140121_F2_C1\\PiezoSine_Images_140121_F2_C1_20"
       ]
      },
      {
       "output_type": "stream",
       "stream": "stdout",
       "text": [
        "\n",
        ".\\140121\\140121_F2_C1\\PiezoSine_Images_140121_F2_C1_21"
       ]
      },
      {
       "output_type": "stream",
       "stream": "stdout",
       "text": [
        "\n",
        ".\\140121\\140121_F2_C1\\PiezoSine_Images_140121_F2_C1_22"
       ]
      },
      {
       "output_type": "stream",
       "stream": "stdout",
       "text": [
        "\n",
        ".\\140121\\140121_F2_C1\\PiezoSine_Images_140121_F2_C1_23"
       ]
      },
      {
       "output_type": "stream",
       "stream": "stdout",
       "text": [
        "\n",
        ".\\140121\\140121_F2_C1\\PiezoSine_Images_140121_F2_C1_24"
       ]
      },
      {
       "output_type": "stream",
       "stream": "stdout",
       "text": [
        "\n",
        ".\\140121\\140121_F2_C1\\PiezoSine_Images_140121_F2_C1_25"
       ]
      },
      {
       "output_type": "stream",
       "stream": "stdout",
       "text": [
        "\n",
        ".\\140121\\140121_F2_C1\\PiezoSine_Images_140121_F2_C1_26"
       ]
      },
      {
       "output_type": "stream",
       "stream": "stdout",
       "text": [
        "\n",
        ".\\140121\\140121_F2_C1\\PiezoSine_Images_140121_F2_C1_27"
       ]
      },
      {
       "output_type": "stream",
       "stream": "stdout",
       "text": [
        "\n",
        ".\\140121\\140121_F2_C1\\PiezoSine_Images_140121_F2_C1_28"
       ]
      },
      {
       "output_type": "stream",
       "stream": "stdout",
       "text": [
        "\n",
        ".\\140121\\140121_F2_C1\\PiezoSine_Images_140121_F2_C1_29"
       ]
      },
      {
       "output_type": "stream",
       "stream": "stdout",
       "text": [
        "\n",
        ".\\140121\\140121_F2_C1\\PiezoSine_Images_140121_F2_C1_3"
       ]
      },
      {
       "output_type": "stream",
       "stream": "stdout",
       "text": [
        "\n",
        ".\\140121\\140121_F2_C1\\PiezoSine_Images_140121_F2_C1_30"
       ]
      },
      {
       "output_type": "stream",
       "stream": "stdout",
       "text": [
        "\n",
        ".\\140121\\140121_F2_C1\\PiezoSine_Images_140121_F2_C1_4"
       ]
      },
      {
       "output_type": "stream",
       "stream": "stdout",
       "text": [
        "\n",
        ".\\140121\\140121_F2_C1\\PiezoSine_Images_140121_F2_C1_5"
       ]
      },
      {
       "output_type": "stream",
       "stream": "stdout",
       "text": [
        "\n",
        ".\\140121\\140121_F2_C1\\PiezoSine_Images_140121_F2_C1_6"
       ]
      },
      {
       "output_type": "stream",
       "stream": "stdout",
       "text": [
        "\n",
        ".\\140121\\140121_F2_C1\\PiezoSine_Images_140121_F2_C1_7"
       ]
      },
      {
       "output_type": "stream",
       "stream": "stdout",
       "text": [
        "\n",
        ".\\140121\\140121_F2_C1\\PiezoSine_Images_140121_F2_C1_8"
       ]
      },
      {
       "output_type": "stream",
       "stream": "stdout",
       "text": [
        "\n",
        ".\\140121\\140121_F2_C1\\PiezoSine_Images_140121_F2_C1_9"
       ]
      },
      {
       "output_type": "stream",
       "stream": "stdout",
       "text": [
        "\n",
        ".\\140121\\140121_F2_C1\\Sweep_Images_140121_F2_C1_1"
       ]
      },
      {
       "output_type": "stream",
       "stream": "stdout",
       "text": [
        "\n",
        ".\\140121\\140121_F2_C1\\Sweep_Images_140121_F2_C1_1\\extras\n",
        ".\\140121\\140121_F2_C1\\Sweep_Images_140121_F2_C1_2"
       ]
      },
      {
       "output_type": "stream",
       "stream": "stdout",
       "text": [
        "\n",
        ".\\140121\\140121_F2_C1\\Sweep_Images_140121_F2_C1_2\\extras\n",
        ".\\140121\\140121_F2_C1\\Sweep_Images_140121_F2_C1_3"
       ]
      },
      {
       "output_type": "stream",
       "stream": "stdout",
       "text": [
        "\n",
        ".\\140121\\140121_F2_C1\\Sweep_Images_140121_F2_C1_4"
       ]
      },
      {
       "output_type": "stream",
       "stream": "stdout",
       "text": [
        "\n",
        ".\\140121\\140121_F2_C1\\Sweep_Images_140121_F2_C1_5"
       ]
      },
      {
       "output_type": "stream",
       "stream": "stdout",
       "text": [
        "\n",
        ".\\140121\\140121_F2_C1\\Sweep_Images_140121_F2_C1_6"
       ]
      },
      {
       "output_type": "stream",
       "stream": "stdout",
       "text": [
        "\n",
        ".\\140121\\140121_F2_C1\\Sweep_Images_140121_F2_C1_7"
       ]
      },
      {
       "output_type": "stream",
       "stream": "stdout",
       "text": [
        "\n",
        ".\\140121\\140121_F2_C1\\VoltagePlateau_Images_140121_F2_C1_1"
       ]
      },
      {
       "output_type": "stream",
       "stream": "stdout",
       "text": [
        "\n",
        ".\\140121\\140121_F2_C1\\VoltagePlateau_Images_140121_F2_C1_1\\extras\n",
        ".\\140121\\140121_F2_C1\\VoltagePlateau_Images_140121_F2_C1_2"
       ]
      },
      {
       "output_type": "stream",
       "stream": "stdout",
       "text": [
        "\n",
        ".\\140121\\140121_F2_C1\\VoltagePlateau_Images_140121_F2_C1_2\\extras\n",
        ".\\140121\\140121_F2_C1\\VoltagePlateau_Images_140121_F2_C1_3"
       ]
      },
      {
       "output_type": "stream",
       "stream": "stdout",
       "text": [
        "\n",
        ".\\140121\\140121_F2_C1\\VoltagePlateau_Images_140121_F2_C1_3\\extras\n",
        ".\\140121\\140121_F2_C1\\VoltagePlateau_Images_140121_F2_C1_4"
       ]
      },
      {
       "output_type": "stream",
       "stream": "stdout",
       "text": [
        "\n",
        ".\\140121\\140121_F2_C1\\VoltagePlateau_Images_140121_F2_C1_4\\extras\n",
        ".\\140121\\140121_F2_C1\\VoltagePlateau_Images_140121_F2_C1_5"
       ]
      },
      {
       "output_type": "stream",
       "stream": "stdout",
       "text": [
        "\n",
        ".\\140121\\140121_F2_C1\\VoltagePlateau_Images_140121_F2_C1_5\\extras\n",
        ".\\140121\\140121_F2_C1\\VoltagePlateau_Images_140121_F2_C1_6"
       ]
      },
      {
       "output_type": "stream",
       "stream": "stdout",
       "text": [
        "\n",
        ".\\140122\n",
        ".\\140122\\140122_F1_C1\n",
        ".\\140122\\140122_F1_C1\\PiezoSine_Images_140122_F1_C1_1\n",
        ".\\140122\\140122_F1_C1\\PiezoSine_Images_140122_F1_C1_1\\extras\n",
        ".\\140122\\140122_F1_C1\\PiezoSine_Images_140122_F1_C1_10\n",
        ".\\140122\\140122_F1_C1\\PiezoSine_Images_140122_F1_C1_10\\extras\n",
        ".\\140122\\140122_F1_C1\\PiezoSine_Images_140122_F1_C1_11\n",
        ".\\140122\\140122_F1_C1\\PiezoSine_Images_140122_F1_C1_11\\extras\n",
        ".\\140122\\140122_F1_C1\\PiezoSine_Images_140122_F1_C1_12\n",
        ".\\140122\\140122_F1_C1\\PiezoSine_Images_140122_F1_C1_12\\extras\n",
        ".\\140122\\140122_F1_C1\\PiezoSine_Images_140122_F1_C1_13"
       ]
      },
      {
       "output_type": "stream",
       "stream": "stdout",
       "text": [
        "\n",
        ".\\140122\\140122_F1_C1\\PiezoSine_Images_140122_F1_C1_13\\extras\n",
        ".\\140122\\140122_F1_C1\\PiezoSine_Images_140122_F1_C1_14\n",
        ".\\140122\\140122_F1_C1\\PiezoSine_Images_140122_F1_C1_14\\extras\n",
        ".\\140122\\140122_F1_C1\\PiezoSine_Images_140122_F1_C1_15\n",
        ".\\140122\\140122_F1_C1\\PiezoSine_Images_140122_F1_C1_15\\extras\n",
        ".\\140122\\140122_F1_C1\\PiezoSine_Images_140122_F1_C1_16\n",
        ".\\140122\\140122_F1_C1\\PiezoSine_Images_140122_F1_C1_16\\extras\n",
        ".\\140122\\140122_F1_C1\\PiezoSine_Images_140122_F1_C1_17\n",
        ".\\140122\\140122_F1_C1\\PiezoSine_Images_140122_F1_C1_17\\extras\n",
        ".\\140122\\140122_F1_C1\\PiezoSine_Images_140122_F1_C1_18\n",
        ".\\140122\\140122_F1_C1\\PiezoSine_Images_140122_F1_C1_18\\extras\n",
        ".\\140122\\140122_F1_C1\\PiezoSine_Images_140122_F1_C1_19"
       ]
      },
      {
       "output_type": "stream",
       "stream": "stdout",
       "text": [
        "\n",
        ".\\140122\\140122_F1_C1\\PiezoSine_Images_140122_F1_C1_19\\extras\n",
        ".\\140122\\140122_F1_C1\\PiezoSine_Images_140122_F1_C1_2\n",
        ".\\140122\\140122_F1_C1\\PiezoSine_Images_140122_F1_C1_2\\extras\n",
        ".\\140122\\140122_F1_C1\\PiezoSine_Images_140122_F1_C1_20\n",
        ".\\140122\\140122_F1_C1\\PiezoSine_Images_140122_F1_C1_20\\extras\n",
        ".\\140122\\140122_F1_C1\\PiezoSine_Images_140122_F1_C1_3\n",
        ".\\140122\\140122_F1_C1\\PiezoSine_Images_140122_F1_C1_3\\extras\n",
        ".\\140122\\140122_F1_C1\\PiezoSine_Images_140122_F1_C1_4\n",
        ".\\140122\\140122_F1_C1\\PiezoSine_Images_140122_F1_C1_4\\extras\n",
        ".\\140122\\140122_F1_C1\\PiezoSine_Images_140122_F1_C1_5\n",
        ".\\140122\\140122_F1_C1\\PiezoSine_Images_140122_F1_C1_5\\extras\n",
        ".\\140122\\140122_F1_C1\\PiezoSine_Images_140122_F1_C1_6"
       ]
      },
      {
       "output_type": "stream",
       "stream": "stdout",
       "text": [
        "\n",
        ".\\140122\\140122_F1_C1\\PiezoSine_Images_140122_F1_C1_6\\extras\n",
        ".\\140122\\140122_F1_C1\\PiezoSine_Images_140122_F1_C1_7\n",
        ".\\140122\\140122_F1_C1\\PiezoSine_Images_140122_F1_C1_7\\extras\n",
        ".\\140122\\140122_F1_C1\\PiezoSine_Images_140122_F1_C1_8\n",
        ".\\140122\\140122_F1_C1\\PiezoSine_Images_140122_F1_C1_8\\extras\n",
        ".\\140122\\140122_F1_C1\\PiezoSine_Images_140122_F1_C1_9\n",
        ".\\140122\\140122_F1_C1\\PiezoSine_Images_140122_F1_C1_9\\extras\n",
        ".\\140122\\140122_F1_C1\\Sweep_Images_140122_F1_C1_1"
       ]
      },
      {
       "output_type": "stream",
       "stream": "stdout",
       "text": [
        "\n",
        ".\\140122\\140122_F1_C1\\Sweep_Images_140122_F1_C1_1\\extras\n",
        ".\\140122\\140122_F1_C1\\Sweep_Images_140122_F1_C1_2"
       ]
      },
      {
       "output_type": "stream",
       "stream": "stdout",
       "text": [
        "\n",
        ".\\140122\\140122_F1_C1\\VoltagePlateau_Images_140122_F1_C1_1\n",
        ".\\140122\\140122_F1_C1\\VoltagePlateau_Images_140122_F1_C1_1\\extras\n",
        ".\\140122\\140122_F1_C1\\VoltagePlateau_Images_140122_F1_C1_2"
       ]
      },
      {
       "output_type": "stream",
       "stream": "stdout",
       "text": [
        "\n",
        ".\\140122\\140122_F1_C1\\VoltagePlateau_Images_140122_F1_C1_2\\extras\n",
        ".\\140122\\140122_F1_C1\\VoltagePlateau_Images_140122_F1_C1_3\n",
        ".\\140122\\140122_F1_C1\\VoltagePlateau_Images_140122_F1_C1_3\\extras\n",
        ".\\140122\\140122_F1_C1\\VoltagePlateau_Images_140122_F1_C1_4"
       ]
      },
      {
       "output_type": "stream",
       "stream": "stdout",
       "text": [
        "\n",
        ".\\140122\\140122_F1_C1\\VoltagePlateau_Images_140122_F1_C1_4\\extras\n",
        ".\\140122\\140122_F1_C1\\VoltagePlateau_Images_140122_F1_C1_5\n",
        ".\\140122\\140122_F1_C1\\VoltagePlateau_Images_140122_F1_C1_5\\extras\n",
        ".\\140122\\140122_F1_C1\\VoltagePlateau_Images_140122_F1_C1_6"
       ]
      },
      {
       "output_type": "stream",
       "stream": "stdout",
       "text": [
        "\n",
        ".\\140122\\140122_F1_C1\\VoltagePlateau_Images_140122_F1_C1_6\\extras\n",
        ".\\140122\\140122_F1_C1\\VoltagePlateau_Images_140122_F1_C1_7\n",
        ".\\140122\\140122_F1_C1\\VoltagePlateau_Images_140122_F1_C1_7\\extras\n",
        ".\\140122\\140122_F1_C1\\VoltagePlateau_Images_140122_F1_C1_8"
       ]
      },
      {
       "output_type": "stream",
       "stream": "stdout",
       "text": [
        "\n",
        ".\\140122\\140122_F1_C1\\VoltagePlateau_Images_140122_F1_C1_8\\extras\n",
        ".\\140122\\140122_F1_C1\\VoltagePlateau_Images_140122_F1_C1_9\n",
        ".\\140122\\140122_F1_C1\\VoltagePlateau_Images_140122_F1_C1_9\\extras\n",
        ".\\140122\\140122_F2_C1\n",
        ".\\140122\\140122_F2_C1\\CurrentStep_Images_140122_F2_C1_1"
       ]
      },
      {
       "output_type": "stream",
       "stream": "stdout",
       "text": [
        "\n",
        ".\\140122\\140122_F2_C1\\CurrentStep_Images_140122_F2_C1_10\n",
        ".\\140122\\140122_F2_C1\\CurrentStep_Images_140122_F2_C1_10\\extras\n",
        ".\\140122\\140122_F2_C1\\CurrentStep_Images_140122_F2_C1_2"
       ]
      },
      {
       "output_type": "stream",
       "stream": "stdout",
       "text": [
        "\n",
        ".\\140122\\140122_F2_C1\\CurrentStep_Images_140122_F2_C1_2\\extras\n",
        ".\\140122\\140122_F2_C1\\CurrentStep_Images_140122_F2_C1_3\n",
        ".\\140122\\140122_F2_C1\\CurrentStep_Images_140122_F2_C1_3\\extras\n",
        ".\\140122\\140122_F2_C1\\CurrentStep_Images_140122_F2_C1_4"
       ]
      },
      {
       "output_type": "stream",
       "stream": "stdout",
       "text": [
        "\n",
        ".\\140122\\140122_F2_C1\\CurrentStep_Images_140122_F2_C1_4\\extras\n",
        ".\\140122\\140122_F2_C1\\CurrentStep_Images_140122_F2_C1_5\n",
        ".\\140122\\140122_F2_C1\\CurrentStep_Images_140122_F2_C1_5\\extras\n",
        ".\\140122\\140122_F2_C1\\CurrentStep_Images_140122_F2_C1_6"
       ]
      },
      {
       "output_type": "stream",
       "stream": "stdout",
       "text": [
        "\n",
        ".\\140122\\140122_F2_C1\\CurrentStep_Images_140122_F2_C1_6\\extras\n",
        ".\\140122\\140122_F2_C1\\CurrentStep_Images_140122_F2_C1_7\n",
        ".\\140122\\140122_F2_C1\\CurrentStep_Images_140122_F2_C1_7\\extras\n",
        ".\\140122\\140122_F2_C1\\CurrentStep_Images_140122_F2_C1_8"
       ]
      },
      {
       "output_type": "stream",
       "stream": "stdout",
       "text": [
        "\n",
        ".\\140122\\140122_F2_C1\\CurrentStep_Images_140122_F2_C1_9\n",
        ".\\140122\\140122_F2_C1\\CurrentStep_Images_140122_F2_C1_9\\extras\n",
        ".\\140122\\140122_F2_C1\\PiezoSine_Images_140122_F2_C1_1\n",
        ".\\140122\\140122_F2_C1\\PiezoSine_Images_140122_F2_C1_10\n",
        ".\\140122\\140122_F2_C1\\PiezoSine_Images_140122_F2_C1_10\\extras"
       ]
      },
      {
       "output_type": "stream",
       "stream": "stdout",
       "text": [
        "\n",
        ".\\140122\\140122_F2_C1\\PiezoSine_Images_140122_F2_C1_11\n",
        ".\\140122\\140122_F2_C1\\PiezoSine_Images_140122_F2_C1_12\n",
        ".\\140122\\140122_F2_C1\\PiezoSine_Images_140122_F2_C1_12\\extras\n",
        ".\\140122\\140122_F2_C1\\PiezoSine_Images_140122_F2_C1_13\n",
        ".\\140122\\140122_F2_C1\\PiezoSine_Images_140122_F2_C1_13\\extras\n",
        ".\\140122\\140122_F2_C1\\PiezoSine_Images_140122_F2_C1_14\n",
        ".\\140122\\140122_F2_C1\\PiezoSine_Images_140122_F2_C1_14\\extras\n",
        ".\\140122\\140122_F2_C1\\PiezoSine_Images_140122_F2_C1_15"
       ]
      },
      {
       "output_type": "stream",
       "stream": "stdout",
       "text": [
        "\n",
        ".\\140122\\140122_F2_C1\\PiezoSine_Images_140122_F2_C1_15\\extras\n",
        ".\\140122\\140122_F2_C1\\PiezoSine_Images_140122_F2_C1_16\n",
        ".\\140122\\140122_F2_C1\\PiezoSine_Images_140122_F2_C1_16\\extras\n",
        ".\\140122\\140122_F2_C1\\PiezoSine_Images_140122_F2_C1_17\n",
        ".\\140122\\140122_F2_C1\\PiezoSine_Images_140122_F2_C1_17\\extras\n",
        ".\\140122\\140122_F2_C1\\PiezoSine_Images_140122_F2_C1_18\n",
        ".\\140122\\140122_F2_C1\\PiezoSine_Images_140122_F2_C1_18\\extras\n",
        ".\\140122\\140122_F2_C1\\PiezoSine_Images_140122_F2_C1_19\n",
        ".\\140122\\140122_F2_C1\\PiezoSine_Images_140122_F2_C1_19\\extras\n",
        ".\\140122\\140122_F2_C1\\PiezoSine_Images_140122_F2_C1_2\n",
        ".\\140122\\140122_F2_C1\\PiezoSine_Images_140122_F2_C1_20"
       ]
      },
      {
       "output_type": "stream",
       "stream": "stdout",
       "text": [
        "\n",
        ".\\140122\\140122_F2_C1\\PiezoSine_Images_140122_F2_C1_20\\extras\n",
        ".\\140122\\140122_F2_C1\\PiezoSine_Images_140122_F2_C1_21\n",
        ".\\140122\\140122_F2_C1\\PiezoSine_Images_140122_F2_C1_21\\extras\n",
        ".\\140122\\140122_F2_C1\\PiezoSine_Images_140122_F2_C1_22\n",
        ".\\140122\\140122_F2_C1\\PiezoSine_Images_140122_F2_C1_22\\extras\n",
        ".\\140122\\140122_F2_C1\\PiezoSine_Images_140122_F2_C1_23\n",
        ".\\140122\\140122_F2_C1\\PiezoSine_Images_140122_F2_C1_23\\extras\n",
        ".\\140122\\140122_F2_C1\\PiezoSine_Images_140122_F2_C1_24\n",
        ".\\140122\\140122_F2_C1\\PiezoSine_Images_140122_F2_C1_24\\extras\n",
        ".\\140122\\140122_F2_C1\\PiezoSine_Images_140122_F2_C1_25"
       ]
      },
      {
       "output_type": "stream",
       "stream": "stdout",
       "text": [
        "\n",
        ".\\140122\\140122_F2_C1\\PiezoSine_Images_140122_F2_C1_25\\extras\n",
        ".\\140122\\140122_F2_C1\\PiezoSine_Images_140122_F2_C1_26"
       ]
      },
      {
       "output_type": "stream",
       "stream": "stdout",
       "text": [
        "\n",
        ".\\140122\\140122_F2_C1\\PiezoSine_Images_140122_F2_C1_27"
       ]
      },
      {
       "output_type": "stream",
       "stream": "stdout",
       "text": [
        "\n",
        ".\\140122\\140122_F2_C1\\PiezoSine_Images_140122_F2_C1_28"
       ]
      },
      {
       "output_type": "stream",
       "stream": "stdout",
       "text": [
        "\n",
        ".\\140122\\140122_F2_C1\\PiezoSine_Images_140122_F2_C1_29"
       ]
      },
      {
       "output_type": "stream",
       "stream": "stdout",
       "text": [
        "\n",
        ".\\140122\\140122_F2_C1\\PiezoSine_Images_140122_F2_C1_3\n",
        ".\\140122\\140122_F2_C1\\PiezoSine_Images_140122_F2_C1_30"
       ]
      },
      {
       "output_type": "stream",
       "stream": "stdout",
       "text": [
        "\n",
        ".\\140122\\140122_F2_C1\\PiezoSine_Images_140122_F2_C1_31"
       ]
      },
      {
       "output_type": "stream",
       "stream": "stdout",
       "text": [
        "\n",
        ".\\140122\\140122_F2_C1\\PiezoSine_Images_140122_F2_C1_32"
       ]
      },
      {
       "output_type": "stream",
       "stream": "stdout",
       "text": [
        "\n",
        ".\\140122\\140122_F2_C1\\PiezoSine_Images_140122_F2_C1_33"
       ]
      },
      {
       "output_type": "stream",
       "stream": "stdout",
       "text": [
        "\n",
        ".\\140122\\140122_F2_C1\\PiezoSine_Images_140122_F2_C1_34"
       ]
      },
      {
       "output_type": "stream",
       "stream": "stdout",
       "text": [
        "\n",
        ".\\140122\\140122_F2_C1\\PiezoSine_Images_140122_F2_C1_35"
       ]
      },
      {
       "output_type": "stream",
       "stream": "stdout",
       "text": [
        "\n",
        ".\\140122\\140122_F2_C1\\PiezoSine_Images_140122_F2_C1_36"
       ]
      },
      {
       "output_type": "stream",
       "stream": "stdout",
       "text": [
        "\n",
        ".\\140122\\140122_F2_C1\\PiezoSine_Images_140122_F2_C1_37"
       ]
      },
      {
       "output_type": "stream",
       "stream": "stdout",
       "text": [
        "\n",
        ".\\140122\\140122_F2_C1\\PiezoSine_Images_140122_F2_C1_38"
       ]
      },
      {
       "output_type": "stream",
       "stream": "stdout",
       "text": [
        "\n",
        ".\\140122\\140122_F2_C1\\PiezoSine_Images_140122_F2_C1_38\\extras\n",
        ".\\140122\\140122_F2_C1\\PiezoSine_Images_140122_F2_C1_39"
       ]
      },
      {
       "output_type": "stream",
       "stream": "stdout",
       "text": [
        "\n",
        ".\\140122\\140122_F2_C1\\PiezoSine_Images_140122_F2_C1_40"
       ]
      },
      {
       "output_type": "stream",
       "stream": "stdout",
       "text": [
        "\n",
        ".\\140122\\140122_F2_C1\\PiezoStep_Images_140122_F2_C1_1\n",
        ".\\140122\\140122_F2_C1\\PiezoStep_Images_140122_F2_C1_1\\extras\n",
        ".\\140122\\140122_F2_C1\\PiezoStep_Images_140122_F2_C1_10"
       ]
      },
      {
       "output_type": "stream",
       "stream": "stdout",
       "text": [
        "\n",
        ".\\140122\\140122_F2_C1\\PiezoStep_Images_140122_F2_C1_10\\extras\n",
        ".\\140122\\140122_F2_C1\\PiezoStep_Images_140122_F2_C1_11\n",
        ".\\140122\\140122_F2_C1\\PiezoStep_Images_140122_F2_C1_12"
       ]
      },
      {
       "output_type": "stream",
       "stream": "stdout",
       "text": [
        "\n",
        ".\\140122\\140122_F2_C1\\PiezoStep_Images_140122_F2_C1_12\\extras\n",
        ".\\140122\\140122_F2_C1\\PiezoStep_Images_140122_F2_C1_13\n",
        ".\\140122\\140122_F2_C1\\PiezoStep_Images_140122_F2_C1_13\\extras\n",
        ".\\140122\\140122_F2_C1\\PiezoStep_Images_140122_F2_C1_14"
       ]
      },
      {
       "output_type": "stream",
       "stream": "stdout",
       "text": [
        "\n",
        ".\\140122\\140122_F2_C1\\PiezoStep_Images_140122_F2_C1_14\\extras\n",
        ".\\140122\\140122_F2_C1\\PiezoStep_Images_140122_F2_C1_15\n",
        ".\\140122\\140122_F2_C1\\PiezoStep_Images_140122_F2_C1_16"
       ]
      },
      {
       "output_type": "stream",
       "stream": "stdout",
       "text": [
        "\n",
        ".\\140122\\140122_F2_C1\\PiezoStep_Images_140122_F2_C1_16\\extras\n",
        ".\\140122\\140122_F2_C1\\PiezoStep_Images_140122_F2_C1_17\n",
        ".\\140122\\140122_F2_C1\\PiezoStep_Images_140122_F2_C1_18"
       ]
      },
      {
       "output_type": "stream",
       "stream": "stdout",
       "text": [
        "\n",
        ".\\140122\\140122_F2_C1\\PiezoStep_Images_140122_F2_C1_18\\extras\n",
        ".\\140122\\140122_F2_C1\\PiezoStep_Images_140122_F2_C1_19\n",
        ".\\140122\\140122_F2_C1\\PiezoStep_Images_140122_F2_C1_2"
       ]
      },
      {
       "output_type": "stream",
       "stream": "stdout",
       "text": [
        "\n",
        ".\\140122\\140122_F2_C1\\PiezoStep_Images_140122_F2_C1_20\n",
        ".\\140122\\140122_F2_C1\\PiezoStep_Images_140122_F2_C1_20\\extras\n",
        ".\\140122\\140122_F2_C1\\PiezoStep_Images_140122_F2_C1_21"
       ]
      },
      {
       "output_type": "stream",
       "stream": "stdout",
       "text": [
        "\n",
        ".\\140122\\140122_F2_C1\\PiezoStep_Images_140122_F2_C1_21\\extras\n",
        ".\\140122\\140122_F2_C1\\PiezoStep_Images_140122_F2_C1_22\n",
        ".\\140122\\140122_F2_C1\\PiezoStep_Images_140122_F2_C1_22\\extras\n",
        ".\\140122\\140122_F2_C1\\PiezoStep_Images_140122_F2_C1_23"
       ]
      },
      {
       "output_type": "stream",
       "stream": "stdout",
       "text": [
        "\n",
        ".\\140122\\140122_F2_C1\\PiezoStep_Images_140122_F2_C1_23\\extras\n",
        ".\\140122\\140122_F2_C1\\PiezoStep_Images_140122_F2_C1_24\n",
        ".\\140122\\140122_F2_C1\\PiezoStep_Images_140122_F2_C1_24\\extras\n",
        ".\\140122\\140122_F2_C1\\PiezoStep_Images_140122_F2_C1_25"
       ]
      },
      {
       "output_type": "stream",
       "stream": "stdout",
       "text": [
        "\n",
        ".\\140122\\140122_F2_C1\\PiezoStep_Images_140122_F2_C1_25\\extras\n",
        ".\\140122\\140122_F2_C1\\PiezoStep_Images_140122_F2_C1_26\n",
        ".\\140122\\140122_F2_C1\\PiezoStep_Images_140122_F2_C1_27\n",
        ".\\140122\\140122_F2_C1\\PiezoStep_Images_140122_F2_C1_27\\extras\n",
        ".\\140122\\140122_F2_C1\\PiezoStep_Images_140122_F2_C1_28"
       ]
      },
      {
       "output_type": "stream",
       "stream": "stdout",
       "text": [
        "\n",
        ".\\140122\\140122_F2_C1\\PiezoStep_Images_140122_F2_C1_28\\extras\n",
        ".\\140122\\140122_F2_C1\\PiezoStep_Images_140122_F2_C1_29\n",
        ".\\140122\\140122_F2_C1\\PiezoStep_Images_140122_F2_C1_3\n",
        ".\\140122\\140122_F2_C1\\PiezoStep_Images_140122_F2_C1_30"
       ]
      },
      {
       "output_type": "stream",
       "stream": "stdout",
       "text": [
        "\n",
        ".\\140122\\140122_F2_C1\\PiezoStep_Images_140122_F2_C1_4\n",
        ".\\140122\\140122_F2_C1\\PiezoStep_Images_140122_F2_C1_4\\extras\n",
        ".\\140122\\140122_F2_C1\\PiezoStep_Images_140122_F2_C1_5"
       ]
      },
      {
       "output_type": "stream",
       "stream": "stdout",
       "text": [
        "\n",
        ".\\140122\\140122_F2_C1\\PiezoStep_Images_140122_F2_C1_5\\extras\n",
        ".\\140122\\140122_F2_C1\\PiezoStep_Images_140122_F2_C1_6\n",
        ".\\140122\\140122_F2_C1\\PiezoStep_Images_140122_F2_C1_6\\extras\n",
        ".\\140122\\140122_F2_C1\\PiezoStep_Images_140122_F2_C1_7"
       ]
      },
      {
       "output_type": "stream",
       "stream": "stdout",
       "text": [
        "\n",
        ".\\140122\\140122_F2_C1\\PiezoStep_Images_140122_F2_C1_7\\extras\n",
        ".\\140122\\140122_F2_C1\\PiezoStep_Images_140122_F2_C1_8\n",
        ".\\140122\\140122_F2_C1\\PiezoStep_Images_140122_F2_C1_8\\extras\n",
        ".\\140122\\140122_F2_C1\\PiezoStep_Images_140122_F2_C1_9"
       ]
      },
      {
       "output_type": "stream",
       "stream": "stdout",
       "text": [
        "\n",
        ".\\140122\\140122_F2_C1\\PiezoStep_Images_140122_F2_C1_9\\extras\n",
        ".\\140122\\140122_F2_C1\\Sweep_Images_140122_F2_C1_1"
       ]
      },
      {
       "output_type": "stream",
       "stream": "stdout",
       "text": [
        "\n",
        ".\\140122\\140122_F2_C1\\Sweep_Images_140122_F2_C1_1\\extras\n",
        ".\\140122\\140122_F2_C1\\Sweep_Images_140122_F2_C1_2"
       ]
      },
      {
       "output_type": "stream",
       "stream": "stdout",
       "text": [
        "\n",
        ".\\140122\\140122_F2_C1\\Sweep_Images_140122_F2_C1_2\\extras\n",
        ".\\140122\\140122_F2_C1\\VoltagePlateau_Images_140122_F2_C1_1\n",
        ".\\140122\\140122_F2_C1\\VoltagePlateau_Images_140122_F2_C1_1\\extras\n",
        ".\\140122\\140122_F2_C1\\VoltagePlateau_Images_140122_F2_C1_2"
       ]
      },
      {
       "output_type": "stream",
       "stream": "stdout",
       "text": [
        "\n",
        ".\\140122\\140122_F2_C1\\VoltagePlateau_Images_140122_F2_C1_2\\extras\n",
        ".\\140122\\140122_F2_C1\\VoltagePlateau_Images_140122_F2_C1_3\n",
        ".\\140122\\140122_F2_C1\\VoltagePlateau_Images_140122_F2_C1_3\\extras\n",
        ".\\140122\\140122_F2_C1\\VoltagePlateau_Images_140122_F2_C1_4"
       ]
      },
      {
       "output_type": "stream",
       "stream": "stdout",
       "text": [
        "\n",
        ".\\140122\\140122_F2_C1\\VoltagePlateau_Images_140122_F2_C1_4\\extras\n",
        ".\\140122\\140122_F2_C1\\VoltagePlateau_Images_140122_F2_C1_5\n",
        ".\\140122\\140122_F2_C1\\VoltagePlateau_Images_140122_F2_C1_5\\extras\n",
        ".\\140122\\140122_F2_C1\\VoltagePlateau_Images_140122_F2_C1_6"
       ]
      },
      {
       "output_type": "stream",
       "stream": "stdout",
       "text": [
        "\n",
        ".\\140122\\140122_F2_C1\\VoltagePlateau_Images_140122_F2_C1_6\\extras\n",
        ".\\140122\\140122_F2_C2\n",
        ".\\140122\\140122_F2_C2\\Sweep_Images_140122_F2_C2_1"
       ]
      },
      {
       "output_type": "stream",
       "stream": "stdout",
       "text": [
        "\n",
        ".\\140128\n",
        ".\\140128\\140128_F1_C1\n",
        ".\\140128\\140128_F1_C1\\Sweep_Images_140128_F1_C1_1"
       ]
      },
      {
       "output_type": "stream",
       "stream": "stdout",
       "text": [
        "\n",
        ".\\140128\\140128_F1_C1\\Sweep_Images_140128_F1_C1_1\\extras\n",
        ".\\140128\\140128_F1_C1\\Sweep_Images_140128_F1_C1_2\n",
        ".\\140128\\140128_F1_C1\\Sweep_Images_140128_F1_C1_3"
       ]
      },
      {
       "output_type": "stream",
       "stream": "stdout",
       "text": [
        "\n",
        ".\\140128\\140128_F1_C1\\Sweep_Images_140128_F1_C1_3\\extras\n",
        ".\\140128\\140128_F1_C1\\Sweep_Images_140128_F1_C1_4"
       ]
      },
      {
       "output_type": "stream",
       "stream": "stdout",
       "text": [
        "\n",
        ".\\140128\\140128_F1_C1\\Sweep_Images_140128_F1_C1_4\\extras\n",
        ".\\140128\\140128_F1_C1\\Sweep_Images_140128_F1_C1_5"
       ]
      },
      {
       "output_type": "stream",
       "stream": "stdout",
       "text": [
        "\n",
        ".\\140128\\140128_F1_C1\\Sweep_Images_140128_F1_C1_5\\extras\n",
        ".\\140128\\140128_F1_C1\\VoltagePlateau_Images_140128_F1_C1_1\n",
        ".\\140128\\140128_F1_C1\\VoltagePlateau_Images_140128_F1_C1_2"
       ]
      },
      {
       "output_type": "stream",
       "stream": "stdout",
       "text": [
        "\n",
        ".\\140128\\140128_F1_C1\\VoltagePlateau_Images_140128_F1_C1_3\n",
        ".\\140128\\140128_F1_C1\\VoltagePlateau_Images_140128_F1_C1_4"
       ]
      },
      {
       "output_type": "stream",
       "stream": "stdout",
       "text": [
        "\n",
        ".\\140128\\140128_F1_C1\\VoltagePlateau_Images_140128_F1_C1_4\\extras\n",
        ".\\140128\\140128_F1_C1\\VoltagePlateau_Images_140128_F1_C1_5\n",
        ".\\140128\\140128_F1_C1\\VoltagePlateau_Images_140128_F1_C1_5\\extras\n",
        ".\\140128\\140128_F1_C1\\VoltagePlateau_Images_140128_F1_C1_6"
       ]
      },
      {
       "output_type": "stream",
       "stream": "stdout",
       "text": [
        "\n",
        ".\\140128\\140128_F1_C1\\VoltagePlateau_Images_140128_F1_C1_6\\extras\n",
        ".\\140129\n",
        ".\\140129\\140129_F1_C1\n",
        ".\\140131\n",
        ".\\140131\\140131_F1_C1\n",
        ".\\140131\\140131_F1_C1\\Sweep_Images_140131_F1_C1_1"
       ]
      },
      {
       "output_type": "stream",
       "stream": "stdout",
       "text": [
        "\n",
        ".\\140131\\140131_F1_C1\\Sweep_Images_140131_F1_C1_1\\extras\n",
        ".\\140131\\140131_F1_C1\\Sweep_Images_140131_F1_C1_2"
       ]
      },
      {
       "output_type": "stream",
       "stream": "stdout",
       "text": [
        "\n",
        ".\\140131\\140131_F1_C1\\Sweep_Images_140131_F1_C1_2\\extras\n",
        ".\\140131\\140131_F2_C1\n",
        ".\\140131\\140131_F3_C1\n",
        ".\\140131\\140131_F3_C1\\CurrentStep_Images_140131_F3_C1_1\n",
        ".\\140131\\140131_F3_C1\\CurrentStep_Images_140131_F3_C1_1\\extras\n",
        ".\\140131\\140131_F3_C1\\CurrentStep_Images_140131_F3_C1_10\n",
        ".\\140131\\140131_F3_C1\\CurrentStep_Images_140131_F3_C1_10\\extras\n",
        ".\\140131\\140131_F3_C1\\CurrentStep_Images_140131_F3_C1_11"
       ]
      },
      {
       "output_type": "stream",
       "stream": "stdout",
       "text": [
        "\n",
        ".\\140131\\140131_F3_C1\\CurrentStep_Images_140131_F3_C1_11\\extras\n",
        ".\\140131\\140131_F3_C1\\CurrentStep_Images_140131_F3_C1_12\n",
        ".\\140131\\140131_F3_C1\\CurrentStep_Images_140131_F3_C1_13"
       ]
      },
      {
       "output_type": "stream",
       "stream": "stdout",
       "text": [
        "\n",
        ".\\140131\\140131_F3_C1\\CurrentStep_Images_140131_F3_C1_13\\extras\n",
        ".\\140131\\140131_F3_C1\\CurrentStep_Images_140131_F3_C1_14\n",
        ".\\140131\\140131_F3_C1\\CurrentStep_Images_140131_F3_C1_14\\extras\n",
        ".\\140131\\140131_F3_C1\\CurrentStep_Images_140131_F3_C1_15"
       ]
      },
      {
       "output_type": "stream",
       "stream": "stdout",
       "text": [
        "\n",
        ".\\140131\\140131_F3_C1\\CurrentStep_Images_140131_F3_C1_15\\extras\n",
        ".\\140131\\140131_F3_C1\\CurrentStep_Images_140131_F3_C1_16\n",
        ".\\140131\\140131_F3_C1\\CurrentStep_Images_140131_F3_C1_16\\extras\n",
        ".\\140131\\140131_F3_C1\\CurrentStep_Images_140131_F3_C1_17"
       ]
      },
      {
       "output_type": "stream",
       "stream": "stdout",
       "text": [
        "\n",
        ".\\140131\\140131_F3_C1\\CurrentStep_Images_140131_F3_C1_17\\extras\n",
        ".\\140131\\140131_F3_C1\\CurrentStep_Images_140131_F3_C1_18\n",
        ".\\140131\\140131_F3_C1\\CurrentStep_Images_140131_F3_C1_18\\extras\n",
        ".\\140131\\140131_F3_C1\\CurrentStep_Images_140131_F3_C1_19"
       ]
      },
      {
       "output_type": "stream",
       "stream": "stdout",
       "text": [
        "\n",
        ".\\140131\\140131_F3_C1\\CurrentStep_Images_140131_F3_C1_2\n",
        ".\\140131\\140131_F3_C1\\CurrentStep_Images_140131_F3_C1_2\\extras\n",
        ".\\140131\\140131_F3_C1\\CurrentStep_Images_140131_F3_C1_20\n",
        ".\\140131\\140131_F3_C1\\CurrentStep_Images_140131_F3_C1_3\n",
        ".\\140131\\140131_F3_C1\\CurrentStep_Images_140131_F3_C1_3\\extras\n",
        ".\\140131\\140131_F3_C1\\CurrentStep_Images_140131_F3_C1_4\n",
        ".\\140131\\140131_F3_C1\\CurrentStep_Images_140131_F3_C1_4\\extras\n",
        ".\\140131\\140131_F3_C1\\CurrentStep_Images_140131_F3_C1_5"
       ]
      },
      {
       "output_type": "stream",
       "stream": "stdout",
       "text": [
        "\n",
        ".\\140131\\140131_F3_C1\\CurrentStep_Images_140131_F3_C1_5\\extras\n",
        ".\\140131\\140131_F3_C1\\CurrentStep_Images_140131_F3_C1_6\n",
        ".\\140131\\140131_F3_C1\\CurrentStep_Images_140131_F3_C1_6\\extras\n",
        ".\\140131\\140131_F3_C1\\CurrentStep_Images_140131_F3_C1_7\n",
        ".\\140131\\140131_F3_C1\\CurrentStep_Images_140131_F3_C1_7\\extras\n",
        ".\\140131\\140131_F3_C1\\CurrentStep_Images_140131_F3_C1_8\n",
        ".\\140131\\140131_F3_C1\\CurrentStep_Images_140131_F3_C1_8\\extras\n",
        ".\\140131\\140131_F3_C1\\CurrentStep_Images_140131_F3_C1_9\n",
        ".\\140131\\140131_F3_C1\\CurrentStep_Images_140131_F3_C1_9\\extras\n",
        ".\\140131\\140131_F3_C1\\PiezoSine_Images_140131_F3_C1_1\n",
        ".\\140131\\140131_F3_C1\\PiezoSine_Images_140131_F3_C1_1\\extras\n",
        ".\\140131\\140131_F3_C1\\PiezoSine_Images_140131_F3_C1_10\n",
        ".\\140131\\140131_F3_C1\\PiezoSine_Images_140131_F3_C1_10\\extras\n",
        ".\\140131\\140131_F3_C1\\PiezoSine_Images_140131_F3_C1_11\n",
        ".\\140131\\140131_F3_C1\\PiezoSine_Images_140131_F3_C1_11\\extras\n",
        ".\\140131\\140131_F3_C1\\PiezoSine_Images_140131_F3_C1_12"
       ]
      },
      {
       "output_type": "stream",
       "stream": "stdout",
       "text": [
        "\n",
        ".\\140131\\140131_F3_C1\\PiezoSine_Images_140131_F3_C1_12\\extras\n",
        ".\\140131\\140131_F3_C1\\PiezoSine_Images_140131_F3_C1_13\n",
        ".\\140131\\140131_F3_C1\\PiezoSine_Images_140131_F3_C1_13\\extras\n",
        ".\\140131\\140131_F3_C1\\PiezoSine_Images_140131_F3_C1_14\n",
        ".\\140131\\140131_F3_C1\\PiezoSine_Images_140131_F3_C1_14\\extras\n",
        ".\\140131\\140131_F3_C1\\PiezoSine_Images_140131_F3_C1_15\n",
        ".\\140131\\140131_F3_C1\\PiezoSine_Images_140131_F3_C1_15\\extras\n",
        ".\\140131\\140131_F3_C1\\PiezoSine_Images_140131_F3_C1_16\n",
        ".\\140131\\140131_F3_C1\\PiezoSine_Images_140131_F3_C1_16\\extras\n",
        ".\\140131\\140131_F3_C1\\PiezoSine_Images_140131_F3_C1_17\n",
        ".\\140131\\140131_F3_C1\\PiezoSine_Images_140131_F3_C1_17\\extras\n",
        ".\\140131\\140131_F3_C1\\PiezoSine_Images_140131_F3_C1_18"
       ]
      },
      {
       "output_type": "stream",
       "stream": "stdout",
       "text": [
        "\n",
        ".\\140131\\140131_F3_C1\\PiezoSine_Images_140131_F3_C1_18\\extras\n",
        ".\\140131\\140131_F3_C1\\PiezoSine_Images_140131_F3_C1_19\n",
        ".\\140131\\140131_F3_C1\\PiezoSine_Images_140131_F3_C1_19\\extras\n",
        ".\\140131\\140131_F3_C1\\PiezoSine_Images_140131_F3_C1_2\n",
        ".\\140131\\140131_F3_C1\\PiezoSine_Images_140131_F3_C1_2\\extras\n",
        ".\\140131\\140131_F3_C1\\PiezoSine_Images_140131_F3_C1_20\n",
        ".\\140131\\140131_F3_C1\\PiezoSine_Images_140131_F3_C1_20\\extras\n",
        ".\\140131\\140131_F3_C1\\PiezoSine_Images_140131_F3_C1_21\n",
        ".\\140131\\140131_F3_C1\\PiezoSine_Images_140131_F3_C1_21\\extras\n",
        ".\\140131\\140131_F3_C1\\PiezoSine_Images_140131_F3_C1_22\n",
        ".\\140131\\140131_F3_C1\\PiezoSine_Images_140131_F3_C1_22\\extras\n",
        ".\\140131\\140131_F3_C1\\PiezoSine_Images_140131_F3_C1_23"
       ]
      },
      {
       "output_type": "stream",
       "stream": "stdout",
       "text": [
        "\n",
        ".\\140131\\140131_F3_C1\\PiezoSine_Images_140131_F3_C1_23\\extras\n",
        ".\\140131\\140131_F3_C1\\PiezoSine_Images_140131_F3_C1_24\n",
        ".\\140131\\140131_F3_C1\\PiezoSine_Images_140131_F3_C1_24\\extras\n",
        ".\\140131\\140131_F3_C1\\PiezoSine_Images_140131_F3_C1_3\n",
        ".\\140131\\140131_F3_C1\\PiezoSine_Images_140131_F3_C1_3\\extras\n",
        ".\\140131\\140131_F3_C1\\PiezoSine_Images_140131_F3_C1_4\n",
        ".\\140131\\140131_F3_C1\\PiezoSine_Images_140131_F3_C1_4\\extras\n",
        ".\\140131\\140131_F3_C1\\PiezoSine_Images_140131_F3_C1_5\n",
        ".\\140131\\140131_F3_C1\\PiezoSine_Images_140131_F3_C1_5\\extras\n",
        ".\\140131\\140131_F3_C1\\PiezoSine_Images_140131_F3_C1_6\n",
        ".\\140131\\140131_F3_C1\\PiezoSine_Images_140131_F3_C1_6\\extras\n",
        ".\\140131\\140131_F3_C1\\PiezoSine_Images_140131_F3_C1_7"
       ]
      },
      {
       "output_type": "stream",
       "stream": "stdout",
       "text": [
        "\n",
        ".\\140131\\140131_F3_C1\\PiezoSine_Images_140131_F3_C1_7\\extras\n",
        ".\\140131\\140131_F3_C1\\PiezoSine_Images_140131_F3_C1_8\n",
        ".\\140131\\140131_F3_C1\\PiezoSine_Images_140131_F3_C1_8\\extras\n",
        ".\\140131\\140131_F3_C1\\PiezoSine_Images_140131_F3_C1_9\n",
        ".\\140131\\140131_F3_C1\\PiezoSine_Images_140131_F3_C1_9\\extras\n",
        ".\\140131\\140131_F3_C1\\Sweep_Images_140131_F3_C1_1"
       ]
      },
      {
       "output_type": "stream",
       "stream": "stdout",
       "text": [
        "\n",
        ".\\140131\\140131_F3_C1\\Sweep_Images_140131_F3_C1_1\\extras\n",
        ".\\140131\\140131_F3_C1\\Sweep_Images_140131_F3_C1_10\n",
        ".\\140131\\140131_F3_C1\\Sweep_Images_140131_F3_C1_10\\extras\n",
        ".\\140131\\140131_F3_C1\\Sweep_Images_140131_F3_C1_11\n",
        ".\\140131\\140131_F3_C1\\Sweep_Images_140131_F3_C1_11\\extras"
       ]
      },
      {
       "output_type": "stream",
       "stream": "stdout",
       "text": [
        "\n",
        ".\\140131\\140131_F3_C1\\Sweep_Images_140131_F3_C1_12\n",
        ".\\140131\\140131_F3_C1\\Sweep_Images_140131_F3_C1_12\\extras\n",
        ".\\140131\\140131_F3_C1\\Sweep_Images_140131_F3_C1_2"
       ]
      },
      {
       "output_type": "stream",
       "stream": "stdout",
       "text": [
        "\n",
        ".\\140131\\140131_F3_C1\\Sweep_Images_140131_F3_C1_2\\extras\n",
        ".\\140131\\140131_F3_C1\\Sweep_Images_140131_F3_C1_3\n",
        ".\\140131\\140131_F3_C1\\Sweep_Images_140131_F3_C1_3\\extras\n",
        ".\\140131\\140131_F3_C1\\Sweep_Images_140131_F3_C1_4"
       ]
      },
      {
       "output_type": "stream",
       "stream": "stdout",
       "text": [
        "\n",
        ".\\140131\\140131_F3_C1\\Sweep_Images_140131_F3_C1_4\\extras\n",
        ".\\140131\\140131_F3_C1\\Sweep_Images_140131_F3_C1_5\n",
        ".\\140131\\140131_F3_C1\\Sweep_Images_140131_F3_C1_5\\extras\n",
        ".\\140131\\140131_F3_C1\\Sweep_Images_140131_F3_C1_6"
       ]
      },
      {
       "output_type": "stream",
       "stream": "stdout",
       "text": [
        "\n",
        ".\\140131\\140131_F3_C1\\Sweep_Images_140131_F3_C1_6\\extras\n",
        ".\\140131\\140131_F3_C1\\Sweep_Images_140131_F3_C1_7\n",
        ".\\140131\\140131_F3_C1\\Sweep_Images_140131_F3_C1_7\\extras\n",
        ".\\140131\\140131_F3_C1\\Sweep_Images_140131_F3_C1_8"
       ]
      },
      {
       "output_type": "stream",
       "stream": "stdout",
       "text": [
        "\n",
        ".\\140131\\140131_F3_C1\\Sweep_Images_140131_F3_C1_8\\extras\n",
        ".\\140131\\140131_F3_C1\\Sweep_Images_140131_F3_C1_9\n",
        ".\\140131\\140131_F3_C1\\Sweep_Images_140131_F3_C1_9\\extras\n",
        ".\\140131\\140131_F3_C1\\VoltagePlateau_Images_140131_F3_C1_1"
       ]
      },
      {
       "output_type": "stream",
       "stream": "stdout",
       "text": [
        "\n",
        ".\\140131\\140131_F3_C1\\VoltagePlateau_Images_140131_F3_C1_1\\extras\n",
        ".\\140131\\140131_F3_C1\\VoltagePlateau_Images_140131_F3_C1_2\n",
        ".\\140131\\140131_F3_C1\\VoltagePlateau_Images_140131_F3_C1_2\\extras\n",
        ".\\140131\\140131_F3_C1\\VoltagePlateau_Images_140131_F3_C1_3"
       ]
      },
      {
       "output_type": "stream",
       "stream": "stdout",
       "text": [
        "\n",
        ".\\140131\\140131_F3_C1\\VoltagePlateau_Images_140131_F3_C1_3\\extras\n",
        ".\\140131\\140131_F3_C1\\VoltagePlateau_Images_140131_F3_C1_4\n",
        ".\\140131\\140131_F3_C1\\VoltagePlateau_Images_140131_F3_C1_4\\extras\n",
        ".\\140131\\140131_F3_C1\\VoltagePlateau_Images_140131_F3_C1_5"
       ]
      },
      {
       "output_type": "stream",
       "stream": "stdout",
       "text": [
        "\n",
        ".\\140131\\140131_F3_C1\\VoltagePlateau_Images_140131_F3_C1_5\\extras\n",
        ".\\140131\\140131_F3_C1\\VoltagePlateau_Images_140131_F3_C1_6\n",
        ".\\140131\\140131_F3_C1\\VoltagePlateau_Images_140131_F3_C1_6\\extras\n",
        ".\\140202\n",
        ".\\140202\\140202_F0_C0\n",
        ".\\140203\n",
        ".\\140203\\140203_F0_C0\n",
        ".\\140205\n",
        ".\\140205\\140205_F0_C0"
       ]
      },
      {
       "output_type": "stream",
       "stream": "stdout",
       "text": [
        "\n",
        ".\\140205\\140205_F0_C0\\PiezoSine_Images_140205_F0_C0_167\n",
        ".\\140205\\140205_F0_C0\\PiezoSine_Images_140205_F0_C0_168\n",
        ".\\140205\\140205_F0_C0\\PiezoSine_Images_140205_F0_C0_169\n",
        ".\\140205\\140205_F0_C0\\PiezoSine_Images_140205_F0_C0_170\n",
        ".\\140205\\140205_F0_C0\\PiezoSine_Images_140205_F0_C0_171\n",
        ".\\140205\\140205_F0_C0\\PiezoSine_Images_140205_F0_C0_172"
       ]
      },
      {
       "output_type": "stream",
       "stream": "stdout",
       "text": [
        "\n",
        ".\\140205\\140205_F0_C0\\PiezoSine_Images_140205_F0_C0_173\n",
        ".\\140205\\140205_F0_C0\\PiezoSine_Images_140205_F0_C0_174\n",
        ".\\140205\\140205_F0_C0\\PiezoSine_Images_140205_F0_C0_175\n",
        ".\\140205\\140205_F0_C0\\PiezoSine_Images_140205_F0_C0_176\n",
        ".\\140205\\140205_F0_C0\\Sweep_Images_140205_F0_C0_1"
       ]
      },
      {
       "output_type": "stream",
       "stream": "stdout",
       "text": [
        "\n",
        ".\\140205\\140205_F0_C1\n",
        ".\\140205\\140205_F0_C1\\PiezoSine_Images_140205_F0_C1_104\n",
        ".\\140205\\140205_F0_C1\\PiezoSine_Images_140205_F0_C1_105\n",
        ".\\140205\\140205_F0_C1\\PiezoSine_Images_140205_F0_C1_106\n",
        ".\\140205\\140205_F0_C1\\PiezoSine_Images_140205_F0_C1_107\n",
        ".\\140205\\140205_F0_C1\\PiezoSine_Images_140205_F0_C1_110\n",
        ".\\140205\\140205_F0_C1\\PiezoSine_Images_140205_F0_C1_111\n",
        ".\\140205\\140205_F1_C1\n",
        ".\\140205\\140205_F1_C1\\Sweep_Images_140205_F1_C1_1"
       ]
      },
      {
       "output_type": "stream",
       "stream": "stdout",
       "text": [
        "\n",
        ".\\140205\\140205_F1_C1\\Sweep_Images_140205_F1_C1_1\\extras\n",
        ".\\140205\\140205_F1_C1\\Sweep_Images_140205_F1_C1_2\n",
        ".\\140205\\140205_F1_C1\\Sweep_Images_140205_F1_C1_2\\extras"
       ]
      },
      {
       "output_type": "stream",
       "stream": "stdout",
       "text": [
        "\n",
        ".\\140205\\140205_F1_C1\\Sweep_Images_140205_F1_C1_3"
       ]
      },
      {
       "output_type": "stream",
       "stream": "stdout",
       "text": [
        "\n",
        ".\\140205\\140205_F1_C1\\Sweep_Images_140205_F1_C1_3\\extras\n",
        ".\\140205\\140205_F1_C1\\VoltagePlateau_Images_140205_F1_C1_1\n",
        ".\\140205\\140205_F1_C1\\VoltagePlateau_Images_140205_F1_C1_1\\extras\n",
        ".\\140205\\140205_F1_C1\\VoltagePlateau_Images_140205_F1_C1_2"
       ]
      },
      {
       "output_type": "stream",
       "stream": "stdout",
       "text": [
        "\n",
        ".\\140205\\140205_F1_C1\\VoltagePlateau_Images_140205_F1_C1_2\\extras\n",
        ".\\140205\\140205_F1_C1\\VoltagePlateau_Images_140205_F1_C1_3\n",
        ".\\140205\\140205_F1_C1\\VoltagePlateau_Images_140205_F1_C1_3\\extras\n",
        ".\\140205\\140205_F1_C1\\VoltagePlateau_Images_140205_F1_C1_4"
       ]
      },
      {
       "output_type": "stream",
       "stream": "stdout",
       "text": [
        "\n",
        ".\\140205\\140205_F1_C1\\VoltagePlateau_Images_140205_F1_C1_4\\extras\n",
        ".\\140205\\140205_F1_C1\\VoltagePlateau_Images_140205_F1_C1_5\n",
        ".\\140205\\140205_F1_C1\\VoltagePlateau_Images_140205_F1_C1_5\\extras\n",
        ".\\140205\\140205_F1_C1\\VoltagePlateau_Images_140205_F1_C1_6"
       ]
      },
      {
       "output_type": "stream",
       "stream": "stdout",
       "text": [
        "\n",
        ".\\140205\\140205_F1_C1\\VoltagePlateau_Images_140205_F1_C1_6\\extras\n",
        ".\\140206\n",
        ".\\140206\\140206_F1_C1\n",
        ".\\140206\\140206_F1_C1\\CurrentStep_Images_140206_F1_C1_1\n",
        ".\\140206\\140206_F1_C1\\CurrentStep_Images_140206_F1_C1_1\\extras\n",
        ".\\140206\\140206_F1_C1\\CurrentStep_Images_140206_F1_C1_10"
       ]
      },
      {
       "output_type": "stream",
       "stream": "stdout",
       "text": [
        "\n",
        ".\\140206\\140206_F1_C1\\CurrentStep_Images_140206_F1_C1_11\n",
        ".\\140206\\140206_F1_C1\\CurrentStep_Images_140206_F1_C1_12"
       ]
      },
      {
       "output_type": "stream",
       "stream": "stdout",
       "text": [
        "\n",
        ".\\140206\\140206_F1_C1\\CurrentStep_Images_140206_F1_C1_13\n",
        ".\\140206\\140206_F1_C1\\CurrentStep_Images_140206_F1_C1_13\\extras\n",
        ".\\140206\\140206_F1_C1\\CurrentStep_Images_140206_F1_C1_14"
       ]
      },
      {
       "output_type": "stream",
       "stream": "stdout",
       "text": [
        "\n",
        ".\\140206\\140206_F1_C1\\CurrentStep_Images_140206_F1_C1_14\\extras\n",
        ".\\140206\\140206_F1_C1\\CurrentStep_Images_140206_F1_C1_15\n",
        ".\\140206\\140206_F1_C1\\CurrentStep_Images_140206_F1_C1_15\\extras\n",
        ".\\140206\\140206_F1_C1\\CurrentStep_Images_140206_F1_C1_16"
       ]
      },
      {
       "output_type": "stream",
       "stream": "stdout",
       "text": [
        "\n",
        ".\\140206\\140206_F1_C1\\CurrentStep_Images_140206_F1_C1_16\\extras\n",
        ".\\140206\\140206_F1_C1\\CurrentStep_Images_140206_F1_C1_17\n",
        ".\\140206\\140206_F1_C1\\CurrentStep_Images_140206_F1_C1_18"
       ]
      },
      {
       "output_type": "stream",
       "stream": "stdout",
       "text": [
        "\n",
        ".\\140206\\140206_F1_C1\\CurrentStep_Images_140206_F1_C1_19\n",
        ".\\140206\\140206_F1_C1\\CurrentStep_Images_140206_F1_C1_19\\extras\n",
        ".\\140206\\140206_F1_C1\\CurrentStep_Images_140206_F1_C1_2"
       ]
      },
      {
       "output_type": "stream",
       "stream": "stdout",
       "text": [
        "\n",
        ".\\140206\\140206_F1_C1\\CurrentStep_Images_140206_F1_C1_2\\extras\n",
        ".\\140206\\140206_F1_C1\\CurrentStep_Images_140206_F1_C1_20\n",
        ".\\140206\\140206_F1_C1\\CurrentStep_Images_140206_F1_C1_20\\extras\n",
        ".\\140206\\140206_F1_C1\\CurrentStep_Images_140206_F1_C1_3"
       ]
      },
      {
       "output_type": "stream",
       "stream": "stdout",
       "text": [
        "\n",
        ".\\140206\\140206_F1_C1\\CurrentStep_Images_140206_F1_C1_3\\extras\n",
        ".\\140206\\140206_F1_C1\\CurrentStep_Images_140206_F1_C1_4\n",
        ".\\140206\\140206_F1_C1\\CurrentStep_Images_140206_F1_C1_4\\extras\n",
        ".\\140206\\140206_F1_C1\\CurrentStep_Images_140206_F1_C1_5"
       ]
      },
      {
       "output_type": "stream",
       "stream": "stdout",
       "text": [
        "\n",
        ".\\140206\\140206_F1_C1\\CurrentStep_Images_140206_F1_C1_6\n",
        ".\\140206\\140206_F1_C1\\CurrentStep_Images_140206_F1_C1_7"
       ]
      },
      {
       "output_type": "stream",
       "stream": "stdout",
       "text": [
        "\n",
        ".\\140206\\140206_F1_C1\\CurrentStep_Images_140206_F1_C1_7\\extras\n",
        ".\\140206\\140206_F1_C1\\CurrentStep_Images_140206_F1_C1_8\n",
        ".\\140206\\140206_F1_C1\\CurrentStep_Images_140206_F1_C1_8\\extras\n",
        ".\\140206\\140206_F1_C1\\CurrentStep_Images_140206_F1_C1_9"
       ]
      },
      {
       "output_type": "stream",
       "stream": "stdout",
       "text": [
        "\n",
        ".\\140206\\140206_F1_C1\\Sweep_Images_140206_F1_C1_1\n",
        ".\\140206\\140206_F1_C1\\Sweep_Images_140206_F1_C1_1\\extras\n",
        ".\\140206\\140206_F1_C1\\Sweep_Images_140206_F1_C1_2"
       ]
      },
      {
       "output_type": "stream",
       "stream": "stdout",
       "text": [
        "\n",
        ".\\140206\\140206_F1_C1\\Sweep_Images_140206_F1_C1_2\\extras\n",
        ".\\140206\\140206_F1_C1\\Sweep_Images_140206_F1_C1_3"
       ]
      },
      {
       "output_type": "stream",
       "stream": "stdout",
       "text": [
        "\n",
        ".\\140206\\140206_F1_C1\\Sweep_Images_140206_F1_C1_3\\extras\n",
        ".\\140206\\140206_F1_C1\\VoltagePlateau_Images_140206_F1_C1_1\n",
        ".\\140206\\140206_F1_C1\\VoltagePlateau_Images_140206_F1_C1_1\\extras\n",
        ".\\140206\\140206_F1_C1\\VoltagePlateau_Images_140206_F1_C1_2"
       ]
      },
      {
       "output_type": "stream",
       "stream": "stdout",
       "text": [
        "\n",
        ".\\140206\\140206_F1_C1\\VoltagePlateau_Images_140206_F1_C1_2\\extras\n",
        ".\\140206\\140206_F1_C1\\VoltagePlateau_Images_140206_F1_C1_3\n",
        ".\\140206\\140206_F1_C1\\VoltagePlateau_Images_140206_F1_C1_3\\extras\n",
        ".\\140206\\140206_F1_C1\\VoltagePlateau_Images_140206_F1_C1_4"
       ]
      },
      {
       "output_type": "stream",
       "stream": "stdout",
       "text": [
        "\n",
        ".\\140206\\140206_F1_C1\\VoltagePlateau_Images_140206_F1_C1_4\\extras\n",
        ".\\140206\\140206_F1_C1\\VoltagePlateau_Images_140206_F1_C1_5\n",
        ".\\140206\\140206_F1_C1\\VoltagePlateau_Images_140206_F1_C1_5\\extras\n",
        ".\\140206\\140206_F1_C1\\VoltagePlateau_Images_140206_F1_C1_6"
       ]
      },
      {
       "output_type": "stream",
       "stream": "stdout",
       "text": [
        "\n",
        ".\\140206\\140206_F1_C1\\VoltagePlateau_Images_140206_F1_C1_6\\extras\n",
        ".\\140206\\140206_F2_C1\n",
        ".\\140206\\140206_F2_C1\\Sweep_Images_140206_F2_C1_1"
       ]
      },
      {
       "output_type": "stream",
       "stream": "stdout",
       "text": [
        "\n",
        ".\\140206\\140206_F2_C1\\Sweep_Images_140206_F2_C1_1\\extras\n",
        ".\\140206\\140206_F2_C1\\Sweep_Images_140206_F2_C1_2"
       ]
      },
      {
       "output_type": "stream",
       "stream": "stdout",
       "text": [
        "\n",
        ".\\140206\\140206_F2_C1\\Sweep_Images_140206_F2_C1_2\\extras\n",
        ".\\140206\\140206_F3_C1\n",
        ".\\140206\\140206_F3_C1\\Sweep_Images_140206_F3_C1_1"
       ]
      },
      {
       "output_type": "stream",
       "stream": "stdout",
       "text": [
        "\n",
        ".\\140206\\140206_F3_C1\\Sweep_Images_140206_F3_C1_1\\extras\n",
        ".\\140206\\140206_F3_C1\\Sweep_Images_140206_F3_C1_2"
       ]
      },
      {
       "output_type": "stream",
       "stream": "stdout",
       "text": [
        "\n",
        ".\\140207\n",
        ".\\140207\\140207_F1_C1\n",
        ".\\140207\\140207_F1_C1\\Sweep_Images_140207_F1_C1_1"
       ]
      },
      {
       "output_type": "stream",
       "stream": "stdout",
       "text": [
        "\n",
        ".\\140207\\140207_F1_C1\\Sweep_Images_140207_F1_C1_1\\extras\n",
        ".\\140207\\140207_F1_C1\\Sweep_Images_140207_F1_C1_2"
       ]
      },
      {
       "output_type": "stream",
       "stream": "stdout",
       "text": [
        "\n",
        ".\\140207\\140207_F1_C1\\Sweep_Images_140207_F1_C1_2\\extras\n",
        ".\\140207\\140207_F1_C2\n",
        ".\\140207\\140207_F1_C2\\Sweep_Images_140207_F1_C2_1"
       ]
      },
      {
       "output_type": "stream",
       "stream": "stdout",
       "text": [
        "\n",
        ".\\140207\\140207_F1_C2\\Sweep_Images_140207_F1_C2_1\\extras\n",
        ".\\140207\\140207_F1_C2\\Sweep_Images_140207_F1_C2_2"
       ]
      },
      {
       "output_type": "stream",
       "stream": "stdout",
       "text": [
        "\n",
        ".\\140207\\140207_F1_C2\\Sweep_Images_140207_F1_C2_2\\extras\n",
        ".\\140207\\140207_F1_C2\\VoltagePlateau_Images_140207_F1_C2_1"
       ]
      },
      {
       "output_type": "stream",
       "stream": "stdout",
       "text": [
        "\n",
        ".\\140207\\140207_F1_C2\\VoltagePlateau_Images_140207_F1_C2_1\\extras\n",
        ".\\140207\\140207_F1_C2\\VoltagePlateau_Images_140207_F1_C2_2"
       ]
      },
      {
       "output_type": "stream",
       "stream": "stdout",
       "text": [
        "\n",
        ".\\140207\\140207_F1_C2\\VoltagePlateau_Images_140207_F1_C2_2\\extras\n",
        ".\\140207\\140207_F1_C2\\VoltagePlateau_Images_140207_F1_C2_3"
       ]
      },
      {
       "output_type": "stream",
       "stream": "stdout",
       "text": [
        "\n",
        ".\\140207\\140207_F1_C2\\VoltagePlateau_Images_140207_F1_C2_3\\extras\n",
        ".\\140207\\140207_F1_C2\\VoltagePlateau_Images_140207_F1_C2_4"
       ]
      },
      {
       "output_type": "stream",
       "stream": "stdout",
       "text": [
        "\n",
        ".\\140207\\140207_F1_C2\\VoltagePlateau_Images_140207_F1_C2_4\\extras\n",
        ".\\140207\\140207_F1_C2\\VoltagePlateau_Images_140207_F1_C2_5\n",
        ".\\140207\\140207_F1_C2\\VoltagePlateau_Images_140207_F1_C2_5\\extras\n",
        ".\\140207\\140207_F1_C2\\VoltagePlateau_Images_140207_F1_C2_6"
       ]
      },
      {
       "output_type": "stream",
       "stream": "stdout",
       "text": [
        "\n",
        ".\\140207\\140207_F1_C2\\VoltagePlateau_Images_140207_F1_C2_6\\extras\n",
        ".\\140207\\140207_F1_C2\\VoltagePlateau_Images_140207_F1_C2_7"
       ]
      },
      {
       "output_type": "stream",
       "stream": "stdout",
       "text": [
        "\n",
        ".\\140207\\140207_F1_C2\\VoltagePlateau_Images_140207_F1_C2_7\\extras\n",
        ".\\140207\\140207_F1_C2\\VoltagePlateau_Images_140207_F1_C2_8\n",
        ".\\140207\\140207_F1_C2\\VoltagePlateau_Images_140207_F1_C2_8\\extras\n",
        ".\\140207\\140207_F1_C2\\VoltagePlateau_Images_140207_F1_C2_9\n",
        ".\\140207\\140207_F1_C3\n",
        ".\\140207\\140207_F1_C3\\Sweep_Images_140207_F1_C3_1"
       ]
      },
      {
       "output_type": "stream",
       "stream": "stdout",
       "text": [
        "\n",
        ".\\140212\n",
        ".\\140212\\140212_F1_C1\n",
        ".\\140212\\140212_F1_C2\n",
        ".\\140214\n",
        ".\\140214\\140214_F1_C1"
       ]
      },
      {
       "output_type": "stream",
       "stream": "stdout",
       "text": [
        "\n",
        ".\\140214\\140214_F2_C1\n",
        ".\\140218\n",
        ".\\140218\\140218_F1_C1\n",
        ".\\140218\\140218_F1_C2\n",
        ".\\140218\\140218_F2_C1\n",
        ".\\140218\\140218_F2_C2\n",
        ".\\140218\\140218_F2_C3\n",
        ".\\140218\\140218_F3_C1"
       ]
      },
      {
       "output_type": "stream",
       "stream": "stdout",
       "text": [
        "\n",
        ".\\140219\n",
        ".\\140219\\140219_F1_C1\n",
        ".\\140219\\140219_F2_C1\n",
        ".\\140219\\140219_F3_C1\n",
        ".\\140219\\140219_F3_C2\n",
        ".\\140219\\140219_F3_C3\n",
        ".\\140219\\140219_F3_C4"
       ]
      },
      {
       "output_type": "stream",
       "stream": "stdout",
       "text": [
        "\n",
        ".\\140219\\140219_F4_C1\n",
        ".\\140219\\140219_F4_C2\n",
        ".\\140224\n",
        ".\\140224\\140224_F1_C1\n",
        ".\\140224\\140224_F2_C1\n",
        ".\\140224\\140224_F2_C2\n",
        ".\\140224\\140224_F2_C3\n",
        ".\\140225\n",
        ".\\140225\\140225_F1_C1\n",
        ".\\140225\\140225_F2_C1\n",
        ".\\140225\\140225_F2_C2\n",
        ".\\140225\\140225_F2_C3\n",
        ".\\140226\n",
        ".\\140226\\140226_F1_C1\n",
        ".\\140226\\140226_F1_C2\n",
        ".\\140226\\140226_F2_C1\n",
        ".\\140226\\140226_F3_C1\n",
        ".\\140226\\140226_F3_C2\n",
        ".\\140311\n",
        ".\\140311\\140311_F1_C1\n",
        ".\\140313\n",
        ".\\140313\\140313_F1_C1\n",
        ".\\140403\n",
        ".\\140403\\140403_F1_C1\n",
        ".\\140403\\140403_F1_C2\n",
        ".\\140409\n",
        ".\\140409\\140409_F1_C1\n",
        ".\\140415\n",
        ".\\140415\\140415_F1_C1\n",
        ".\\140417\n",
        ".\\140417\\140417_F1_C1"
       ]
      },
      {
       "output_type": "stream",
       "stream": "stdout",
       "text": [
        "\n",
        ".\\140418\n",
        ".\\140418\\140418_F1_C1\n",
        ".\\140419\n",
        ".\\140419\\140419_F1_C1\n",
        ".\\140421\n",
        ".\\140421\\140421_F1_C1\n",
        ".\\140422\n",
        ".\\140422\\140422_F1_C1\n",
        ".\\140423\n",
        ".\\140423\\140423_F1_C1\n",
        ".\\140424\n",
        ".\\140424\\140424_F1_C1"
       ]
      },
      {
       "output_type": "stream",
       "stream": "stdout",
       "text": [
        "\n",
        ".\\140424\\140424_F1_C2\n",
        ".\\140424\\140424_F1_C3\n",
        ".\\140424\\140424_F2_C1\n",
        ".\\140428\n",
        ".\\140428\\140428_F1_C1\n",
        ".\\Archive\n",
        ".\\Archive\\01-Jul-2013\n",
        ".\\Archive\\01-Jul-2013\\01-Jul-2013_F1_C1"
       ]
      },
      {
       "output_type": "stream",
       "stream": "stdout",
       "text": [
        "\n",
        ".\\Archive\\01-Mar-2013\n",
        ".\\Archive\\01-Mar-2013\\01-Mar-2013_F0_C0\n",
        ".\\Archive\\02-May-2013\n",
        ".\\Archive\\02-May-2013\\02-May-2013_F1_C1\n",
        ".\\Archive\\03-Apr-2013\n",
        ".\\Archive\\03-Apr-2013\\03-Apr-2013_F1_C1\n",
        ".\\Archive\\04-Apr-2013\n",
        ".\\Archive\\04-Apr-2013\\04-Apr-2013_F0_C0\n",
        ".\\Archive\\04-Apr-2013\\04-Apr-2013_F1_C1\n",
        ".\\Archive\\04-Apr-2013\\04-Apr-2013_F2_C1\n",
        ".\\Archive\\04-Jan-2013\n",
        ".\\Archive\\04-Jan-2013\\04-Jan-2013_F0_C0\n",
        ".\\Archive\\04-Jun-2013\n",
        ".\\Archive\\04-Jun-2013\\04-Jun-2013_F1_C2\n",
        ".\\Archive\\04-Jun-2013\\04-Jun-2013_F1_C3\n",
        ".\\Archive\\05-Apr-2013\n",
        ".\\Archive\\05-Apr-2013\\05-Apr-2013_F2_C1"
       ]
      },
      {
       "output_type": "stream",
       "stream": "stdout",
       "text": [
        "\n",
        ".\\Archive\\07-Jun-2013\n",
        ".\\Archive\\07-Jun-2013\\07-Jun-2013_F1_C1\n",
        ".\\Archive\\07-Jun-2013\\07-Jun-2013_F2_C1\n",
        ".\\Archive\\07-Jun-2013\\07-Jun-2013_F2_C2\n",
        ".\\Archive\\07-Jun-2013\\07-Jun-2013_F3_C1\n",
        ".\\Archive\\07-May-2013\n",
        ".\\Archive\\07-May-2013\\07-May-2013_F1_C1\n",
        ".\\Archive\\09-Apr-2013\n",
        ".\\Archive\\09-Apr-2013\\09-Apr-2013_F1_C1\n",
        ".\\Archive\\10-Apr-2013\n",
        ".\\Archive\\10-Apr-2013\\10-Apr-2013_F1_C1"
       ]
      },
      {
       "output_type": "stream",
       "stream": "stdout",
       "text": [
        "\n",
        ".\\Archive\\10-Apr-2013\\10-Apr-2013_F2_C1\n",
        ".\\Archive\\10-Apr-2013\\10-Apr-2013_F3_C1\n",
        ".\\Archive\\10-May-2013\n",
        ".\\Archive\\10-May-2013\\10-May-2013_F1_C1\n",
        ".\\Archive\\11-Dec-2012\n",
        ".\\Archive\\11-Dec-2012\\11-Dec-2012_F0_C0\n",
        ".\\Archive\\130719\n",
        ".\\Archive\\130719\\130719_F0_C0"
       ]
      },
      {
       "output_type": "stream",
       "stream": "stdout",
       "text": [
        "\n",
        ".\\Archive\\130719\\130719_F0_C1\n",
        ".\\Archive\\130719\\130719_F0_C2"
       ]
      },
      {
       "output_type": "stream",
       "stream": "stdout",
       "text": [
        "\n",
        ".\\Archive\\14-Feb-2013\n",
        ".\\Archive\\14-Feb-2013\\14-Feb-2013_F0_C0\n",
        ".\\Archive\\15-Feb-2013\n",
        ".\\Archive\\15-Feb-2013\\15-Feb-2013_F0_C0\n",
        ".\\Archive\\16-Apr-2013\n",
        ".\\Archive\\16-Apr-2013\\16-Apr-2013_F1_C1\n",
        ".\\Archive\\16-May-2013\n",
        ".\\Archive\\16-May-2013\\16-May-2013_F1_C1\n",
        ".\\Archive\\16-May-2013\\16-May-2013_F2_C2\n",
        ".\\Archive\\17-Apr-2013\n",
        ".\\Archive\\17-Apr-2013\\17-Apr-2013_F1_C1\n",
        ".\\Archive\\17-Apr-2013\\17-Apr-2013_F2_C10\n",
        ".\\Archive\\18-Apr-2013\n",
        ".\\Archive\\18-Apr-2013\\18-Apr-2013_F1_C1\n",
        ".\\Archive\\20-Jan-2013\n",
        ".\\Archive\\20-Jan-2013\\20-Jan-2013_F0_C0\n",
        ".\\Archive\\20-May-2013\n",
        ".\\Archive\\20-May-2013\\20-May-2013_F1_C1"
       ]
      },
      {
       "output_type": "stream",
       "stream": "stdout",
       "text": [
        "\n",
        ".\\Archive\\22-Feb-2013\n",
        ".\\Archive\\22-Feb-2013\\22-Feb-2013_F0_C0\n",
        ".\\Archive\\22-May-2013\n",
        ".\\Archive\\22-May-2013\\22-May-2013_F1_C1\n",
        ".\\Archive\\22-May-2013\\22-May-2013_F1_C2\n",
        ".\\Archive\\22-May-2013\\22-May-2013_F2_C1\n",
        ".\\Archive\\22-May-2013\\22-May-2013_F2_C2\n",
        ".\\Archive\\23-Apr-2013\n",
        ".\\Archive\\23-Apr-2013\\23-Apr-2013_F1_C1"
       ]
      },
      {
       "output_type": "stream",
       "stream": "stdout",
       "text": [
        "\n",
        ".\\Archive\\23-Jan-2013\n",
        ".\\Archive\\23-Jan-2013\\23-Jan-2013_F0_C0\n",
        ".\\Archive\\23-Jan-2013\\23-Jan-2013_F0_C0\\archive"
       ]
      },
      {
       "output_type": "stream",
       "stream": "stdout",
       "text": [
        "\n",
        ".\\Archive\\23-Jan-2013\\23-Jan-2013_F0_C0\\data\n",
        ".\\Archive\\23-Jan-2013\\23-Jan-2013_F0_C0\\figures\n",
        ".\\Archive\\24-Apr-2013\n",
        ".\\Archive\\24-Apr-2013\\24-Apr-2013_F1_C1\n",
        ".\\Archive\\24-Apr-2013\\24-Apr-2013_F1_C2\n",
        ".\\Archive\\24-Apr-2013\\24-Apr-2013_F1_C3\n",
        ".\\Archive\\24-May-2013\n",
        ".\\Archive\\24-May-2013\\24-May-2013_F1_C1\n",
        ".\\Archive\\24-May-2013\\24-May-2013_F2_C1\n",
        ".\\Archive\\25-Apr-2013\n",
        ".\\Archive\\25-Apr-2013\\25-Apr-2013_F1_C1\n",
        ".\\Archive\\25-Jun-2013\n",
        ".\\Archive\\25-Jun-2013\\25-Jun-2013_F1_C1\n",
        ".\\Archive\\25-Jun-2013\\25-Jun-2013_F2_C1\n",
        ".\\Archive\\25-Jun-2013\\25-Jun-2013_F3_C1"
       ]
      },
      {
       "output_type": "stream",
       "stream": "stdout",
       "text": [
        "\n",
        ".\\Archive\\25-Jun-2013\\25-Jun-2013_F4_C1\n",
        ".\\Archive\\25-May-2013\n",
        ".\\Archive\\25-May-2013\\25-May-2013_F1_C1\n",
        ".\\Archive\\25-May-2013\\25-May-2013_F1_C2"
       ]
      },
      {
       "output_type": "stream",
       "stream": "stdout",
       "text": [
        "\n",
        ".\\Archive\\26-Jun-2013\n",
        ".\\Archive\\26-Jun-2013\\26-Jun-2013_F1_C1\n",
        ".\\Archive\\26-Jun-2013\\26-Jun-2013_F2_C1\n",
        ".\\Archive\\26-Jun-2013\\26-Jun-2013_F3_C1\n",
        ".\\Archive\\27-Apr-2013\n",
        ".\\Archive\\27-Apr-2013\\27-Apr-2013_F1_C1\n",
        ".\\Archive\\27-Feb-2013\n",
        ".\\Archive\\27-Feb-2013\\27-Feb-2013_F0_C0\n",
        ".\\Archive\\27-May-2013\n",
        ".\\Archive\\27-May-2013\\27-May-2013_F1_C1\n",
        ".\\Archive\\28-Feb-2013\n",
        ".\\Archive\\28-Feb-2013\\28-Feb-2013_F0_C0\n",
        ".\\Archive\\28-Jun-2013\n",
        ".\\Archive\\28-Jun-2013\\28-Jun-2013_F1_C1"
       ]
      },
      {
       "output_type": "stream",
       "stream": "stdout",
       "text": [
        "\n",
        ".\\Archive\\28-May-2013\n",
        ".\\Archive\\28-May-2013\\28-May-2013_F1_C1\n",
        ".\\Archive\\30-Apr-2013\n",
        ".\\Archive\\30-Apr-2013\\30-Apr-2013_F1_C1\n"
       ]
      },
      {
       "metadata": {},
       "output_type": "pyout",
       "prompt_number": 3,
       "text": [
        "503"
       ]
      }
     ],
     "prompt_number": 3
    },
    {
     "cell_type": "code",
     "collapsed": false,
     "input": [
      "queue0 = copy.copy(queue)\n",
      "parameterdb = pd.DataFrame()\n",
      "\n",
      "while len(queue0) > 0: \n",
      "    csvfile = queue0.popleft()\n",
      "    pdb = pd.read_csv(csvfile)\n",
      "    pdb = pdb.rename(columns={'protocolName':'protocol'})\n",
      "    print 'Adding ' + csvfile + ': {},{}'.format(pdb.shape[0],pdb.shape[1])\n",
      "    pdb.timestamp = pdb.timestamp.apply(lambda d: parse(d))\n",
      "    parameterdb = pd.concat([parameterdb,pdb],axis=0,ignore_index=True)"
     ],
     "language": "python",
     "metadata": {},
     "outputs": [
      {
       "output_type": "stream",
       "stream": "stdout",
       "text": [
        "Adding .\\130729\\130729_F1_C1\\SealAndLeak_130729_F1_C1.csv: 5,21\n",
        "Adding .\\130729\\130729_F2_C1\\SealAndLeak_130729_F2_C1.csv: 3,21\n",
        "Adding .\\130729\\130729_F2_C1\\Sweep_130729_F2_C1.csv: 5,18\n",
        "Adding .\\130729\\130729_F2_C2\\SealAndLeak_130729_F2_C2.csv: 4,21\n",
        "Adding .\\130729\\130729_F2_C2\\Sweep_130729_F2_C2.csv: 10,18\n",
        "Adding .\\130730\\130730_F1_C1\\PiezoSine_130730_F1_C1.csv: 270,27\n",
        "Adding .\\130730\\130730_F1_C1\\PiezoStep_130730_F1_C1.csv: 20,24\n",
        "Adding .\\130730\\130730_F1_C1\\SealAndLeak_130730_F1_C1.csv: 7,21\n",
        "Adding .\\130730\\130730_F1_C1\\Sweep_130730_F1_C1.csv: 30,18"
       ]
      },
      {
       "output_type": "stream",
       "stream": "stdout",
       "text": [
        "\n",
        "Adding .\\130730\\130730_F2_C1\\PiezoSine_130730_F2_C1.csv: 180,27\n",
        "Adding .\\130730\\130730_F2_C1\\PiezoStep_130730_F2_C1.csv: 47,24\n",
        "Adding .\\130730\\130730_F2_C1\\SealAndLeak_130730_F2_C1.csv: 4,21\n",
        "Adding .\\130730\\130730_F2_C1\\Sweep_130730_F2_C1.csv: 18,18\n",
        "Adding .\\130731\\130731_F1_C1\\PiezoSine_130731_F1_C1.csv: 45,28\n",
        "Adding .\\130731\\130731_F1_C1\\PiezoSine_Params_130731_F1_C1_1.csv: 1,26"
       ]
      },
      {
       "output_type": "stream",
       "stream": "stdout",
       "text": [
        "\n",
        "Adding .\\130731\\130731_F1_C1\\PiezoSine_Params_130731_F1_C1_10.csv: 1,26\n",
        "Adding .\\130731\\130731_F1_C1\\PiezoSine_Params_130731_F1_C1_11.csv: 1,26\n",
        "Adding .\\130731\\130731_F1_C1\\PiezoSine_Params_130731_F1_C1_12.csv: 1,26\n",
        "Adding .\\130731\\130731_F1_C1\\PiezoSine_Params_130731_F1_C1_13.csv: 1,26\n",
        "Adding .\\130731\\130731_F1_C1\\PiezoSine_Params_130731_F1_C1_14.csv: 1,26\n",
        "Adding .\\130731\\130731_F1_C1\\PiezoSine_Params_130731_F1_C1_15.csv: 1,26\n",
        "Adding .\\130731\\130731_F1_C1\\PiezoSine_Params_130731_F1_C1_16.csv: 1,26\n",
        "Adding .\\130731\\130731_F1_C1\\PiezoSine_Params_130731_F1_C1_17.csv: 1,26\n",
        "Adding .\\130731\\130731_F1_C1\\PiezoSine_Params_130731_F1_C1_18.csv: 1,26\n",
        "Adding .\\130731\\130731_F1_C1\\PiezoSine_Params_130731_F1_C1_19.csv: 1,26\n",
        "Adding .\\130731\\130731_F1_C1\\PiezoSine_Params_130731_F1_C1_2.csv: 1,26"
       ]
      },
      {
       "output_type": "stream",
       "stream": "stdout",
       "text": [
        "\n",
        "Adding .\\130731\\130731_F1_C1\\PiezoSine_Params_130731_F1_C1_20.csv: 1,26\n",
        "Adding .\\130731\\130731_F1_C1\\PiezoSine_Params_130731_F1_C1_21.csv: 1,26\n",
        "Adding .\\130731\\130731_F1_C1\\PiezoSine_Params_130731_F1_C1_22.csv: 1,26\n",
        "Adding .\\130731\\130731_F1_C1\\PiezoSine_Params_130731_F1_C1_23.csv: 1,26\n",
        "Adding .\\130731\\130731_F1_C1\\PiezoSine_Params_130731_F1_C1_24.csv: 1,26\n",
        "Adding .\\130731\\130731_F1_C1\\PiezoSine_Params_130731_F1_C1_25.csv: 1,26"
       ]
      },
      {
       "output_type": "stream",
       "stream": "stdout",
       "text": [
        "\n",
        "Adding .\\130731\\130731_F1_C1\\PiezoSine_Params_130731_F1_C1_26.csv: 1,26\n",
        "Adding .\\130731\\130731_F1_C1\\PiezoSine_Params_130731_F1_C1_27.csv: 1,26\n",
        "Adding .\\130731\\130731_F1_C1\\PiezoSine_Params_130731_F1_C1_28.csv: 1,26\n",
        "Adding .\\130731\\130731_F1_C1\\PiezoSine_Params_130731_F1_C1_29.csv: 1,26\n",
        "Adding .\\130731\\130731_F1_C1\\PiezoSine_Params_130731_F1_C1_3.csv: 1,26\n",
        "Adding .\\130731\\130731_F1_C1\\PiezoSine_Params_130731_F1_C1_30.csv: 1,26\n",
        "Adding .\\130731\\130731_F1_C1\\PiezoSine_Params_130731_F1_C1_31.csv: 1,26\n",
        "Adding .\\130731\\130731_F1_C1\\PiezoSine_Params_130731_F1_C1_32.csv: 1,26\n",
        "Adding .\\130731\\130731_F1_C1\\PiezoSine_Params_130731_F1_C1_33.csv: 1,26\n",
        "Adding .\\130731\\130731_F1_C1\\PiezoSine_Params_130731_F1_C1_34.csv: 1,26\n",
        "Adding .\\130731\\130731_F1_C1\\PiezoSine_Params_130731_F1_C1_35.csv: 1,26\n",
        "Adding .\\130731\\130731_F1_C1\\PiezoSine_Params_130731_F1_C1_36.csv: 1,26"
       ]
      },
      {
       "output_type": "stream",
       "stream": "stdout",
       "text": [
        "\n",
        "Adding .\\130731\\130731_F1_C1\\PiezoSine_Params_130731_F1_C1_37.csv: 1,26\n",
        "Adding .\\130731\\130731_F1_C1\\PiezoSine_Params_130731_F1_C1_38.csv: 1,26\n",
        "Adding .\\130731\\130731_F1_C1\\PiezoSine_Params_130731_F1_C1_39.csv: 1,26\n",
        "Adding .\\130731\\130731_F1_C1\\PiezoSine_Params_130731_F1_C1_4.csv: 1,26\n",
        "Adding .\\130731\\130731_F1_C1\\PiezoSine_Params_130731_F1_C1_40.csv: 1,26\n",
        "Adding .\\130731\\130731_F1_C1\\PiezoSine_Params_130731_F1_C1_41.csv: 1,26\n",
        "Adding .\\130731\\130731_F1_C1\\PiezoSine_Params_130731_F1_C1_42.csv: 1,26\n",
        "Adding .\\130731\\130731_F1_C1\\PiezoSine_Params_130731_F1_C1_43.csv: 1,26\n",
        "Adding .\\130731\\130731_F1_C1\\PiezoSine_Params_130731_F1_C1_44.csv: 1,26\n",
        "Adding .\\130731\\130731_F1_C1\\PiezoSine_Params_130731_F1_C1_45.csv: 1,26\n",
        "Adding .\\130731\\130731_F1_C1\\PiezoSine_Params_130731_F1_C1_5.csv: 1,26\n",
        "Adding .\\130731\\130731_F1_C1\\PiezoSine_Params_130731_F1_C1_6.csv: 1,26"
       ]
      },
      {
       "output_type": "stream",
       "stream": "stdout",
       "text": [
        "\n",
        "Adding .\\130731\\130731_F1_C1\\PiezoSine_Params_130731_F1_C1_7.csv: 1,26\n",
        "Adding .\\130731\\130731_F1_C1\\PiezoSine_Params_130731_F1_C1_8.csv: 1,26\n",
        "Adding .\\130731\\130731_F1_C1\\PiezoSine_Params_130731_F1_C1_9.csv: 1,26\n",
        "Adding .\\130731\\130731_F1_C1\\PiezoStep_130731_F1_C1.csv: 20,25\n",
        "Adding .\\130731\\130731_F1_C1\\PiezoStep_Params_130731_F1_C1_1.csv: 1,23\n",
        "Adding .\\130731\\130731_F1_C1\\PiezoStep_Params_130731_F1_C1_10.csv: 1,23\n",
        "Adding .\\130731\\130731_F1_C1\\PiezoStep_Params_130731_F1_C1_11.csv: 1,23\n",
        "Adding .\\130731\\130731_F1_C1\\PiezoStep_Params_130731_F1_C1_12.csv: 1,23\n",
        "Adding .\\130731\\130731_F1_C1\\PiezoStep_Params_130731_F1_C1_13.csv: 1,23\n",
        "Adding .\\130731\\130731_F1_C1\\PiezoStep_Params_130731_F1_C1_14.csv: 1,23\n",
        "Adding .\\130731\\130731_F1_C1\\PiezoStep_Params_130731_F1_C1_15.csv: 1,23\n",
        "Adding .\\130731\\130731_F1_C1\\PiezoStep_Params_130731_F1_C1_16.csv: 1,23"
       ]
      },
      {
       "output_type": "stream",
       "stream": "stdout",
       "text": [
        "\n",
        "Adding .\\130731\\130731_F1_C1\\PiezoStep_Params_130731_F1_C1_17.csv: 1,23\n",
        "Adding .\\130731\\130731_F1_C1\\PiezoStep_Params_130731_F1_C1_18.csv: 1,23\n",
        "Adding .\\130731\\130731_F1_C1\\PiezoStep_Params_130731_F1_C1_19.csv: 1,23\n",
        "Adding .\\130731\\130731_F1_C1\\PiezoStep_Params_130731_F1_C1_2.csv: 1,23\n",
        "Adding .\\130731\\130731_F1_C1\\PiezoStep_Params_130731_F1_C1_20.csv: 1,23\n",
        "Adding .\\130731\\130731_F1_C1\\PiezoStep_Params_130731_F1_C1_3.csv: 1,23\n",
        "Adding .\\130731\\130731_F1_C1\\PiezoStep_Params_130731_F1_C1_4.csv: 1,23\n",
        "Adding .\\130731\\130731_F1_C1\\PiezoStep_Params_130731_F1_C1_5.csv: 1,23\n",
        "Adding .\\130731\\130731_F1_C1\\PiezoStep_Params_130731_F1_C1_6.csv: 1,23\n",
        "Adding .\\130731\\130731_F1_C1\\PiezoStep_Params_130731_F1_C1_7.csv: 1,23\n",
        "Adding .\\130731\\130731_F1_C1\\PiezoStep_Params_130731_F1_C1_8.csv: 1,23\n",
        "Adding .\\130731\\130731_F1_C1\\PiezoStep_Params_130731_F1_C1_9.csv: 1,23"
       ]
      },
      {
       "output_type": "stream",
       "stream": "stdout",
       "text": [
        "\n",
        "Adding .\\130731\\130731_F1_C1\\SealAndLeak_130731_F1_C1.csv: 2,22\n",
        "Adding .\\130731\\130731_F1_C1\\SealAndLeak_Params_130731_F1_C1_1.csv: 1,21\n",
        "Adding .\\130731\\130731_F1_C1\\SealAndLeak_Params_130731_F1_C1_2.csv: 1,21\n",
        "Adding .\\130731\\130731_F1_C1\\Sweep_130731_F1_C1.csv: 5,19\n",
        "Adding .\\130731\\130731_F1_C1\\Sweep_Params_130731_F1_C1_1.csv: 1,18\n",
        "Adding .\\130731\\130731_F1_C1\\Sweep_Params_130731_F1_C1_2.csv: 1,18\n",
        "Adding .\\130731\\130731_F1_C1\\Sweep_Params_130731_F1_C1_3.csv: 1,18\n",
        "Adding .\\130731\\130731_F1_C1\\Sweep_Params_130731_F1_C1_4.csv: 1,18\n",
        "Adding .\\130731\\130731_F1_C1\\Sweep_Params_130731_F1_C1_5.csv: 1,18\n",
        "Adding .\\130802\\130802_F1_C1\\PiezoSine_130802_F1_C1.csv: 15,27\n",
        "Adding .\\130802\\130802_F1_C1\\PiezoStep_130802_F1_C1.csv: 20,24\n",
        "Adding .\\130802\\130802_F1_C1\\SealAndLeak_130802_F1_C1.csv: 2,21"
       ]
      },
      {
       "output_type": "stream",
       "stream": "stdout",
       "text": [
        "\n",
        "Adding .\\130802\\130802_F1_C1\\Sweep_130802_F1_C1.csv: 5,18\n",
        "Adding .\\130802\\130802_F1_C2\\PiezoSine_130802_F1_C2.csv: 355,28\n",
        "Adding .\\130802\\130802_F1_C2\\PiezoStep_130802_F1_C2.csv: 80,25\n",
        "Adding .\\130802\\130802_F1_C2\\SealAndLeak_130802_F1_C2.csv: 3,22\n",
        "Adding .\\130802\\130802_F1_C2\\Sweep_130802_F1_C2.csv: 52,19"
       ]
      },
      {
       "output_type": "stream",
       "stream": "stdout",
       "text": [
        "\n",
        "Adding .\\130911\\130911_F1_C1\\PiezoSine_130911_F1_C1.csv: 77,25\n",
        "Adding .\\130911\\130911_F1_C1\\PiezoStep_130911_F1_C1.csv: 3,22\n",
        "Adding .\\130911\\130911_F1_C1\\SealAndLeak_130911_F1_C1.csv: 3,19\n",
        "Adding .\\130911\\130911_F1_C1\\Sweep_130911_F1_C1.csv: 24,16\n",
        "Adding .\\130911\\130911_F2_C1\\PiezoSine_130911_F2_C1.csv: 124,25\n",
        "Adding .\\130911\\130911_F2_C1\\PiezoStep_130911_F2_C1.csv: 39,22\n",
        "Adding .\\130911\\130911_F2_C1\\SealAndLeak_130911_F2_C1.csv: 4,19"
       ]
      },
      {
       "output_type": "stream",
       "stream": "stdout",
       "text": [
        "\n",
        "Adding .\\130911\\130911_F2_C1\\Sweep_130911_F2_C1.csv: 20,16\n",
        "Adding .\\130911\\130911_F2_C2\\PiezoSine_130911_F2_C2.csv: 371,24\n",
        "Adding .\\130911\\130911_F2_C2\\PiezoStep_130911_F2_C2.csv: 30,21\n",
        "Adding .\\130911\\130911_F2_C2\\SealAndLeak_130911_F2_C2.csv: 5,18\n",
        "Adding .\\130911\\130911_F2_C2\\Sweep_130911_F2_C2.csv: 61,15"
       ]
      },
      {
       "output_type": "stream",
       "stream": "stdout",
       "text": [
        "\n",
        "Adding .\\130912\\130912_F1_C1\\PiezoSine_130912_F1_C1.csv: 126,24\n",
        "Adding .\\130912\\130912_F1_C1\\PiezoStep_130912_F1_C1.csv: 30,21\n",
        "Adding .\\130912\\130912_F1_C1\\SealAndLeak_130912_F1_C1.csv: 12,18\n",
        "Adding .\\130912\\130912_F1_C1\\Sweep_130912_F1_C1.csv: 70,15\n",
        "Adding .\\130912\\130912_F2_C1\\PiezoSine_130912_F2_C1.csv: 135,25\n",
        "Adding .\\130912\\130912_F2_C1\\PiezoStep_130912_F2_C1.csv: 68,22"
       ]
      },
      {
       "output_type": "stream",
       "stream": "stdout",
       "text": [
        "\n",
        "Adding .\\130912\\130912_F2_C1\\SealAndLeak_130912_F2_C1.csv: 4,19\n",
        "Adding .\\130912\\130912_F2_C1\\Sweep_130912_F2_C1.csv: 26,16\n",
        "Adding .\\130912\\130912_F2_C2\\PiezoSine_130912_F2_C2.csv: 150,25\n",
        "Adding .\\130912\\130912_F2_C2\\PiezoStep_130912_F2_C2.csv: 60,22\n",
        "Adding .\\130912\\130912_F2_C2\\SealAndLeak_130912_F2_C2.csv: 4,19\n",
        "Adding .\\130912\\130912_F2_C2\\Sweep_130912_F2_C2.csv: 40,16"
       ]
      },
      {
       "output_type": "stream",
       "stream": "stdout",
       "text": [
        "\n",
        "Adding .\\130916\\130916_F2_C1\\PiezoSine_130916_F2_C1.csv: 156,24\n",
        "Adding .\\130916\\130916_F2_C1\\PiezoStep_130916_F2_C1.csv: 43,21\n",
        "Adding .\\130916\\130916_F2_C1\\SealAndLeak_130916_F2_C1.csv: 5,18\n",
        "Adding .\\130916\\130916_F2_C1\\Sweep_130916_F2_C1.csv: 40,15\n",
        "Adding .\\130917\\130917_F1_C1\\PiezoSine_130917_F1_C1.csv: 120,24\n",
        "Adding .\\130917\\130917_F1_C1\\PiezoStep_130917_F1_C1.csv: 81,21"
       ]
      },
      {
       "output_type": "stream",
       "stream": "stdout",
       "text": [
        "\n",
        "Adding .\\130917\\130917_F1_C1\\SealAndLeak_130917_F1_C1.csv: 4,18\n",
        "Adding .\\130917\\130917_F1_C1\\Sweep_130917_F1_C1.csv: 31,15\n",
        "Adding .\\130925\\130925_F1_C1\\PiezoCourtshipSong_130925_F1_C1.csv: 15,24\n",
        "Adding .\\130925\\130925_F1_C1\\PiezoSine_130925_F1_C1.csv: 75,26\n",
        "Adding .\\130925\\130925_F1_C1\\PiezoSquareWave_130925_F1_C1.csv: 5,25\n",
        "Adding .\\130925\\130925_F1_C1\\PiezoStep_130925_F1_C1.csv: 60,23"
       ]
      },
      {
       "output_type": "stream",
       "stream": "stdout",
       "text": [
        "\n",
        "Adding .\\130925\\130925_F1_C1\\SealAndLeak_130925_F1_C1.csv: 3,20\n",
        "Adding .\\130925\\130925_F1_C1\\Sweep_130925_F1_C1.csv: 10,17\n",
        "Adding .\\130925\\130925_F2_C1\\PiezoCourtshipSong_130925_F2_C1.csv: 15,24\n",
        "Adding .\\130925\\130925_F2_C1\\PiezoSine_130925_F2_C1.csv: 120,26\n",
        "Adding .\\130925\\130925_F2_C1\\PiezoSquareWave_130925_F2_C1.csv: 10,25\n",
        "Adding .\\130925\\130925_F2_C1\\PiezoStep_130925_F2_C1.csv: 90,23\n",
        "Adding .\\130925\\130925_F2_C1\\SealAndLeak_130925_F2_C1.csv: 6,20"
       ]
      },
      {
       "output_type": "stream",
       "stream": "stdout",
       "text": [
        "\n",
        "Adding .\\130925\\130925_F2_C1\\Sweep_130925_F2_C1.csv: 5,17\n",
        "Adding .\\130925\\130925_F3_C1\\PiezoCourtshipSong_130925_F3_C1.csv: 45,24\n",
        "Adding .\\130925\\130925_F3_C1\\PiezoSine_130925_F3_C1.csv: 119,26\n",
        "Adding .\\130925\\130925_F3_C1\\PiezoSquareWave_130925_F3_C1.csv: 10,25\n",
        "Adding .\\130925\\130925_F3_C1\\PiezoStep_130925_F3_C1.csv: 60,23\n",
        "Adding .\\130925\\130925_F3_C1\\SealAndLeak_130925_F3_C1.csv: 3,20\n",
        "Adding .\\130925\\130925_F3_C1\\Sweep_130925_F3_C1.csv: 10,17"
       ]
      },
      {
       "output_type": "stream",
       "stream": "stdout",
       "text": [
        "\n",
        "Adding .\\130930\\130930_F1_C1\\SealAndLeak_130930_F1_C1.csv: 2,20\n",
        "Adding .\\130930\\130930_F1_C1\\Sweep_130930_F1_C1.csv: 10,17\n",
        "Adding .\\130930\\130930_F1_C2\\SealAndLeak_130930_F1_C2.csv: 1,20\n",
        "Adding .\\130930\\130930_F1_C2\\Sweep_130930_F1_C2.csv: 20,17\n",
        "Adding .\\131001\\131001_F1_C1\\PiezoCourtshipSong_131001_F1_C1.csv: 32,26\n",
        "Adding .\\131001\\131001_F1_C1\\PiezoSine_131001_F1_C1.csv: 16,28\n",
        "Adding .\\131001\\131001_F1_C1\\PiezoSquareWave_131001_F1_C1.csv: 32,27\n",
        "Adding .\\131001\\131001_F1_C1\\SealAndLeak_131001_F1_C1.csv: 1,22"
       ]
      },
      {
       "output_type": "stream",
       "stream": "stdout",
       "text": [
        "\n",
        "Adding .\\131001\\131001_F1_C1\\Sweep_131001_F1_C1.csv: 5,19\n",
        "Adding .\\131002\\131002_F1_C1\\PiezoSine_131002_F1_C1.csv: 90,28\n",
        "Adding .\\131002\\131002_F1_C1\\PiezoSquareWave_131002_F1_C1.csv: 10,27\n",
        "Adding .\\131002\\131002_F1_C1\\PiezoStep_131002_F1_C1.csv: 30,25\n",
        "Adding .\\131002\\131002_F1_C1\\SealAndLeak_131002_F1_C1.csv: 2,22\n",
        "Adding .\\131002\\131002_F1_C1\\Sweep_131002_F1_C1.csv: 25,19\n",
        "Adding .\\131002\\131002_F1_C2\\PiezoCourtshipSong_131002_F1_C2.csv: 20,26"
       ]
      },
      {
       "output_type": "stream",
       "stream": "stdout",
       "text": [
        "\n",
        "Adding .\\131002\\131002_F1_C2\\PiezoSine_131002_F1_C2.csv: 135,28\n",
        "Adding .\\131002\\131002_F1_C2\\PiezoSquareWave_131002_F1_C2.csv: 5,27\n",
        "Adding .\\131002\\131002_F1_C2\\PiezoStep_131002_F1_C2.csv: 30,25\n",
        "Adding .\\131002\\131002_F1_C2\\SealAndLeak_131002_F1_C2.csv: 5,22\n",
        "Adding .\\131002\\131002_F1_C2\\Sweep_131002_F1_C2.csv: 5,19\n",
        "Adding .\\131009\\131009_F1_C1\\PiezoCourtshipSong_131009_F1_C1.csv: 10,26\n",
        "Adding .\\131009\\131009_F1_C1\\PiezoSine_131009_F1_C1.csv: 45,28"
       ]
      },
      {
       "output_type": "stream",
       "stream": "stdout",
       "text": [
        "\n",
        "Adding .\\131009\\131009_F1_C1\\PiezoSquareWave_131009_F1_C1.csv: 15,27\n",
        "Adding .\\131009\\131009_F1_C1\\PiezoStep_131009_F1_C1.csv: 134,25\n",
        "Adding .\\131009\\131009_F1_C1\\Sweep_131009_F1_C1.csv: 15,19\n",
        "Adding .\\131009\\131009_F2_C1\\PiezoSquareWave_131009_F2_C1.csv: 5,27\n",
        "Adding .\\131009\\131009_F2_C1\\PiezoStep_131009_F2_C1.csv: 60,25\n",
        "Adding .\\131009\\131009_F2_C1\\SealAndLeak_131009_F2_C1.csv: 2,22"
       ]
      },
      {
       "output_type": "stream",
       "stream": "stdout",
       "text": [
        "\n",
        "Adding .\\131009\\131009_F2_C1\\Sweep_131009_F2_C1.csv: 25,19\n",
        "Adding .\\131014\\131014_F3_C1\\PiezoBWCourtshipSong_131014_F3_C1.csv: 6,26\n",
        "Adding .\\131014\\131014_F3_C1\\PiezoCourtshipSong_131014_F3_C1.csv: 16,26\n",
        "Adding .\\131014\\131014_F3_C1\\PiezoSine_131014_F3_C1.csv: 90,28\n",
        "Adding .\\131014\\131014_F3_C1\\PiezoSquareWave_131014_F3_C1.csv: 10,27\n",
        "Adding .\\131014\\131014_F3_C1\\PiezoStep_131014_F3_C1.csv: 60,25\n",
        "Adding .\\131014\\131014_F3_C1\\SealAndLeak_131014_F3_C1.csv: 1,22"
       ]
      },
      {
       "output_type": "stream",
       "stream": "stdout",
       "text": [
        "\n",
        "Adding .\\131014\\131014_F3_C1\\Sweep_131014_F3_C1.csv: 45,19\n",
        "Adding .\\131014\\131014_F4_C1\\PiezoBWCourtshipSong_131014_F4_C1.csv: 12,26\n",
        "Adding .\\131014\\131014_F4_C1\\PiezoCourtshipSong_131014_F4_C1.csv: 4,26\n",
        "Adding .\\131014\\131014_F4_C1\\PiezoSine_131014_F4_C1.csv: 99,28\n",
        "Adding .\\131014\\131014_F4_C1\\PiezoSquareWave_131014_F4_C1.csv: 15,27\n",
        "Adding .\\131014\\131014_F4_C1\\PiezoStep_131014_F4_C1.csv: 60,25\n",
        "Adding .\\131014\\131014_F4_C1\\Sweep_131014_F4_C1.csv: 40,19"
       ]
      },
      {
       "output_type": "stream",
       "stream": "stdout",
       "text": [
        "\n",
        "Adding .\\131015\\131015_F1_C1\\PiezoSine_131015_F1_C1.csv: 45,28\n",
        "Adding .\\131015\\131015_F1_C1\\PiezoSquareWave_131015_F1_C1.csv: 5,27\n",
        "Adding .\\131015\\131015_F1_C1\\PiezoStep_131015_F1_C1.csv: 30,25\n",
        "Adding .\\131015\\131015_F1_C1\\SealAndLeak_131015_F1_C1.csv: 3,22\n",
        "Adding .\\131015\\131015_F1_C1\\Sweep_131015_F1_C1.csv: 45,19\n",
        "Adding .\\131015\\131015_F3_C1\\PiezoBWCourtshipSong_131015_F3_C1.csv: 18,26\n",
        "Adding .\\131015\\131015_F3_C1\\PiezoCourtshipSong_131015_F3_C1.csv: 18,26"
       ]
      },
      {
       "output_type": "stream",
       "stream": "stdout",
       "text": [
        "\n",
        "Adding .\\131015\\131015_F3_C1\\PiezoSine_131015_F3_C1.csv: 216,28\n",
        "Adding .\\131015\\131015_F3_C1\\PiezoSquareWave_131015_F3_C1.csv: 50,27\n",
        "Adding .\\131015\\131015_F3_C1\\PiezoStep_131015_F3_C1.csv: 180,25\n",
        "Adding .\\131015\\131015_F3_C1\\SealAndLeak_131015_F3_C1.csv: 1,22"
       ]
      },
      {
       "output_type": "stream",
       "stream": "stdout",
       "text": [
        "\n",
        "Adding .\\131015\\131015_F3_C1\\Sweep_131015_F3_C1.csv: 50,19\n",
        "Adding .\\131016\\131016_F1_C1\\PiezoSine_131016_F1_C1.csv: 228,28\n",
        "Adding .\\131016\\131016_F1_C1\\PiezoSquareWave_131016_F1_C1.csv: 25,27\n",
        "Adding .\\131016\\131016_F1_C1\\PiezoStep_131016_F1_C1.csv: 90,25\n",
        "Adding .\\131016\\131016_F1_C1\\SealAndLeak_131016_F1_C1.csv: 6,22"
       ]
      },
      {
       "output_type": "stream",
       "stream": "stdout",
       "text": [
        "\n",
        "Adding .\\131016\\131016_F1_C1\\Sweep_131016_F1_C1.csv: 75,19\n",
        "Adding .\\131022\\131022_F1_C1\\PiezoCourtshipSong_131022_F1_C1.csv: 6,26\n",
        "Adding .\\131022\\131022_F1_C1\\PiezoSine_131022_F1_C1.csv: 90,28\n",
        "Adding .\\131022\\131022_F1_C1\\PiezoSquareWave_131022_F1_C1.csv: 15,27\n",
        "Adding .\\131022\\131022_F1_C1\\PiezoStep_131022_F1_C1.csv: 60,25\n",
        "Adding .\\131022\\131022_F1_C1\\SealAndLeak_131022_F1_C1.csv: 1,22"
       ]
      },
      {
       "output_type": "stream",
       "stream": "stdout",
       "text": [
        "\n",
        "Adding .\\131022\\131022_F1_C1\\Sweep_131022_F1_C1.csv: 15,19\n",
        "Adding .\\131022\\131022_F2_C1\\PiezoSine_131022_F2_C1.csv: 90,28\n",
        "Adding .\\131022\\131022_F2_C1\\PiezoSquareWave_131022_F2_C1.csv: 20,27\n",
        "Adding .\\131022\\131022_F2_C1\\PiezoStep_131022_F2_C1.csv: 118,25\n",
        "Adding .\\131022\\131022_F2_C1\\SealAndLeak_131022_F2_C1.csv: 1,22\n",
        "Adding .\\131022\\131022_F2_C1\\Sweep_131022_F2_C1.csv: 25,19"
       ]
      },
      {
       "output_type": "stream",
       "stream": "stdout",
       "text": [
        "\n",
        "Adding .\\131022\\131022_F4_C1\\PiezoSine_131022_F4_C1.csv: 45,28\n",
        "Adding .\\131022\\131022_F4_C1\\PiezoStep_131022_F4_C1.csv: 30,25\n",
        "Adding .\\131022\\131022_F4_C1\\Sweep_131022_F4_C1.csv: 27,19\n",
        "Adding .\\131109\\131109_F0_C0\\CurrentStep_131109_F0_C0.csv: 18,24\n",
        "Adding .\\131109\\131109_F1_C1\\CurrentStep_131109_F1_C1.csv: 126,24\n",
        "Adding .\\131109\\131109_F1_C1\\Sweep_131109_F1_C1.csv: 5,19"
       ]
      },
      {
       "output_type": "stream",
       "stream": "stdout",
       "text": [
        "\n",
        "Adding .\\131112\\131112_F1_C1\\PiezoCourtshipSong_131112_F1_C1.csv: 15,26\n",
        "Adding .\\131112\\131112_F1_C1\\PiezoSine_131112_F1_C1.csv: 45,28\n",
        "Adding .\\131112\\131112_F1_C1\\PiezoSquareWave_131112_F1_C1.csv: 5,27\n",
        "Adding .\\131112\\131112_F1_C1\\PiezoStep_131112_F1_C1.csv: 60,25\n",
        "Adding .\\131112\\131112_F1_C1\\SealAndLeak_131112_F1_C1.csv: 2,22\n",
        "Adding .\\131112\\131112_F1_C1\\Sweep_131112_F1_C1.csv: 5,19"
       ]
      },
      {
       "output_type": "stream",
       "stream": "stdout",
       "text": [
        "\n",
        "Adding .\\131112\\131112_F1_C2\\SealAndLeak_131112_F1_C2.csv: 2,22\n",
        "Adding .\\131112\\131112_F1_C2\\Sweep_131112_F1_C2.csv: 20,19\n",
        "Adding .\\131112\\131112_F3_C1\\SealAndLeak_131112_F3_C1.csv: 1,22\n",
        "Adding .\\131112\\131112_F3_C1\\Sweep_131112_F3_C1.csv: 10,19\n",
        "Adding .\\131112\\131112_F3_C2\\SealAndLeak_131112_F3_C2.csv: 1,22\n",
        "Adding .\\131112\\131112_F3_C2\\Sweep_131112_F3_C2.csv: 20,19\n",
        "Adding .\\131115\\131115_F1_C1\\CurrentStep_131115_F1_C1.csv: 5,24"
       ]
      },
      {
       "output_type": "stream",
       "stream": "stdout",
       "text": [
        "\n",
        "Adding .\\131115\\131115_F1_C1\\SealAndLeak_131115_F1_C1.csv: 4,22\n",
        "Adding .\\131115\\131115_F1_C1\\Sweep_131115_F1_C1.csv: 5,19\n",
        "Adding .\\131119\\131119_F1_C1\\CurrentPlateau_131119_F1_C1.csv: 11,26\n",
        "Adding .\\131119\\131119_F1_C1\\CurrentStep_131119_F1_C1.csv: 17,24\n",
        "Adding .\\131119\\131119_F1_C1\\SealAndLeak_131119_F1_C1.csv: 1,22\n",
        "Adding .\\131119\\131119_F1_C1\\Sweep_131119_F1_C1.csv: 10,19"
       ]
      },
      {
       "output_type": "stream",
       "stream": "stdout",
       "text": [
        "\n",
        "Adding .\\131119\\131119_F2_C2\\CurrentPlateau_131119_F2_C2.csv: 5,26\n",
        "Adding .\\131119\\131119_F2_C2\\CurrentSine_131119_F2_C2.csv: 80,26\n",
        "Adding .\\131119\\131119_F2_C2\\CurrentStep_131119_F2_C2.csv: 5,24\n",
        "Adding .\\131119\\131119_F2_C2\\SealAndLeak_131119_F2_C2.csv: 6,22\n",
        "Adding .\\131119\\131119_F2_C2\\Sweep_131119_F2_C2.csv: 10,19"
       ]
      },
      {
       "output_type": "stream",
       "stream": "stdout",
       "text": [
        "\n",
        "Adding .\\131121\\131121_F1_C1\\SealAndLeak_131121_F1_C1.csv: 1,22\n",
        "Adding .\\131121\\131121_F1_C1\\Sweep_131121_F1_C1.csv: 10,19\n",
        "Adding .\\131121\\131121_F1_C2\\SealAndLeak_131121_F1_C2.csv: 1,22\n",
        "Adding .\\131121\\131121_F1_C2\\Sweep_131121_F1_C2.csv: 5,19\n",
        "Adding .\\131121\\131121_F1_C3\\SealAndLeak_131121_F1_C3.csv: 1,22\n",
        "Adding .\\131121\\131121_F1_C3\\Sweep_131121_F1_C3.csv: 10,19"
       ]
      },
      {
       "output_type": "stream",
       "stream": "stdout",
       "text": [
        "\n",
        "Adding .\\131121\\131121_F1_C4\\SealAndLeak_131121_F1_C4.csv: 1,22\n",
        "Adding .\\131121\\131121_F1_C4\\Sweep_131121_F1_C4.csv: 10,19\n",
        "Adding .\\131121\\131121_F1_C7\\SealAndLeak_131121_F1_C7.csv: 1,22\n",
        "Adding .\\131121\\131121_F1_C7\\Sweep_131121_F1_C7.csv: 10,19\n",
        "Adding .\\131121\\131121_F1_C8\\SealAndLeak_131121_F1_C8.csv: 1,22\n",
        "Adding .\\131121\\131121_F1_C8\\Sweep_131121_F1_C8.csv: 10,19"
       ]
      },
      {
       "output_type": "stream",
       "stream": "stdout",
       "text": [
        "\n",
        "Adding .\\131121\\131121_F2_C1\\SealAndLeak_131121_F2_C1.csv: 3,22\n",
        "Adding .\\131121\\131121_F2_C1\\Sweep_131121_F2_C1.csv: 10,19\n",
        "Adding .\\131121\\131121_F2_C2\\CurrentSine_131121_F2_C2.csv: 50,26\n",
        "Adding .\\131121\\131121_F2_C2\\CurrentStep_131121_F2_C2.csv: 15,24\n",
        "Adding .\\131121\\131121_F2_C2\\SealAndLeak_131121_F2_C2.csv: 2,22\n",
        "Adding .\\131121\\131121_F2_C2\\Sweep_131121_F2_C2.csv: 31,19"
       ]
      },
      {
       "output_type": "stream",
       "stream": "stdout",
       "text": [
        "\n",
        "Adding .\\131121\\131121_F2_C3\\CurrentSine_131121_F2_C3.csv: 50,26\n",
        "Adding .\\131121\\131121_F2_C3\\CurrentStep_131121_F2_C3.csv: 5,24\n",
        "Adding .\\131121\\131121_F2_C3\\SealAndLeak_131121_F2_C3.csv: 3,22\n",
        "Adding .\\131121\\131121_F2_C3\\Sweep_131121_F2_C3.csv: 14,19\n",
        "Adding .\\131121\\131121_F2_C4\\CurrentSine_131121_F2_C4.csv: 25,26"
       ]
      },
      {
       "output_type": "stream",
       "stream": "stdout",
       "text": [
        "\n",
        "Adding .\\131121\\131121_F2_C4\\SealAndLeak_131121_F2_C4.csv: 5,22\n",
        "Adding .\\131121\\131121_F2_C4\\Sweep_131121_F2_C4.csv: 8,19\n",
        "Adding .\\131121\\131121_F2_C5\\SealAndLeak_131121_F2_C5.csv: 2,22\n",
        "Adding .\\131121\\131121_F2_C5\\Sweep_131121_F2_C5.csv: 20,19\n",
        "Adding .\\131122\\131122_F1_C1\\CurrentSine_131122_F1_C1.csv: 25,26\n",
        "Adding .\\131122\\131122_F1_C1\\PiezoCourtshipSong_131122_F1_C1.csv: 6,26"
       ]
      },
      {
       "output_type": "stream",
       "stream": "stdout",
       "text": [
        "\n",
        "Adding .\\131122\\131122_F1_C1\\PiezoSine_131122_F1_C1.csv: 45,28\n",
        "Adding .\\131122\\131122_F1_C1\\PiezoSquareWave_131122_F1_C1.csv: 10,27\n",
        "Adding .\\131122\\131122_F1_C1\\PiezoStep_131122_F1_C1.csv: 30,25\n",
        "Adding .\\131122\\131122_F1_C1\\SealAndLeak_131122_F1_C1.csv: 3,22\n",
        "Adding .\\131122\\131122_F1_C1\\Sweep_131122_F1_C1.csv: 83,19"
       ]
      },
      {
       "output_type": "stream",
       "stream": "stdout",
       "text": [
        "\n",
        "Adding .\\131122\\131122_F2_C1\\CurrentSine_131122_F2_C1.csv: 36,26\n",
        "Adding .\\131122\\131122_F2_C1\\PiezoBWCourtshipSong_131122_F2_C1.csv: 6,26\n",
        "Adding .\\131122\\131122_F2_C1\\PiezoCourtshipSong_131122_F2_C1.csv: 6,26\n",
        "Adding .\\131122\\131122_F2_C1\\PiezoSine_131122_F2_C1.csv: 45,28\n",
        "Adding .\\131122\\131122_F2_C1\\PiezoSquareWave_131122_F2_C1.csv: 5,27"
       ]
      },
      {
       "output_type": "stream",
       "stream": "stdout",
       "text": [
        "\n",
        "Adding .\\131122\\131122_F2_C1\\PiezoStep_131122_F2_C1.csv: 30,25\n",
        "Adding .\\131122\\131122_F2_C1\\SealAndLeak_131122_F2_C1.csv: 1,22\n",
        "Adding .\\131122\\131122_F2_C1\\Sweep_131122_F2_C1.csv: 14,19\n",
        "Adding .\\131122\\131122_F3_C1\\SealAndLeak_131122_F3_C1.csv: 2,22\n",
        "Adding .\\131122\\131122_F3_C1\\Sweep_131122_F3_C1.csv: 24,19\n",
        "Adding .\\131126\\131126_F0_C0\\CurrentSine_131126_F0_C0.csv: 25,26"
       ]
      },
      {
       "output_type": "stream",
       "stream": "stdout",
       "text": [
        "\n",
        "Adding .\\131126\\131126_F0_C0\\CurrentStep_131126_F0_C0.csv: 5,24\n",
        "Adding .\\131126\\131126_F0_C0\\PiezoSine_131126_F0_C0.csv: 90,28\n",
        "Adding .\\131126\\131126_F0_C0\\PiezoSquareWave_131126_F0_C0.csv: 10,27\n",
        "Adding .\\131126\\131126_F0_C0\\PiezoStep_131126_F0_C0.csv: 30,25\n",
        "Adding .\\131126\\131126_F0_C0\\SealAndLeak_131126_F0_C0.csv: 5,22"
       ]
      },
      {
       "output_type": "stream",
       "stream": "stdout",
       "text": [
        "\n",
        "Adding .\\131126\\131126_F0_C0\\Sweep_131126_F0_C0.csv: 26,19\n",
        "Adding .\\131126\\131126_F2_C1\\CurrentSine_131126_F2_C1.csv: 25,26\n",
        "Adding .\\131126\\131126_F2_C1\\CurrentStep_131126_F2_C1.csv: 5,24\n",
        "Adding .\\131126\\131126_F2_C1\\PiezoCourtshipSong_131126_F2_C1.csv: 6,26\n",
        "Adding .\\131126\\131126_F2_C1\\PiezoSine_131126_F2_C1.csv: 45,28"
       ]
      },
      {
       "output_type": "stream",
       "stream": "stdout",
       "text": [
        "\n",
        "Adding .\\131126\\131126_F2_C1\\PiezoSquareWave_131126_F2_C1.csv: 5,27\n",
        "Adding .\\131126\\131126_F2_C1\\PiezoStep_131126_F2_C1.csv: 87,25\n",
        "Adding .\\131126\\131126_F2_C1\\SealAndLeak_131126_F2_C1.csv: 1,22\n",
        "Adding .\\131126\\131126_F2_C1\\Sweep_131126_F2_C1.csv: 8,19\n",
        "Adding .\\131126\\131126_F2_C2\\CurrentSine_131126_F2_C2.csv: 50,26"
       ]
      },
      {
       "output_type": "stream",
       "stream": "stdout",
       "text": [
        "\n",
        "Adding .\\131126\\131126_F2_C2\\CurrentStep_131126_F2_C2.csv: 55,24\n",
        "Adding .\\131126\\131126_F2_C2\\PiezoSine_131126_F2_C2.csv: 45,28\n",
        "Adding .\\131126\\131126_F2_C2\\PiezoSquareWave_131126_F2_C2.csv: 5,27\n",
        "Adding .\\131126\\131126_F2_C2\\PiezoStep_131126_F2_C2.csv: 30,25\n",
        "Adding .\\131126\\131126_F2_C2\\SealAndLeak_131126_F2_C2.csv: 2,22"
       ]
      },
      {
       "output_type": "stream",
       "stream": "stdout",
       "text": [
        "\n",
        "Adding .\\131126\\131126_F2_C2\\Sweep_131126_F2_C2.csv: 13,19\n",
        "Adding .\\131126\\131126_F2_C3\\CurrentSine_131126_F2_C3.csv: 50,26\n",
        "Adding .\\131126\\131126_F2_C3\\CurrentStep_131126_F2_C3.csv: 35,24\n",
        "Adding .\\131126\\131126_F2_C3\\PiezoBWCourtshipSong_131126_F2_C3.csv: 6,26\n",
        "Adding .\\131126\\131126_F2_C3\\PiezoCourtshipSong_131126_F2_C3.csv: 6,26"
       ]
      },
      {
       "output_type": "stream",
       "stream": "stdout",
       "text": [
        "\n",
        "Adding .\\131126\\131126_F2_C3\\PiezoSine_131126_F2_C3.csv: 45,28\n",
        "Adding .\\131126\\131126_F2_C3\\PiezoSquareWave_131126_F2_C3.csv: 5,27\n",
        "Adding .\\131126\\131126_F2_C3\\PiezoStep_131126_F2_C3.csv: 30,25\n",
        "Adding .\\131126\\131126_F2_C3\\SealAndLeak_131126_F2_C3.csv: 1,22\n",
        "Adding .\\131126\\131126_F2_C3\\Sweep_131126_F2_C3.csv: 8,19"
       ]
      },
      {
       "output_type": "stream",
       "stream": "stdout",
       "text": [
        "\n",
        "Adding .\\131130\\131130_F0_C0\\CurrentSine_131130_F0_C0.csv: 100,26\n",
        "Adding .\\131130\\131130_F0_C1\\CurrentSine_131130_F0_C1.csv: 70,27\n",
        "Adding .\\131203\\131203_F1_C1\\SealAndLeak_131203_F1_C1.csv: 1,22\n",
        "Adding .\\131203\\131203_F1_C1\\Sweep_131203_F1_C1.csv: 23,19\n",
        "Adding .\\131203\\131203_F1_C2\\CurrentStep_131203_F1_C2.csv: 10,24"
       ]
      },
      {
       "output_type": "stream",
       "stream": "stdout",
       "text": [
        "\n",
        "Adding .\\131203\\131203_F1_C2\\SealAndLeak_131203_F1_C2.csv: 3,22\n",
        "Adding .\\131203\\131203_F1_C2\\Sweep_131203_F1_C2.csv: 13,19\n",
        "Adding .\\131203\\131203_F2_C1\\CurrentPlateau_131203_F2_C1.csv: 9,26\n",
        "Adding .\\131203\\131203_F2_C1\\CurrentStep_131203_F2_C1.csv: 5,24\n",
        "Adding .\\131203\\131203_F2_C1\\PiezoSine_131203_F2_C1.csv: 45,28"
       ]
      },
      {
       "output_type": "stream",
       "stream": "stdout",
       "text": [
        "\n",
        "Adding .\\131203\\131203_F2_C1\\PiezoSquareWave_131203_F2_C1.csv: 5,27\n",
        "Adding .\\131203\\131203_F2_C1\\PiezoStep_131203_F2_C1.csv: 30,25\n",
        "Adding .\\131203\\131203_F2_C1\\SealAndLeak_131203_F2_C1.csv: 1,22\n",
        "Adding .\\131203\\131203_F2_C1\\Sweep_131203_F2_C1.csv: 10,19\n",
        "Adding .\\131206\\131206_F1_C1\\PiezoSine_131206_F1_C1.csv: 40,28"
       ]
      },
      {
       "output_type": "stream",
       "stream": "stdout",
       "text": [
        "\n",
        "Adding .\\131206\\131206_F2_C1\\PiezoSine_131206_F2_C1.csv: 25,28\n",
        "Adding .\\131206\\131206_F2_C1\\PiezoSquareWave_131206_F2_C1.csv: 2,27\n",
        "Adding .\\131210\\131210_F2_C1\\SealAndLeak_131210_F2_C1.csv: 1,22\n",
        "Adding .\\131210\\131210_F2_C1\\Sweep_131210_F2_C1.csv: 5,19\n",
        "Adding .\\131210\\131210_F3_C1\\PiezoSine_131210_F3_C1.csv: 99,28"
       ]
      },
      {
       "output_type": "stream",
       "stream": "stdout",
       "text": [
        "\n",
        "Adding .\\131210\\131210_F3_C1\\PiezoStep_131210_F3_C1.csv: 30,25\n",
        "Adding .\\131210\\131210_F3_C1\\Sweep_131210_F3_C1.csv: 5,19\n",
        "Adding .\\131211\\131211_F1_C1\\CurrentPlateau_131211_F1_C1.csv: 6,26\n",
        "Adding .\\131211\\131211_F1_C1\\Sweep_131211_F1_C1.csv: 1,19"
       ]
      },
      {
       "output_type": "stream",
       "stream": "stdout",
       "text": [
        "\n",
        "Adding .\\131211\\131211_F1_C2\\CurrentPlateau_131211_F1_C2.csv: 6,26\n",
        "Adding .\\131211\\131211_F1_C2\\CurrentSine_131211_F1_C2.csv: 133,27\n",
        "Adding .\\131211\\131211_F1_C2\\PiezoSine_131211_F1_C2.csv: 203,28\n",
        "Adding .\\131211\\131211_F1_C2\\PiezoStep_131211_F1_C2.csv: 48,25"
       ]
      },
      {
       "output_type": "stream",
       "stream": "stdout",
       "text": [
        "\n",
        "Adding .\\131211\\131211_F1_C2\\Sweep_131211_F1_C2.csv: 1,19\n",
        "Adding .\\131211\\131211_F2_C1\\CurrentPlateau_131211_F2_C1.csv: 9,26\n",
        "Adding .\\131211\\131211_F2_C1\\CurrentStep_131211_F2_C1.csv: 11,24\n",
        "Adding .\\131211\\131211_F2_C1\\PiezoSine_131211_F2_C1.csv: 99,28"
       ]
      },
      {
       "output_type": "stream",
       "stream": "stdout",
       "text": [
        "\n",
        "Adding .\\131211\\131211_F2_C1\\PiezoSquareWave_131211_F2_C1.csv: 5,27\n",
        "Adding .\\131211\\131211_F2_C1\\PiezoStep_131211_F2_C1.csv: 30,25\n",
        "Adding .\\131211\\131211_F2_C1\\Sweep_131211_F2_C1.csv: 1,19\n",
        "Adding .\\131212\\131212_F1_C1\\CurrentSine_131212_F1_C1.csv: 101,27"
       ]
      },
      {
       "output_type": "stream",
       "stream": "stdout",
       "text": [
        "\n",
        "Adding .\\131212\\131212_F1_C1\\PiezoSine_131212_F1_C1.csv: 63,28\n",
        "Adding .\\131212\\131212_F1_C1\\PiezoSquareWave_131212_F1_C1.csv: 5,27\n",
        "Adding .\\131212\\131212_F1_C1\\PiezoStep_131212_F1_C1.csv: 30,25\n",
        "Adding .\\131212\\131212_F1_C1\\Sweep_131212_F1_C1.csv: 1,19"
       ]
      },
      {
       "output_type": "stream",
       "stream": "stdout",
       "text": [
        "\n",
        "Adding .\\131217\\131217_F1_C1\\CurrentPlateau_131217_F1_C1.csv: 18,26\n",
        "Adding .\\131217\\131217_F1_C1\\PiezoSine_131217_F1_C1.csv: 14,28\n",
        "Adding .\\131217\\131217_F1_C1\\PiezoStep_131217_F1_C1.csv: 30,25\n",
        "Adding .\\131217\\131217_F1_C1\\Sweep_131217_F1_C1.csv: 6,19"
       ]
      },
      {
       "output_type": "stream",
       "stream": "stdout",
       "text": [
        "\n",
        "Adding .\\131217\\131217_F2_C1\\Sweep_131217_F2_C1.csv: 2,19\n",
        "Adding .\\131217\\131217_F2_C2\\Sweep_131217_F2_C2.csv: 1,19\n",
        "Adding .\\140110\\140110_F1_C1\\CurrentSine_140110_F1_C1.csv: 49,27\n",
        "Adding .\\140110\\140110_F1_C1\\CurrentStep_140110_F1_C1.csv: 30,24"
       ]
      },
      {
       "output_type": "stream",
       "stream": "stdout",
       "text": [
        "\n",
        "Adding .\\140110\\140110_F1_C1\\PiezoBWCourtshipSong_140110_F1_C1.csv: 6,26\n",
        "Adding .\\140110\\140110_F1_C1\\PiezoCourtshipSong_140110_F1_C1.csv: 12,26\n",
        "Adding .\\140110\\140110_F1_C1\\PiezoSine_140110_F1_C1.csv: 128,28\n",
        "Adding .\\140110\\140110_F1_C1\\PiezoSquareWave_140110_F1_C1.csv: 5,27"
       ]
      },
      {
       "output_type": "stream",
       "stream": "stdout",
       "text": [
        "\n",
        "Adding .\\140110\\140110_F1_C1\\PiezoStep_140110_F1_C1.csv: 90,25\n",
        "Adding .\\140110\\140110_F1_C1\\SealAndLeak_140110_F1_C1.csv: 2,22\n",
        "Adding .\\140110\\140110_F1_C1\\Sweep_140110_F1_C1.csv: 13,19\n",
        "Adding .\\140112\\140112_F1_C1\\CurrentStep_140112_F1_C1.csv: 5,24"
       ]
      },
      {
       "output_type": "stream",
       "stream": "stdout",
       "text": [
        "\n",
        "Adding .\\140112\\140112_F1_C1\\PiezoCourtshipSong_140112_F1_C1.csv: 6,26\n",
        "Adding .\\140112\\140112_F1_C1\\PiezoSine_140112_F1_C1.csv: 63,28\n",
        "Adding .\\140112\\140112_F1_C1\\PiezoSquareWave_140112_F1_C1.csv: 5,27\n",
        "Adding .\\140112\\140112_F1_C1\\PiezoStep_140112_F1_C1.csv: 30,25"
       ]
      },
      {
       "output_type": "stream",
       "stream": "stdout",
       "text": [
        "\n",
        "Adding .\\140112\\140112_F1_C1\\SealAndLeak_140112_F1_C1.csv: 2,22\n",
        "Adding .\\140112\\140112_F1_C1\\Sweep_140112_F1_C1.csv: 5,19\n",
        "Adding .\\140114\\140114_F1_C1\\Sweep_140114_F1_C1.csv: 4,19\n",
        "Adding .\\140114\\140114_F2_C1\\Sweep_140114_F2_C1.csv: 1,19"
       ]
      },
      {
       "output_type": "stream",
       "stream": "stdout",
       "text": [
        "\n",
        "Adding .\\140115\\140115_F1_C1\\Sweep_140115_F1_C1.csv: 4,19\n",
        "Adding .\\140115\\140115_F1_C2\\Sweep_140115_F1_C2.csv: 5,19\n",
        "Adding .\\140115\\140115_F2_C1\\CurrentPlateau_140115_F2_C1.csv: 2,26\n",
        "Adding .\\140115\\140115_F2_C1\\Sweep_140115_F2_C1.csv: 1,19\n",
        "Adding .\\140117\\140117_F2_C1\\CurrentSine_140117_F2_C1.csv: 2,27"
       ]
      },
      {
       "output_type": "stream",
       "stream": "stdout",
       "text": [
        "\n",
        "Adding .\\140117\\140117_F2_C1\\CurrentStep_140117_F2_C1.csv: 20,24\n",
        "Adding .\\140117\\140117_F2_C1\\PiezoSine_140117_F2_C1.csv: 57,28\n",
        "Adding .\\140117\\140117_F2_C1\\Sweep_140117_F2_C1.csv: 7,19\n",
        "Adding .\\140117\\140117_F2_C1\\VoltagePlateau_140117_F2_C1.csv: 7,26"
       ]
      },
      {
       "output_type": "stream",
       "stream": "stdout",
       "text": [
        "\n",
        "Adding .\\140121\\140121_F1_C1\\Sweep_140121_F1_C1.csv: 2,19\n",
        "Adding .\\140121\\140121_F2_C1\\CurrentStep_140121_F2_C1.csv: 25,24\n",
        "Adding .\\140121\\140121_F2_C1\\PiezoSine_140121_F2_C1.csv: 30,28\n",
        "Adding .\\140121\\140121_F2_C1\\Sweep_140121_F2_C1.csv: 7,19"
       ]
      },
      {
       "output_type": "stream",
       "stream": "stdout",
       "text": [
        "\n",
        "Adding .\\140121\\140121_F2_C1\\VoltagePlateau_140121_F2_C1.csv: 6,26\n",
        "Adding .\\140122\\140122_F1_C1\\PiezoSine_140122_F1_C1.csv: 35,28\n",
        "Adding .\\140122\\140122_F1_C1\\Sweep_140122_F1_C1.csv: 2,19\n",
        "Adding .\\140122\\140122_F1_C1\\VoltagePlateau_140122_F1_C1.csv: 9,25"
       ]
      },
      {
       "output_type": "stream",
       "stream": "stdout",
       "text": [
        "\n",
        "Adding .\\140122\\140122_F2_C1\\CurrentStep_140122_F2_C1.csv: 10,24\n",
        "Adding .\\140122\\140122_F2_C1\\PiezoSine_140122_F2_C1.csv: 40,29\n",
        "Adding .\\140122\\140122_F2_C1\\PiezoStep_140122_F2_C1.csv: 30,25\n",
        "Adding .\\140122\\140122_F2_C1\\SealAndLeak_140122_F2_C1.csv: 1,22"
       ]
      },
      {
       "output_type": "stream",
       "stream": "stdout",
       "text": [
        "\n",
        "Adding .\\140122\\140122_F2_C1\\Sweep_140122_F2_C1.csv: 2,19\n",
        "Adding .\\140122\\140122_F2_C1\\VoltagePlateau_140122_F2_C1.csv: 6,25\n",
        "Adding .\\140122\\140122_F2_C2\\Sweep_140122_F2_C2.csv: 1,19\n",
        "Adding .\\140128\\140128_F1_C1\\CurrentStep_140128_F1_C1.csv: 15,24"
       ]
      },
      {
       "output_type": "stream",
       "stream": "stdout",
       "text": [
        "\n",
        "Adding .\\140128\\140128_F1_C1\\PiezoSine_140128_F1_C1.csv: 324,29\n",
        "Adding .\\140128\\140128_F1_C1\\PiezoStep_140128_F1_C1.csv: 60,25\n",
        "Adding .\\140128\\140128_F1_C1\\Sweep_140128_F1_C1.csv: 23,19"
       ]
      },
      {
       "output_type": "stream",
       "stream": "stdout",
       "text": [
        "\n",
        "Adding .\\140128\\140128_F1_C1\\VoltagePlateau_140128_F1_C1.csv: 6,25\n",
        "Adding .\\140131\\140131_F1_C1\\Sweep_140131_F1_C1.csv: 2,19\n",
        "Adding .\\140131\\140131_F2_C1\\Sweep_140131_F2_C1.csv: 1,19\n",
        "Adding .\\140131\\140131_F2_C1\\VoltagePlateau_140131_F2_C1.csv: 6,25"
       ]
      },
      {
       "output_type": "stream",
       "stream": "stdout",
       "text": [
        "\n",
        "Adding .\\140131\\140131_F3_C1\\CurrentStep_140131_F3_C1.csv: 70,24\n",
        "Adding .\\140131\\140131_F3_C1\\PiezoSine_140131_F3_C1.csv: 123,28\n",
        "Adding .\\140131\\140131_F3_C1\\PiezoSquareWave_140131_F3_C1.csv: 15,27"
       ]
      },
      {
       "output_type": "stream",
       "stream": "stdout",
       "text": [
        "\n",
        "Adding .\\140131\\140131_F3_C1\\PiezoStep_140131_F3_C1.csv: 60,25\n",
        "Adding .\\140131\\140131_F3_C1\\Sweep_140131_F3_C1.csv: 12,19\n",
        "Adding .\\140131\\140131_F3_C1\\VoltagePlateau_140131_F3_C1.csv: 6,26\n",
        "Adding .\\140205\\140205_F1_C1\\PiezoSine_140205_F1_C1.csv: 107,28"
       ]
      },
      {
       "output_type": "stream",
       "stream": "stdout",
       "text": [
        "\n",
        "Adding .\\140205\\140205_F1_C1\\PiezoSquareWave_140205_F1_C1.csv: 10,27\n",
        "Adding .\\140205\\140205_F1_C1\\PiezoStep_140205_F1_C1.csv: 60,25\n",
        "Adding .\\140205\\140205_F1_C1\\Sweep_140205_F1_C1.csv: 3,19"
       ]
      },
      {
       "output_type": "stream",
       "stream": "stdout",
       "text": [
        "\n",
        "Adding .\\140205\\140205_F1_C1\\VoltagePlateau_140205_F1_C1.csv: 6,26\n",
        "Adding .\\140206\\140206_F1_C1\\CurrentStep_140206_F1_C1.csv: 20,24\n",
        "Adding .\\140206\\140206_F1_C1\\PiezoSine_140206_F1_C1.csv: 113,28\n",
        "Adding .\\140206\\140206_F1_C1\\PiezoStep_140206_F1_C1.csv: 60,25"
       ]
      },
      {
       "output_type": "stream",
       "stream": "stdout",
       "text": [
        "\n",
        "Adding .\\140206\\140206_F1_C1\\Sweep_140206_F1_C1.csv: 3,19\n",
        "Adding .\\140206\\140206_F1_C1\\VoltagePlateau_140206_F1_C1.csv: 6,26\n",
        "Adding .\\140206\\140206_F2_C1\\PiezoSine_140206_F2_C1.csv: 2,28\n",
        "Adding .\\140206\\140206_F2_C1\\Sweep_140206_F2_C1.csv: 2,19"
       ]
      },
      {
       "output_type": "stream",
       "stream": "stdout",
       "text": [
        "\n",
        "Adding .\\140206\\140206_F3_C1\\Sweep_140206_F3_C1.csv: 2,19\n",
        "Adding .\\140207\\140207_F1_C1\\Sweep_140207_F1_C1.csv: 2,19\n",
        "Adding .\\140207\\140207_F1_C2\\PiezoSine_140207_F1_C2.csv: 74,28\n",
        "Adding .\\140207\\140207_F1_C2\\PiezoSquareWave_140207_F1_C2.csv: 10,27"
       ]
      },
      {
       "output_type": "stream",
       "stream": "stdout",
       "text": [
        "\n",
        "Adding .\\140207\\140207_F1_C2\\PiezoStep_140207_F1_C2.csv: 60,25\n",
        "Adding .\\140207\\140207_F1_C2\\Sweep_140207_F1_C2.csv: 2,19\n",
        "Adding .\\140207\\140207_F1_C2\\VoltagePlateau_140207_F1_C2.csv: 9,26\n",
        "Adding .\\140212\\140212_F1_C1\\PiezoCourtshipSong_140212_F1_C1.csv: 6,26"
       ]
      },
      {
       "output_type": "stream",
       "stream": "stdout",
       "text": [
        "\n",
        "Adding .\\140212\\140212_F1_C1\\PiezoSine_140212_F1_C1.csv: 132,28\n",
        "Adding .\\140212\\140212_F1_C1\\SealAndLeak_140212_F1_C1.csv: 8,22\n",
        "Adding .\\140212\\140212_F1_C1\\Sweep_140212_F1_C1.csv: 5,19"
       ]
      },
      {
       "output_type": "stream",
       "stream": "stdout",
       "text": [
        "\n",
        "Adding .\\140214\\140214_F1_C1\\PiezoChirp_140214_F1_C1.csv: 3,28\n",
        "Adding .\\140214\\140214_F1_C1\\PiezoSine_140214_F1_C1.csv: 458,28\n",
        "Adding .\\140214\\140214_F1_C1\\PiezoSquareWave_140214_F1_C1.csv: 5,27"
       ]
      },
      {
       "output_type": "stream",
       "stream": "stdout",
       "text": [
        "\n",
        "Adding .\\140214\\140214_F1_C1\\PiezoStep_140214_F1_C1.csv: 30,25\n",
        "Adding .\\140214\\140214_F1_C1\\SealAndLeak_140214_F1_C1.csv: 3,22\n",
        "Adding .\\140214\\140214_F1_C1\\Sweep_140214_F1_C1.csv: 8,19\n",
        "Adding .\\140214\\140214_F2_C1\\SealAndLeak_140214_F2_C1.csv: 2,22"
       ]
      },
      {
       "output_type": "stream",
       "stream": "stdout",
       "text": [
        "\n",
        "Adding .\\140218\\140218_F2_C2\\PiezoBWCourtshipSong_140218_F2_C2.csv: 9,26\n",
        "Adding .\\140218\\140218_F2_C2\\PiezoChirp_140218_F2_C2.csv: 3,28\n",
        "Adding .\\140218\\140218_F2_C2\\PiezoSine_140218_F2_C2.csv: 165,28\n",
        "Adding .\\140218\\140218_F2_C2\\PiezoSquareWave_140218_F2_C2.csv: 3,27"
       ]
      },
      {
       "output_type": "stream",
       "stream": "stdout",
       "text": [
        "\n",
        "Adding .\\140218\\140218_F2_C2\\PiezoStep_140218_F2_C2.csv: 30,25\n",
        "Adding .\\140218\\140218_F2_C2\\SealAndLeak_140218_F2_C2.csv: 2,22\n",
        "Adding .\\140218\\140218_F2_C2\\Sweep_140218_F2_C2.csv: 10,19\n",
        "Adding .\\140218\\140218_F3_C1\\PiezoChirp_140218_F3_C1.csv: 3,28"
       ]
      },
      {
       "output_type": "stream",
       "stream": "stdout",
       "text": [
        "\n",
        "Adding .\\140218\\140218_F3_C1\\PiezoSine_140218_F3_C1.csv: 165,28\n",
        "Adding .\\140218\\140218_F3_C1\\PiezoSquareWave_140218_F3_C1.csv: 3,27\n",
        "Adding .\\140218\\140218_F3_C1\\PiezoStep_140218_F3_C1.csv: 30,25"
       ]
      },
      {
       "output_type": "stream",
       "stream": "stdout",
       "text": [
        "\n",
        "Adding .\\140218\\140218_F3_C1\\SealAndLeak_140218_F3_C1.csv: 1,22\n",
        "Adding .\\140218\\140218_F3_C1\\Sweep_140218_F3_C1.csv: 5,19\n",
        "Adding .\\140219\\140219_F1_C1\\PiezoSine_140219_F1_C1.csv: 119,28\n",
        "Adding .\\140219\\140219_F1_C1\\PiezoStep_140219_F1_C1.csv: 30,25"
       ]
      },
      {
       "output_type": "stream",
       "stream": "stdout",
       "text": [
        "\n",
        "Adding .\\140219\\140219_F1_C1\\SealAndLeak_140219_F1_C1.csv: 4,22\n",
        "Adding .\\140219\\140219_F1_C1\\Sweep_140219_F1_C1.csv: 3,19\n",
        "Adding .\\140219\\140219_F3_C4\\PiezoBWCourtshipSong_140219_F3_C4.csv: 9,26\n",
        "Adding .\\140219\\140219_F3_C4\\PiezoChirp_140219_F3_C4.csv: 9,28"
       ]
      },
      {
       "output_type": "stream",
       "stream": "stdout",
       "text": [
        "\n",
        "Adding .\\140219\\140219_F3_C4\\PiezoCourtshipSong_140219_F3_C4.csv: 15,26\n",
        "Adding .\\140219\\140219_F3_C4\\PiezoSine_140219_F3_C4.csv: 179,28\n",
        "Adding .\\140219\\140219_F3_C4\\PiezoSquareWave_140219_F3_C4.csv: 3,27"
       ]
      },
      {
       "output_type": "stream",
       "stream": "stdout",
       "text": [
        "\n",
        "Adding .\\140219\\140219_F3_C4\\PiezoStep_140219_F3_C4.csv: 30,25\n",
        "Adding .\\140219\\140219_F3_C4\\SealAndLeak_140219_F3_C4.csv: 2,22\n",
        "Adding .\\140219\\140219_F3_C4\\Sweep_140219_F3_C4.csv: 3,19\n",
        "Adding .\\140311\\140311_F1_C1\\CurrentSine_140311_F1_C1.csv: 144,34"
       ]
      },
      {
       "output_type": "stream",
       "stream": "stdout",
       "text": [
        "\n",
        "Adding .\\140311\\140311_F1_C1\\SealAndLeak_140311_F1_C1.csv: 2,22\n",
        "Adding .\\140311\\140311_F1_C1\\Sweep_140311_F1_C1.csv: 3,25"
       ]
      },
      {
       "output_type": "stream",
       "stream": "stdout",
       "text": [
        "\n",
        "Adding .\\140403\\140403_F1_C1\\SealAndLeak_140403_F1_C1.csv: 2,22\n",
        "Adding .\\140403\\140403_F1_C1\\Sweep_140403_F1_C1.csv: 9,25\n",
        "Adding .\\140409\\140409_F1_C1\\CurrentSine_140409_F1_C1.csv: 36,33"
       ]
      },
      {
       "output_type": "stream",
       "stream": "stdout",
       "text": [
        "\n",
        "Adding .\\140415\\140415_F1_C1\\CurrentSine_140415_F1_C1.csv: 36,33\n",
        "Adding .\\140415\\140415_F1_C1\\CurrentStep_140415_F1_C1.csv: 48,30\n",
        "Adding .\\140417\\140417_F1_C1\\CurrentSine_140417_F1_C1.csv: 36,33"
       ]
      },
      {
       "output_type": "stream",
       "stream": "stdout",
       "text": [
        "\n",
        "Adding .\\140417\\140417_F1_C1\\CurrentStep_140417_F1_C1.csv: 116,30\n",
        "Adding .\\140417\\140417_F1_C1\\Sweep_140417_F1_C1.csv: 3,25\n",
        "Adding .\\140419\\140419_F1_C1\\CurrentSine_140419_F1_C1.csv: 108,33"
       ]
      },
      {
       "output_type": "stream",
       "stream": "stdout",
       "text": [
        "\n",
        "Adding .\\140419\\140419_F1_C1\\CurrentStep_140419_F1_C1.csv: 25,30\n",
        "Adding .\\140421\\140421_F1_C1\\CurrentSine_140421_F1_C1.csv: 108,33\n",
        "Adding .\\140421\\140421_F1_C1\\CurrentStep_140421_F1_C1.csv: 50,30"
       ]
      },
      {
       "output_type": "stream",
       "stream": "stdout",
       "text": [
        "\n",
        "Adding .\\140421\\140421_F1_C1\\Sweep_140421_F1_C1.csv: 3,25\n",
        "Adding .\\140422\\140422_F1_C1\\CurrentStep_140422_F1_C1.csv: 30,30\n",
        "Adding .\\140423\\140423_F1_C1\\CurrentStep_140423_F1_C1.csv: 35,30"
       ]
      },
      {
       "output_type": "stream",
       "stream": "stdout",
       "text": [
        "\n",
        "Adding .\\140424\\140424_F1_C1\\CurrentSine_140424_F1_C1.csv: 108,33\n",
        "Adding .\\140424\\140424_F1_C1\\CurrentStep_140424_F1_C1.csv: 65,30\n",
        "Adding .\\140424\\140424_F1_C2\\CurrentSine_140424_F1_C2.csv: 108,33"
       ]
      },
      {
       "output_type": "stream",
       "stream": "stdout",
       "text": [
        "\n",
        "Adding .\\140424\\140424_F1_C2\\CurrentStep_140424_F1_C2.csv: 134,30\n",
        "Adding .\\140428\\140428_F1_C1\\CurrentSine_140428_F1_C1.csv: 143,33"
       ]
      },
      {
       "output_type": "stream",
       "stream": "stdout",
       "text": [
        "\n",
        "Adding .\\140428\\140428_F1_C1\\CurrentStep_140428_F1_C1.csv: 26,30\n"
       ]
      }
     ],
     "prompt_number": 7
    },
    {
     "cell_type": "code",
     "collapsed": false,
     "input": [
      "paramidstr = parameterdb.idstr"
     ],
     "language": "python",
     "metadata": {},
     "outputs": [],
     "prompt_number": 20
    },
    {
     "cell_type": "code",
     "collapsed": false,
     "input": [
      "parameterdb_h = parameterdb.set_index(['genotype','datestr','flynumber','cellnumber','protocol','trialBlock','trial'])"
     ],
     "language": "python",
     "metadata": {},
     "outputs": [],
     "prompt_number": 11
    },
    {
     "cell_type": "code",
     "collapsed": false,
     "input": [
      "parameterdb_h"
     ],
     "language": "python",
     "metadata": {},
     "outputs": [
      {
       "metadata": {},
       "output_type": "pyout",
       "prompt_number": 12,
       "text": [
        "<class 'pandas.core.frame.DataFrame'>\n",
        "MultiIndex: 14977 entries, (;pJFRC7/[CyO];VT30609/[TM6b], 130729, 1, 1, SealAndLeak, nan, 1) to (GH86-Gal4/+;pJFRC7/+;VT34811/+, 140428, 1, 1, CurrentStep, 5.0, 26)\n",
        "Data columns (total 46 columns):\n",
        "Vm_id                 14910  non-null values\n",
        "amp                   1698  non-null values\n",
        "amps                  1698  non-null values\n",
        "combinedTrialBlock    548  non-null values\n",
        "cycleDurInSec         353  non-null values\n",
        "cycles                353  non-null values\n",
        "date                  1279  non-null values\n",
        "displFactor           1052  non-null values\n",
        "displacement          10384  non-null values\n",
        "displacementOffset    10384  non-null values\n",
        "displacements         9267  non-null values\n",
        "durSweep              14977  non-null values\n",
        "freq                  8632  non-null values\n",
        "freqEnd               18  non-null values\n",
        "freqStart             18  non-null values\n",
        "freqs                 8632  non-null values\n",
        "gain                  10943  non-null values\n",
        "gain_1                1374  non-null values\n",
        "gain_2                1374  non-null values\n",
        "idstr                 14977  non-null values\n",
        "mode                  13603  non-null values\n",
        "mode_1                1374  non-null values\n",
        "mode_2                1374  non-null values\n",
        "path                  14977  non-null values\n",
        "plateau               133  non-null values\n",
        "plateauDurInSec       133  non-null values\n",
        "plateaux              133  non-null values\n",
        "postDurInSec          13256  non-null values\n",
        "preDurInSec           13256  non-null values\n",
        "pulses                201  non-null values\n",
        "ramptime              8465  non-null values\n",
        "randomize             133  non-null values\n",
        "rawname               14977  non-null values\n",
        "repeats               1279  non-null values\n",
        "sampratein            14977  non-null values\n",
        "samprateout           14977  non-null values\n",
        "secondary_gain        9664  non-null values\n",
        "secondary_gain_1      1374  non-null values\n",
        "secondary_gain_2      1374  non-null values\n",
        "step                  1041  non-null values\n",
        "stepamp               201  non-null values\n",
        "stepdur               201  non-null values\n",
        "steps                 1041  non-null values\n",
        "stimDurInSec          13256  non-null values\n",
        "tags                  3138  non-null values\n",
        "timestamp             14977  non-null values\n",
        "dtypes: datetime64[ns](1), float64(27), int64(2), object(16)"
       ]
      }
     ],
     "prompt_number": 12
    },
    {
     "cell_type": "heading",
     "level": 1,
     "metadata": {},
     "source": [
      "Add GSPREAD data for each day"
     ]
    },
    {
     "cell_type": "code",
     "collapsed": false,
     "input": [
      "from IPython.core.display import HTML\n",
      "#HTML(\"<iframe src=http://burnash.github.io/gspread/ width=800 height=350></iframe>\")"
     ],
     "language": "python",
     "metadata": {},
     "outputs": [],
     "prompt_number": 140
    },
    {
     "cell_type": "code",
     "collapsed": false,
     "input": [
      "import gspread\n",
      "sheetclient = gspread.login('tazevedouwmail@gmail.com','udvvjgbqpsdkfkbz')\n",
      "Notebook = sheetclient.open('Lab Notebook')\n",
      "sheet = Notebook.sheet1\n",
      "#records = sheet.get_all_records()\n",
      "values_0 = sheet.get_all_values()"
     ],
     "language": "python",
     "metadata": {},
     "outputs": [],
     "prompt_number": 13
    },
    {
     "cell_type": "code",
     "collapsed": false,
     "input": [
      "import string\n",
      "\n",
      "values = copy.copy(values_0);\n",
      "headers = values.pop(0) # gives the headers as list and leaves data\n",
      "headers[1] = 'CellID'\n",
      "for ii in range(len(headers)):\n",
      "    headers[ii] = headers[ii].replace(' ','')\n",
      "    \n",
      "headers"
     ],
     "language": "python",
     "metadata": {},
     "outputs": [
      {
       "metadata": {},
       "output_type": "pyout",
       "prompt_number": 15,
       "text": [
        "['Timestamp',\n",
        " 'CellID',\n",
        " 'Genotype',\n",
        " 'Purpose',\n",
        " 'FlyAge',\n",
        " 'Drugs',\n",
        " 'Equipmentcheck',\n",
        " 'SaveProtocol',\n",
        " 'Plannedplaytime',\n",
        " 'PredictCell',\n",
        " 'Cleaning',\n",
        " 'Probeposition',\n",
        " 'Antennamovement',\n",
        " 'Additionalcleaningnotes',\n",
        " 'Targetcell',\n",
        " 'Electroderesistance(MOhms)',\n",
        " 'SealResistance',\n",
        " 'Patchingfailure',\n",
        " 'Rinput',\n",
        " 'RestingPotential',\n",
        " 'Holdingcurrent(-80mV)',\n",
        " 'Holdingcurrent(0mV)',\n",
        " 'Comments',\n",
        " 'Playtimeactivities',\n",
        " 'RecordArcLight',\n",
        " 'RecordAVLP',\n",
        " 'RecordLowFrequency',\n",
        " 'RecordMidFrequency',\n",
        " 'RecordMidFreqSpiking',\n",
        " 'RecordHighFreqDepol',\n",
        " 'RecordPairs',\n",
        " 'RecordCellAttached',\n",
        " 'RecordRogueCells',\n",
        " 'RecordNRSA',\n",
        " 'RecordConfocalimages',\n",
        " 'RecordIntrinsicproperties']"
       ]
      }
     ],
     "prompt_number": 15
    },
    {
     "cell_type": "code",
     "collapsed": false,
     "input": [
      "notebookDF = pd.DataFrame(values,columns = headers)\n",
      "def nbparse(d):\n",
      "    from dateutil.parser import parse\n",
      "    if d == '':\n",
      "        dt = None\n",
      "    else:\n",
      "        try: dt = parse(d)\n",
      "        except: \n",
      "            dt = None\n",
      "    return dt\n",
      "\n",
      "def idsplit(d):\n",
      "    d = d.replace('_','')\n",
      "    d = d.replace(' ','')\n",
      "    d = d.replace('F',' ')\n",
      "    d = d.replace('C',' ')\n",
      "    d = d.strip()\n",
      "    d = d.split(' ')\n",
      "\n",
      "    for ii in range(len(d)):\n",
      "        try: d[ii] = int(d[ii])\n",
      "        except:\n",
      "            continue\n",
      "    return d\n",
      "\n",
      "notebookDF.Timestamp = notebookDF.Timestamp.apply(nbparse)\n",
      "notebookDF.index = notebookDF.Timestamp\n",
      "notebookDF = notebookDF.drop([None],axis=0)\n",
      "notebookDF['CellID'] = notebookDF['CellID'].apply(idsplit)\n",
      "notebookDF['idstr'] = None\n",
      "for ix in range(notebookDF.shape[0]):\n",
      "    a = notebookDF.Timestamp[ix].isoformat()[2:10]\n",
      "    b = a.replace('-','') + '_F{}_C{}'\n",
      "    c = notebookDF.CellID[ix]\n",
      "    notebookDF.idstr[ix] = b.format(c[0],c[1])\n",
      "    \n",
      "notebookDF = notebookDF[['idstr',\n",
      "                        'Purpose',\n",
      "                        'FlyAge',\n",
      "                        'Drugs',\n",
      "                        'Comments',\n",
      "                        'RecordArcLight',\n",
      "                        'RecordAVLP',\n",
      "                        'RecordLowFrequency',\n",
      "                        'RecordMidFrequency',\n",
      "                        'RecordMidFreqSpiking',\n",
      "                        'RecordHighFreqDepol',\n",
      "                        'RecordPairs',\n",
      "                        'RecordCellAttached',\n",
      "                        'RecordRogueCells',\n",
      "                        'RecordNRSA',\n",
      "                        'RecordConfocalimages',\n",
      "                        'RecordIntrinsicproperties',\n",
      "                        ]]\n",
      "\n",
      "# replacenullstr = lambda x: x.max() - x.min()\n",
      "# stats.apply(stat_range)"
     ],
     "language": "python",
     "metadata": {},
     "outputs": [],
     "prompt_number": 17
    },
    {
     "cell_type": "code",
     "collapsed": false,
     "input": [
      "parameterdb2 = pd.merge(parameterdb,notebookDF, how = 'left',left_on = 'idstr', right_on = 'idstr')\n",
      "print parameterdb.shape\n",
      "# mergeddbidstr = parameterdb2.idstr\n",
      "print notebookDF.shape\n",
      "print parameterdb2.shape"
     ],
     "language": "python",
     "metadata": {},
     "outputs": [
      {
       "output_type": "stream",
       "stream": "stdout",
       "text": [
        "(14977, 53)\n",
        "(146, 17)\n",
        "(15360, 69)\n"
       ]
      }
     ],
     "prompt_number": 44
    },
    {
     "cell_type": "code",
     "collapsed": false,
     "input": [
      "pidstr = parameterdb.idstr\n",
      "nbidstr = notebookDF.idstr\n",
      "\n",
      "print len(pidstr)\n",
      "print len(nbidstr)\n",
      "\n",
      "nbset = set(nbidstr)\n",
      "pset = set(pidstr)\n",
      "\n",
      "nodata = nbset ^ pset\n",
      "len(nodata)"
     ],
     "language": "python",
     "metadata": {},
     "outputs": [
      {
       "output_type": "stream",
       "stream": "stdout",
       "text": [
        "14977\n",
        "146\n"
       ]
      },
      {
       "metadata": {},
       "output_type": "pyout",
       "prompt_number": 42,
       "text": [
        "59"
       ]
      }
     ],
     "prompt_number": 42
    },
    {
     "cell_type": "code",
     "collapsed": false,
     "input": [
      "purpose = set(parameterdb2.Purpose)\n",
      "print purpose"
     ],
     "language": "python",
     "metadata": {},
     "outputs": [
      {
       "output_type": "stream",
       "stream": "stdout",
       "text": [
        "set([nan, 'GH86-Gal4/+;pJFRC7/+;VT34811/+, paired recordings', 'GH86 - Sodium exchange', 'Diversity of whole-cell responses in B1 neurons of VT30609\\nTTX to see if evidence of piezo command is there', 'Trying to patch and fill that rogue cell, and to look for other cells that spike.', 'Looking for diversity in VT30609.  Still having trouble finding bright cells in this line.', 'GH86-Gal4', 'pJFRC7;VT27938, exploration, look for cells that respond to stimuli and spike!', 'GH86 -Gal4', 'Target cells in GH86, draw out the cells, see if I can hit particular ones with particular properties', 'GH 86 Gal 4/+; pJFRC7/+, Na exchange, confirm the behavior (spiking), quick stimulus sensitivity, then sodium exchange at rest.', 'VT30609/ArcLight.  Keep it rolling.  Why do I see this decrease?', 'VT30609/ ArclLight. ', 'GH86/+; pJFRC7/+, ', 'Pairs. Ipsilateral now.  Which means the trodes switched sides', 'VT30609/ArcLight.  1do fly.  Try to image the patching.', 'GH86-GFP just to get controls and to get the big spiker. ', 'VT30609/ArcLight.  Image break-in changes in fluorescence', 'GH86 exploration (no VT30609 flies)\\n', 'VT30609/ArcLight.  ', 'VT30609/ArcLight - try to image the resting membrane potential.  Cells are looking goodi9n young flies', 'far off cell that is likely to spike. See what it is doing.', 'GH86-Gal4/+;pJFRC7/+;VT34811/+', 'Pairs!', 'Can I see spikes in arclight VT30609', 'Trying to get to the cell to spike', 'GH86, more CA recordings', 'GH86-Gal4/+;pJFRC7/+.  Cell attached-', 'GH86-Gal4;pJFRC7;VT34811.  More piezo stimuli.  See if I find any other types of responses', 'VT30609/ArcLight. Break in in Voltage clamp @ -30mV', 'VT30609/ArcLight.  Got to stop the brain from moving!  Getting the muscles over the brain, keep trying that', 'Pairs', 'GH-86/+;ArcLight/[CyO].  \\nWhole cell current injections, trying to patch using the hamamatsu\\nAiming for Big Spiker in the GH86-Gal4;ArcLight; Line.  Trying to elicit single spikes while hyperpolarized and trying to patch with the Hamamatsu loaner camera.  \\nImage initial activity\\nImage spiking through hyperpolarization\\nImage single elicited spikes.  Apply TTX, Image single spikes\\nImage changes in flourescence through the CurrentPlateau protocol', 'VT30609 cell attached and camera ArcLight imaging attempts, with stimulation', 'GH86-Gal4/+;pJFRC7/+;VT34811/+, trying to find cells that respond to ~100Hz, with the hope of eventually being able to patch both big spiker and VT34811 cell', 'VT30609 far off cell that is likely to spike.  See what it is doing.', \"just to assure myself of the big spiker's spiking\", 'VT30609/ArcLight.  Get some!', 'GH86/+;pJFRC7/+ cell-attached recordings.', \"pJFRC7;GH86, I have not found a good fly lately, I'm looking for those and for cells that spike while using the AM-systems amp\", 'GH86;pJFRC7;VT34811.  Record third order cells with the piezo probe in place, try to get responses to antennal motion.', 'Pairs\\n', 'GH86 -Gal 4/+; pJFRC7, sodium exchange', \"GH298-mCD8:GFP.  I have to see cell-attached data to prove to Rachel that I'm getting it right\", 'GH86/+; pJFRC/+ cell-attached recordings while exchanging sodium.  Going after the big spiker each time', 'GH86-Gal4; TubGal80ts, UAS-Kir2.1.', '\"Diversity of whole-cell responses in B1 neurons of VT30609\\nTTX to see if evidence of piezo command is there\"', 'VT30609 pJFRC7.  Trying to patch and fill  that rogue cell, and to look for other cells that spike.', \"GH86 ArcLight experiemtns!  I'm going to get this today!\", 'VT30609 with Arista this time', 'VT45599 while the GH86 comes back online', 'GH86-Gal4;pJFRC7, one more day of whole cell recording.  still same phenomenology', 'VT30609/ArcLight.  Flourescence changes during break-in', 'Cell-attached recordings with GABA.  How much?  will I see spikes in Big Spiker', 'Cell attached recordings, GABA ', 'GH86;pJFRC7 trying to record green cells, identify spiking cells, what do the spikes look like', 'VT30609/ArcLight.  Success!  On friday.  Keep it up', 'Whole cell recordings from VT30609.  still have lots of hets\\nlooking for diversity in cell properties', 'GH86-Gal4/+; pJFRC7/+ - changing sodium concentrtions.  27mM today for the first cells', 'VT30609/ArcLight', '; pJFRC7; VT30609-Gal4; Cell attached recordings, trying to find the cell that was spiking on 072913.', 'VT30609/ArcLight.  Try a different break-in level.  -45mV', 'GH86; pJFRC7.  Recording Cell-attached spikes?  hopefully?'])\n"
       ]
      }
     ],
     "prompt_number": 98
    },
    {
     "cell_type": "heading",
     "level": 1,
     "metadata": {},
     "source": [
      "Write ParameterDB"
     ]
    },
    {
     "cell_type": "code",
     "collapsed": false,
     "input": [
      "from os.path import expanduser\n",
      "from os.path import join, getsize\n",
      "home = expanduser(\"~\")"
     ],
     "language": "python",
     "metadata": {},
     "outputs": [],
     "prompt_number": 93
    },
    {
     "cell_type": "code",
     "collapsed": false,
     "input": [
      "parameterdb2.to_json(path_or_buf = join(home,'Code','ParametersDB','ParametersDB.json'), orient = 'columns')"
     ],
     "language": "python",
     "metadata": {},
     "outputs": [],
     "prompt_number": 94
    },
    {
     "cell_type": "heading",
     "level": 1,
     "metadata": {},
     "source": [
      "Read ParameterDB"
     ]
    },
    {
     "cell_type": "code",
     "collapsed": false,
     "input": [
      "from os.path import expanduser\n",
      "from os.path import join, getsize\n",
      "home = expanduser(\"~\")\n",
      "\n",
      "parameterdb3 = pd.read_json(path_or_buf=join(home,'Code','ParametersDB','ParametersDB.json'), orient='columns', typ='frame',)"
     ],
     "language": "python",
     "metadata": {},
     "outputs": [],
     "prompt_number": 95
    },
    {
     "cell_type": "code",
     "collapsed": false,
     "input": [
      "parameterdb3\n",
      "purpose = set(parameterdb3.Purpose)\n",
      "print purpose"
     ],
     "language": "python",
     "metadata": {},
     "outputs": [
      {
       "metadata": {},
       "output_type": "pyout",
       "prompt_number": 99,
       "text": [
        "<class 'pandas.core.frame.DataFrame'>\n",
        "Int64Index: 15360 entries, 0 to 9999\n",
        "Data columns (total 69 columns):\n",
        "Comments                     13783  non-null values\n",
        "Drugs                        13783  non-null values\n",
        "FlyAge                       13783  non-null values\n",
        "Purpose                      13783  non-null values\n",
        "RecordAVLP                   13783  non-null values\n",
        "RecordArcLight               13783  non-null values\n",
        "RecordCellAttached           13783  non-null values\n",
        "RecordConfocalimages         13783  non-null values\n",
        "RecordHighFreqDepol          13783  non-null values\n",
        "RecordIntrinsicproperties    13783  non-null values\n",
        "RecordLowFrequency           13783  non-null values\n",
        "RecordMidFreqSpiking         13783  non-null values\n",
        "RecordMidFrequency           13783  non-null values\n",
        "RecordNRSA                   13783  non-null values\n",
        "RecordPairs                  13783  non-null values\n",
        "RecordRogueCells             13783  non-null values\n",
        "Vm_id                        15284  non-null values\n",
        "amp                          1734  non-null values\n",
        "amps                         1734  non-null values\n",
        "cellnumber                   15360  non-null values\n",
        "combinedTrialBlock           557  non-null values\n",
        "cycleDurInSec                363  non-null values\n",
        "cycles                       363  non-null values\n",
        "date                         1423  non-null values\n",
        "datestr                      15360  non-null values\n",
        "displFactor                  1117  non-null values\n",
        "displacement                 10658  non-null values\n",
        "displacementOffset           10658  non-null values\n",
        "displacements                9411  non-null values\n",
        "durSweep                     15360  non-null values\n",
        "flynumber                    15360  non-null values\n",
        "freq                         8832  non-null values\n",
        "freqEnd                      18  non-null values\n",
        "freqStart                    18  non-null values\n",
        "freqs                        8832  non-null values\n",
        "gain                         11242  non-null values\n",
        "gain_1                       1458  non-null values\n",
        "gain_2                       1458  non-null values\n",
        "genotype                     15360  non-null values\n",
        "idstr                        15360  non-null values\n",
        "mode                         13902  non-null values\n",
        "mode_1                       1458  non-null values\n",
        "mode_2                       1458  non-null values\n",
        "path                         15360  non-null values\n",
        "plateau                      142  non-null values\n",
        "plateauDurInSec              142  non-null values\n",
        "plateaux                     142  non-null values\n",
        "postDurInSec                 13623  non-null values\n",
        "preDurInSec                  13623  non-null values\n",
        "protocol                     15360  non-null values\n",
        "pulses                       205  non-null values\n",
        "ramptime                     8665  non-null values\n",
        "randomize                    142  non-null values\n",
        "rawname                      15360  non-null values\n",
        "repeats                      1423  non-null values\n",
        "sampratein                   15360  non-null values\n",
        "samprateout                  15360  non-null values\n",
        "secondary_gain               9819  non-null values\n",
        "secondary_gain_1             1458  non-null values\n",
        "secondary_gain_2             1458  non-null values\n",
        "step                         1089  non-null values\n",
        "stepamp                      205  non-null values\n",
        "stepdur                      205  non-null values\n",
        "steps                        1089  non-null values\n",
        "stimDurInSec                 13623  non-null values\n",
        "tags                         3140  non-null values\n",
        "timestamp                    15360  non-null values\n",
        "trial                        15360  non-null values\n",
        "trialBlock                   11832  non-null values\n",
        "dtypes: float64(27), int64(6), object(36)"
       ]
      }
     ],
     "prompt_number": 99
    },
    {
     "cell_type": "code",
     "collapsed": false,
     "input": [],
     "language": "python",
     "metadata": {},
     "outputs": []
    }
   ],
   "metadata": {}
  }
 ]
}